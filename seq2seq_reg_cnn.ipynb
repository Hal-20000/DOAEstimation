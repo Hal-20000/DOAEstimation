{
 "cells": [
  {
   "cell_type": "code",
   "execution_count": 1,
   "outputs": [],
   "source": [
    "\n",
    "\n",
    "# import keras.dtensor.optimizers\n",
    "#MATLABで作ったmatファイルを、matフォルダから読み取る\n",
    "#matファイルは、変数がいくつか保存してあり、それぞれの中身を確認する\n",
    "#matファイルの中身は、辞書型で保存されている\n",
    "#辞書型の中身を確認するには、matlab.engineを使う\n",
    "#matlab.engineを使うには、matlab.engineをインポートする必要がある\n",
    "\n",
    "# !pip install tensorflow===2.11.0\n",
    "\n",
    "# from tensorflow.python.client import device_lib\n",
    "# device_lib.list_local_devices()"
   ],
   "metadata": {
    "collapsed": false,
    "ExecuteTime": {
     "end_time": "2023-12-18T11:36:57.186712794Z",
     "start_time": "2023-12-18T11:36:57.184552775Z"
    }
   }
  },
  {
   "cell_type": "code",
   "execution_count": 2,
   "metadata": {
    "collapsed": false,
    "ExecuteTime": {
     "end_time": "2023-12-18T11:36:57.608901099Z",
     "start_time": "2023-12-18T11:36:57.189621644Z"
    }
   },
   "outputs": [],
   "source": [
    "#GPUを用いて、tensorflowを使ったseq2seq回帰LSTMモデルを作成する\n",
    "import pandas as pd\n",
    "# import tensorflow as tf\n",
    "import numpy as np\n",
    "import matplotlib.pyplot as plt\n",
    "import japanize_matplotlib\n",
    "import scipy.io\n"
   ]
  },
  {
   "cell_type": "code",
   "execution_count": 3,
   "outputs": [
    {
     "name": "stderr",
     "output_type": "stream",
     "text": [
      "2023-12-18 20:36:57.735294: I tensorflow/core/platform/cpu_feature_guard.cc:182] This TensorFlow binary is optimized to use available CPU instructions in performance-critical operations.\n",
      "To enable the following instructions: AVX2 FMA, in other operations, rebuild TensorFlow with the appropriate compiler flags.\n",
      "2023-12-18 20:36:58.211686: W tensorflow/compiler/tf2tensorrt/utils/py_utils.cc:38] TF-TRT Warning: Could not find TensorRT\n"
     ]
    },
    {
     "name": "stdout",
     "output_type": "stream",
     "text": [
      "Num GPUs Available:  1\n"
     ]
    },
    {
     "name": "stderr",
     "output_type": "stream",
     "text": [
      "2023-12-18 20:36:58.679514: I tensorflow/compiler/xla/stream_executor/cuda/cuda_gpu_executor.cc:996] successful NUMA node read from SysFS had negative value (-1), but there must be at least one NUMA node, so returning NUMA node zero. See more at https://github.com/torvalds/linux/blob/v6.0/Documentation/ABI/testing/sysfs-bus-pci#L344-L355\n",
      "2023-12-18 20:36:58.700790: I tensorflow/compiler/xla/stream_executor/cuda/cuda_gpu_executor.cc:996] successful NUMA node read from SysFS had negative value (-1), but there must be at least one NUMA node, so returning NUMA node zero. See more at https://github.com/torvalds/linux/blob/v6.0/Documentation/ABI/testing/sysfs-bus-pci#L344-L355\n",
      "2023-12-18 20:36:58.700992: I tensorflow/compiler/xla/stream_executor/cuda/cuda_gpu_executor.cc:996] successful NUMA node read from SysFS had negative value (-1), but there must be at least one NUMA node, so returning NUMA node zero. See more at https://github.com/torvalds/linux/blob/v6.0/Documentation/ABI/testing/sysfs-bus-pci#L344-L355\n"
     ]
    }
   ],
   "source": [
    "import tensorflow as tf\n",
    "print(\"Num GPUs Available: \", len(tf.config.list_physical_devices('GPU')))"
   ],
   "metadata": {
    "collapsed": false,
    "ExecuteTime": {
     "end_time": "2023-12-18T11:36:58.704780455Z",
     "start_time": "2023-12-18T11:36:57.637836896Z"
    }
   }
  },
  {
   "cell_type": "code",
   "execution_count": 4,
   "outputs": [
    {
     "data": {
      "text/plain": "dict_keys(['__header__', '__version__', '__globals__', 'Num_tx', 'R_xx', 'R_xx_after_Noise', 'R_xx_exist_Noise', 'SNR_dB', 'fs', 'inputVec', 'label', 'noise', 's_t', 'sigmaX2', 'stter_vec', 't', 'x'])"
     },
     "execution_count": 4,
     "metadata": {},
     "output_type": "execute_result"
    }
   ],
   "source": [
    "#データの読み込み\n",
    "mat_file = 'mat/60_sin_1period_bpsk_2signal.mat'\n",
    "data = scipy.io.loadmat(mat_file)\n",
    "\n",
    "#matファイルの中身の変数名を確認する\n",
    "\n",
    "data.keys()"
   ],
   "metadata": {
    "collapsed": false,
    "ExecuteTime": {
     "end_time": "2023-12-18T11:36:59.051156668Z",
     "start_time": "2023-12-18T11:36:58.705766963Z"
    }
   }
  },
  {
   "cell_type": "code",
   "execution_count": 5,
   "metadata": {
    "collapsed": false,
    "ExecuteTime": {
     "end_time": "2023-12-18T11:36:59.058584961Z",
     "start_time": "2023-12-18T11:36:59.054435414Z"
    }
   },
   "outputs": [
    {
     "name": "stdout",
     "output_type": "stream",
     "text": [
      "(10, 10, 1000)\n",
      "(1000, 101)\n",
      "(1000, 2)\n",
      "(10, 10, 1000)\n",
      "(10, 10, 1000)\n",
      "(10, 10, 1000, 2)\n"
     ]
    },
    {
     "data": {
      "text/plain": "array([ 0., 30.])"
     },
     "execution_count": 5,
     "metadata": {},
     "output_type": "execute_result"
    }
   ],
   "source": [
    "a = data['R_xx']\n",
    "# a = data['R_xx_exist_Noise']\n",
    "b = data['inputVec']\n",
    "c = data['label']\n",
    "\n",
    "# d=data['sigmaX2']\n",
    "# e=data['t']\n",
    "#matに保存した変数の呼び出し\n",
    "#a,b,cの次元数を確認する\n",
    "print(a.shape)\n",
    "print(b.shape)\n",
    "print(c.shape)\n",
    "\n",
    "#共分散行列\n",
    "R = a\n",
    "\n",
    "\n",
    "# #入力信号の電力\n",
    "# sigmax2=d\n",
    "# #スナップショット数\n",
    "# t=e\n",
    "\n",
    "#実数部と虚数部(虚数単位jは外す)に分ける関数\n",
    "def split_complex(x):\n",
    "    real = np.real(x)\n",
    "    imag = np.imag(x)\n",
    "    return real, imag\n",
    "\n",
    "\n",
    "#実数部と虚数部に分ける\n",
    "real, imag = split_complex(R)\n",
    "\n",
    "#実数部と虚数部の次元数を確認する\n",
    "print(real.shape)\n",
    "print(imag.shape)\n",
    "\n",
    "#実数部と虚数部を結合し、四次元配列に変換する\n",
    "R = np.stack([real, imag], axis=3)\n",
    "\n",
    "#Rの次元数を確認する\n",
    "print(R.shape)\n",
    "\n",
    "#Rはx(t)=As(t)+n(t)という信号モデルの共分散行列(Rはx(t)の複素共役転置の期待値)である（Aは方向行列、s(t)は入力信号、n(t)はガウス雑音）\n",
    "#Rには、本来Aとs(t)とn(t)の情報が含まれているが、今回はn(t)を含まない\n",
    "#Rにn(t)を乗せる処理を書く\n",
    "#SNRを定義する\n",
    "SNR = np.empty((1, 1))\n",
    "np.append(SNR, 30)\n",
    "\n",
    "#送信電力とSNRから雑音電力を求める\n",
    "#送信電力は、sigmaX2である\n",
    "#雑音電力は、sigmaN2である\n",
    "# def calculate_noise_covariance(sigmaX2, SNR, t, R):\n",
    "#     # 送信電力から雑音電力を計算する\n",
    "#     # sigman2 = np.divide(sigmaX2, (10**(SNR/10)))\n",
    "#     #\n",
    "#     # # sigmaN2を表示する\n",
    "#     # print(sigman2)\n",
    "#     #\n",
    "#     # # ガウス分布に従う雑音n(t)を生成する\n",
    "#     # noise = np.sqrt(sigman2/2) * (np.random.randn(len(t),len(R[:,0,0,0])) + 1j*np.random.randn(len(t),len(R[:,0,0,0])))\n",
    "#     #\n",
    "#     # # n(t)の次元数を確認する\n",
    "#     # print(noise.shape)\n",
    "#\n",
    "#     # # n(t)の共分散行列を求める\n",
    "#     # N = np.dot(np.conj(noise).T, noise)\n",
    "#     # N = N / len(t)\n",
    "#     #\n",
    "#     # # Nの次元数を確認する\n",
    "#     # print(\"R_n\", N.shape)\n",
    "#\n",
    "#     # Nの実部と虚部を分割する\n",
    "#     real, imag = np.real(N), np.imag(N)\n",
    "#\n",
    "#     # Nを結合して次元数を確認する\n",
    "#     N = np.stack([real, imag], axis=2)\n",
    "#     print(\"R_n\", N.shape)\n",
    "#\n",
    "#     return N\n",
    "\n",
    "\n"
   ]
  },
  {
   "cell_type": "code",
   "execution_count": 6,
   "metadata": {
    "collapsed": false,
    "ExecuteTime": {
     "end_time": "2023-12-18T11:36:59.133531672Z",
     "start_time": "2023-12-18T11:36:59.058474513Z"
    }
   },
   "outputs": [
    {
     "data": {
      "text/plain": "<Figure size 640x480 with 1 Axes>",
      "image/png": "[encoded data removed]"
     },
     "metadata": {},
     "output_type": "display_data"
    }
   ],
   "source": [
    "#tensorflowを使ったseq2seq回帰LSTMモデルを作成する\n",
    "\n",
    "#matファイルで読み込んだinputVecとlabelからデータセットを作成する\n",
    "#データセットは、inputVecとlabelの組み合わせで、入力と出力を作成する\n",
    "X = R\n",
    "Y = c\n",
    "\n",
    "#Yをプロットする\n",
    "plt.plot(Y)\n",
    "plt.show()\n"
   ]
  },
  {
   "cell_type": "code",
   "execution_count": 7,
   "metadata": {
    "collapsed": false,
    "ExecuteTime": {
     "end_time": "2023-12-18T11:36:59.689186061Z",
     "start_time": "2023-12-18T11:36:59.135055843Z"
    }
   },
   "outputs": [],
   "source": [
    "#データセットを標準化する\n",
    "\n",
    "#時系列画像データの標準化をする\n",
    "#標準化すると、平均が0、標準偏差が1になる\n",
    "\n",
    "from sklearn.preprocessing import StandardScaler\n",
    "\n",
    "for j in range(X.shape[2]):\n",
    "    for i in range(X.shape[3]):\n",
    "        # シートごとのデータを抽出\n",
    "        sheet_data = X[:, :, j, i]\n",
    "\n",
    "        # 標準化器を作成し、データを標準化\n",
    "        scaler = StandardScaler()\n",
    "        sheet_data_standardized = scaler.fit_transform(sheet_data)\n",
    "\n",
    "        # 標準化されたデータを元の配列に戻す\n",
    "        X[:, :, j, i] = sheet_data_standardized\n",
    "\n"
   ]
  },
  {
   "cell_type": "code",
   "execution_count": 8,
   "metadata": {
    "collapsed": false,
    "ExecuteTime": {
     "end_time": "2023-12-18T11:37:00.186496576Z",
     "start_time": "2023-12-18T11:36:59.689662308Z"
    }
   },
   "outputs": [
    {
     "name": "stdout",
     "output_type": "stream",
     "text": [
      "(10, 10, 1000, 2)\n"
     ]
    }
   ],
   "source": [
    "#データセットの特徴量の値の大部分が同じデータのみの場合にその行（もしくは列）を削除する\n",
    "\n",
    "from sklearn.feature_selection import VarianceThreshold\n",
    "\n",
    "for j in range(X.shape[2]):\n",
    "    for i in range(X.shape[3]):\n",
    "        sheet_data = X[:, :, j, i]  # シートごとのデータを抽出\n",
    "\n",
    "        # VarianceThresholdを適用して行（もしくは列）を削除\n",
    "        selector = VarianceThreshold()\n",
    "        sheet_data_selected = selector.fit_transform(sheet_data)\n",
    "\n",
    "        # 削除後のデータを元の配列に戻す\n",
    "        if sheet_data_selected.ndim == 1:\n",
    "            sheet_data_selected = sheet_data_selected.reshape(-1, 1)\n",
    "        X[:, :, j, i] = sheet_data_selected\n",
    "\n",
    "print(X.shape)"
   ]
  },
  {
   "cell_type": "code",
   "execution_count": 9,
   "metadata": {
    "collapsed": false,
    "ExecuteTime": {
     "end_time": "2023-12-18T11:37:00.188695167Z",
     "start_time": "2023-12-18T11:37:00.187189411Z"
    }
   },
   "outputs": [
    {
     "name": "stdout",
     "output_type": "stream",
     "text": [
      "(1000, 10, 10, 2)\n"
     ]
    }
   ],
   "source": [
    "#Xを3次元配列に変換する\n",
    "X = np.reshape(X, (X.shape[2], X.shape[0], X.shape[1], X.shape[3]))\n",
    "\n",
    "print(X.shape)\n",
    "\n"
   ]
  },
  {
   "cell_type": "code",
   "execution_count": 10,
   "metadata": {
    "collapsed": false,
    "ExecuteTime": {
     "end_time": "2023-12-18T11:37:00.194943347Z",
     "start_time": "2023-12-18T11:37:00.191431612Z"
    }
   },
   "outputs": [
    {
     "name": "stdout",
     "output_type": "stream",
     "text": [
      "(800, 10, 10, 2)\n",
      "(100, 10, 10, 2)\n",
      "(100, 10, 10, 2)\n",
      "(800, 2)\n",
      "(100, 2)\n",
      "(100, 2)\n"
     ]
    }
   ],
   "source": [
    "from sklearn.model_selection import train_test_split\n",
    "\n",
    "#学習データセットと検証データセットとテストデータセットの分割割合を変数で指定する\n",
    "train_size = 0.8\n",
    "val_size = 0.1\n",
    "test_size = 0.1\n",
    "\n",
    "#学習データセットと検証データセットとテストデータセットを分割する(シャッフルはしない)\n",
    "XTrain, XTest, YTrain, YTest = train_test_split(X, Y, test_size=1 - train_size, shuffle=False)\n",
    "XVal, XTest, YVal, YTest = train_test_split(XTest, YTest, test_size=test_size / (test_size + val_size), shuffle=False)\n",
    "\n",
    "#学習データセットと検証データセットとテストデータセットの次元数を確認する\n",
    "print(XTrain.shape)\n",
    "print(XVal.shape)\n",
    "print(XTest.shape)\n",
    "print(YTrain.shape)\n",
    "print(YVal.shape)\n",
    "print(YTest.shape)\n",
    "\n",
    "#入力の次元はそれぞれ(サンプル数、タイムステップ数、特徴量)である\n",
    "#Xの2番目の次元と3番目の次元を入れ替える\n",
    "XTrain = np.swapaxes(XTrain, 1, 2)\n",
    "XVal = np.swapaxes(XVal, 1, 2)\n",
    "XTest = np.swapaxes(XTest, 1, 2)\n"
   ]
  },
  {
   "cell_type": "code",
   "execution_count": 11,
   "metadata": {
    "collapsed": false,
    "ExecuteTime": {
     "end_time": "2023-12-18T11:37:00.196077113Z",
     "start_time": "2023-12-18T11:37:00.194319702Z"
    }
   },
   "outputs": [
    {
     "name": "stdout",
     "output_type": "stream",
     "text": [
      "2.12.1\n"
     ]
    }
   ],
   "source": [
    "#GPUを使ったLSTMmodelの作成\n",
    "\n",
    "#tensorflowのバージョンを確認する\n",
    "print(tf.__version__)\n"
   ]
  },
  {
   "cell_type": "code",
   "execution_count": 12,
   "metadata": {
    "collapsed": false,
    "ExecuteTime": {
     "end_time": "2023-12-18T11:37:00.243889759Z",
     "start_time": "2023-12-18T11:37:00.241933264Z"
    }
   },
   "outputs": [],
   "source": [
    "# from tensorflow.python.keras.models import Sequential\n",
    "# from tensorflow.python.keras import layers\n",
    "# from tensorflow.python.keras import optimizers\n",
    "# from tensorflow.python.keras.callbacks import ReduceLROnPlateau\n",
    "# # from tensorflow.python.keras.callbacks import TensorBoard\n",
    "\n",
    "from tensorflow.keras.models import Sequential\n",
    "from tensorflow.keras import layers\n",
    "from tensorflow.keras import optimizers\n",
    "from tensorflow.keras.callbacks import ReduceLROnPlateau\n",
    "from tensorflow.keras.callbacks import TensorBoard\n",
    "\n",
    "\n",
    "import tensorflow as tf\n"
   ]
  },
  {
   "cell_type": "code",
   "execution_count": 13,
   "metadata": {
    "collapsed": false,
    "ExecuteTime": {
     "end_time": "2023-12-18T11:37:00.244357690Z",
     "start_time": "2023-12-18T11:37:00.242073728Z"
    }
   },
   "outputs": [],
   "source": [
    "# # TensorFlowの設定を変更\n",
    "# gpus = tf.config.experimental.list_physical_devices('GPU')\n",
    "# if gpus:\n",
    "#     try:\n",
    "#         # GPUメモリを必要に応じて割り当てるように設定\n",
    "#         for gpu in gpus:\n",
    "#             tf.config.experimental.set_memory_growth(gpu, True)\n",
    "#     except RuntimeError as e:\n",
    "#         print(e)"
   ]
  },
  {
   "cell_type": "code",
   "execution_count": 14,
   "metadata": {
    "collapsed": false,
    "ExecuteTime": {
     "end_time": "2023-12-18T11:37:00.244897026Z",
     "start_time": "2023-12-18T11:37:00.242139722Z"
    }
   },
   "outputs": [
    {
     "data": {
      "text/plain": "[PhysicalDevice(name='/physical_device:GPU:0', device_type='GPU')]"
     },
     "execution_count": 14,
     "metadata": {},
     "output_type": "execute_result"
    }
   ],
   "source": [
    "tf.config.list_physical_devices('GPU')"
   ]
  },
  {
   "cell_type": "markdown",
   "source": [],
   "metadata": {
    "collapsed": false
   }
  },
  {
   "cell_type": "code",
   "execution_count": 15,
   "metadata": {
    "collapsed": false,
    "ExecuteTime": {
     "end_time": "2023-12-18T11:37:00.681099149Z",
     "start_time": "2023-12-18T11:37:00.242205446Z"
    }
   },
   "outputs": [
    {
     "name": "stdout",
     "output_type": "stream",
     "text": [
      "(10, 10, 2)\n"
     ]
    },
    {
     "name": "stderr",
     "output_type": "stream",
     "text": [
      "2023-12-18 20:37:00.212042: I tensorflow/compiler/xla/stream_executor/cuda/cuda_gpu_executor.cc:996] successful NUMA node read from SysFS had negative value (-1), but there must be at least one NUMA node, so returning NUMA node zero. See more at https://github.com/torvalds/linux/blob/v6.0/Documentation/ABI/testing/sysfs-bus-pci#L344-L355\n",
      "2023-12-18 20:37:00.212249: I tensorflow/compiler/xla/stream_executor/cuda/cuda_gpu_executor.cc:996] successful NUMA node read from SysFS had negative value (-1), but there must be at least one NUMA node, so returning NUMA node zero. See more at https://github.com/torvalds/linux/blob/v6.0/Documentation/ABI/testing/sysfs-bus-pci#L344-L355\n",
      "2023-12-18 20:37:00.212391: I tensorflow/compiler/xla/stream_executor/cuda/cuda_gpu_executor.cc:996] successful NUMA node read from SysFS had negative value (-1), but there must be at least one NUMA node, so returning NUMA node zero. See more at https://github.com/torvalds/linux/blob/v6.0/Documentation/ABI/testing/sysfs-bus-pci#L344-L355\n",
      "2023-12-18 20:37:00.269387: I tensorflow/compiler/xla/stream_executor/cuda/cuda_gpu_executor.cc:996] successful NUMA node read from SysFS had negative value (-1), but there must be at least one NUMA node, so returning NUMA node zero. See more at https://github.com/torvalds/linux/blob/v6.0/Documentation/ABI/testing/sysfs-bus-pci#L344-L355\n",
      "2023-12-18 20:37:00.269568: I tensorflow/compiler/xla/stream_executor/cuda/cuda_gpu_executor.cc:996] successful NUMA node read from SysFS had negative value (-1), but there must be at least one NUMA node, so returning NUMA node zero. See more at https://github.com/torvalds/linux/blob/v6.0/Documentation/ABI/testing/sysfs-bus-pci#L344-L355\n",
      "2023-12-18 20:37:00.269724: I tensorflow/compiler/xla/stream_executor/cuda/cuda_gpu_executor.cc:996] successful NUMA node read from SysFS had negative value (-1), but there must be at least one NUMA node, so returning NUMA node zero. See more at https://github.com/torvalds/linux/blob/v6.0/Documentation/ABI/testing/sysfs-bus-pci#L344-L355\n",
      "2023-12-18 20:37:00.269845: I tensorflow/core/common_runtime/gpu/gpu_device.cc:1635] Created device /job:localhost/replica:0/task:0/device:GPU:0 with 1111 MB memory:  -> device: 0, name: NVIDIA RTX A4000, pci bus id: 0000:08:00.0, compute capability: 8.6\n",
      "2023-12-18 20:37:00.443229: I tensorflow/core/common_runtime/executor.cc:1197] [/device:CPU:0] (DEBUG INFO) Executor start aborting (this does not indicate an error and you can ignore this message): INVALID_ARGUMENT: You must feed a value for placeholder tensor 'gradients/split_2_grad/concat/split_2/split_dim' with dtype int32\n",
      "\t [[{{node gradients/split_2_grad/concat/split_2/split_dim}}]]\n",
      "2023-12-18 20:37:00.443867: I tensorflow/core/common_runtime/executor.cc:1197] [/device:CPU:0] (DEBUG INFO) Executor start aborting (this does not indicate an error and you can ignore this message): INVALID_ARGUMENT: You must feed a value for placeholder tensor 'gradients/split_grad/concat/split/split_dim' with dtype int32\n",
      "\t [[{{node gradients/split_grad/concat/split/split_dim}}]]\n",
      "2023-12-18 20:37:00.444454: I tensorflow/core/common_runtime/executor.cc:1197] [/device:CPU:0] (DEBUG INFO) Executor start aborting (this does not indicate an error and you can ignore this message): INVALID_ARGUMENT: You must feed a value for placeholder tensor 'gradients/split_1_grad/concat/split_1/split_dim' with dtype int32\n",
      "\t [[{{node gradients/split_1_grad/concat/split_1/split_dim}}]]\n",
      "2023-12-18 20:37:00.545942: I tensorflow/core/common_runtime/executor.cc:1197] [/device:CPU:0] (DEBUG INFO) Executor start aborting (this does not indicate an error and you can ignore this message): INVALID_ARGUMENT: You must feed a value for placeholder tensor 'gradients/split_2_grad/concat/split_2/split_dim' with dtype int32\n",
      "\t [[{{node gradients/split_2_grad/concat/split_2/split_dim}}]]\n",
      "2023-12-18 20:37:00.546703: I tensorflow/core/common_runtime/executor.cc:1197] [/device:CPU:0] (DEBUG INFO) Executor start aborting (this does not indicate an error and you can ignore this message): INVALID_ARGUMENT: You must feed a value for placeholder tensor 'gradients/split_grad/concat/split/split_dim' with dtype int32\n",
      "\t [[{{node gradients/split_grad/concat/split/split_dim}}]]\n",
      "2023-12-18 20:37:00.547286: I tensorflow/core/common_runtime/executor.cc:1197] [/device:CPU:0] (DEBUG INFO) Executor start aborting (this does not indicate an error and you can ignore this message): INVALID_ARGUMENT: You must feed a value for placeholder tensor 'gradients/split_1_grad/concat/split_1/split_dim' with dtype int32\n",
      "\t [[{{node gradients/split_1_grad/concat/split_1/split_dim}}]]\n",
      "2023-12-18 20:37:00.647297: I tensorflow/core/common_runtime/executor.cc:1197] [/device:CPU:0] (DEBUG INFO) Executor start aborting (this does not indicate an error and you can ignore this message): INVALID_ARGUMENT: You must feed a value for placeholder tensor 'gradients/split_2_grad/concat/split_2/split_dim' with dtype int32\n",
      "\t [[{{node gradients/split_2_grad/concat/split_2/split_dim}}]]\n",
      "2023-12-18 20:37:00.647926: I tensorflow/core/common_runtime/executor.cc:1197] [/device:CPU:0] (DEBUG INFO) Executor start aborting (this does not indicate an error and you can ignore this message): INVALID_ARGUMENT: You must feed a value for placeholder tensor 'gradients/split_grad/concat/split/split_dim' with dtype int32\n",
      "\t [[{{node gradients/split_grad/concat/split/split_dim}}]]\n",
      "2023-12-18 20:37:00.648522: I tensorflow/core/common_runtime/executor.cc:1197] [/device:CPU:0] (DEBUG INFO) Executor start aborting (this does not indicate an error and you can ignore this message): INVALID_ARGUMENT: You must feed a value for placeholder tensor 'gradients/split_1_grad/concat/split_1/split_dim' with dtype int32\n",
      "\t [[{{node gradients/split_1_grad/concat/split_1/split_dim}}]]\n"
     ]
    }
   ],
   "source": [
    "from tensorflow.keras.callbacks import EarlyStopping\n",
    "\n",
    "#モデルの層の作成(cudNNLSTM層を使用するためのインポート)\n",
    "# from tensorflow.keras.layers import \n",
    "\n",
    "print((XTrain.shape[1:]))\n",
    "\n",
    "\n",
    "\n",
    "hidden_units = 128\n",
    "# 入力データの形状\n",
    "# データの形状\n",
    "input_shape = (X.shape[1], X.shape[2], X.shape[3])\n",
    "time_steps = X.shape[0]\n",
    "output_units = 2  # 回帰問題なので出力のユニット数は1\n",
    "\n",
    "## モデルの定義\n",
    "model = Sequential()\n",
    "\n",
    "# 入力を(timesteps, height, width, channels)の形状に変形する\n",
    "# model.add(layers.Reshape((time_steps, image_height, image_width, channels), input_shape=(X.shape)))\n",
    "\n",
    "# 畳み込み層1\n",
    "model.add(layers.Conv2D(filters=64, kernel_size=(3, 3), activation='relu', padding='same', input_shape=input_shape))\n",
    "\n",
    "# batch_normalization\n",
    "# model.add(normalization.normalization())\n",
    "\n",
    "#relu\n",
    "# model.add(layers.Activation('relu'))\n",
    "\n",
    "#プーリング層\n",
    "# model.add(layers.MaxPooling2D(pool_size=(2, 2)))\n",
    "\n",
    "# 畳み込み層2\n",
    "model.add(layers.Conv2D(filters=32, kernel_size=(3, 3), activation='relu', padding='same'))\n",
    "\n",
    "# batch_normalization\n",
    "model.add(layers.Conv2D(filters=16, kernel_size=(3, 3), activation='relu', padding='same'))\n",
    "\n",
    "#relu\n",
    "# model.add(layers.Activation('relu'))\n",
    "\n",
    "#プーリング層\n",
    "model.add(layers.MaxPooling2D(pool_size=(2, 2)))\n",
    "\n",
    "# LSTM層に入力するために畳み込み層の出力を形状変換する\n",
    "model.add(layers.Reshape((-1, 16)))\n",
    "\n",
    "# LSTM層\n",
    "model.add(layers.LSTM(units=hidden_units, return_sequences=True))\n",
    "model.add(layers.LSTM(units=hidden_units, return_sequences=True))\n",
    "model.add(layers.LSTM(units=hidden_units, return_sequences=True))\n",
    "# 全結合層\n",
    "model.add(layers.Dense(units=output_units))\n",
    "\n",
    "\n",
    "early_stopping = EarlyStopping(\n",
    "                        monitor='val_loss',\n",
    "                        min_delta=0.0,\n",
    "                        patience=10,\n",
    "                )\n",
    "\n",
    "# val_lossの改善が2エポック見られなかったら、学習率を0.5倍する。\n",
    "reduce_lr = ReduceLROnPlateau(\n",
    "                        monitor='val_loss',\n",
    "                        factor=0.99,\n",
    "                        patience=10,\n",
    "                        min_lr=0.0001\n",
    "                )\n",
    "\n",
    "learning_rate = 0.01\n",
    "opt = optimizers.Adam(learning_rate=learning_rate)\n",
    "\n",
    "\n",
    "# opt = optimizers.adagrad_v2.Adagrad(learning_rate=learning_rate)\n",
    "# コンパイル時にオプティマイザを指定する(損失関数はMSE、評価関数はRMSEをカスタムで実装)\n",
    "\n",
    "loss_func = tf.keras.losses.MeanSquaredError(\n",
    "    reduction='auto', name='mean_squared_error'\n",
    ")\n",
    "\n",
    "eval_func = tf.keras.metrics.RootMeanSquaredError(\n",
    "    name='root_mean_squared_error', dtype=None\n",
    ")\n",
    "\n",
    "model.compile(loss=loss_func, optimizer=opt, metrics=eval_func)\n",
    "\n",
    "\n"
   ]
  },
  {
   "cell_type": "code",
   "execution_count": 16,
   "metadata": {
    "collapsed": false,
    "ExecuteTime": {
     "end_time": "2023-12-18T11:37:00.726210858Z",
     "start_time": "2023-12-18T11:37:00.682139068Z"
    }
   },
   "outputs": [],
   "source": [
    "import shutil\n",
    "import os\n",
    "\n",
    "path1 = 'logs/train'\n",
    "path2 = 'logs/validation'\n",
    "\n",
    "# ログファイルを削除\n",
    "if os.path.exists('logs/train'):\n",
    "    shutil.rmtree(path1)\n",
    "if os.path.exists('logs/validation'):\n",
    "    shutil.rmtree(path2)\n",
    "\n",
    "# TensorBoardコールバックを作成\n",
    "tensorboard = tf.keras.callbacks.TensorBoard(log_dir='./logs')\n",
    "#plotをlocalhostで表示\n",
    "\n",
    "#ターミナルにコマンドを打つ\n",
    "# tensorboard --logdir logs\n"
   ]
  },
  {
   "cell_type": "code",
   "execution_count": 17,
   "metadata": {
    "collapsed": false,
    "ExecuteTime": {
     "end_time": "2023-12-18T11:37:03.787549331Z",
     "start_time": "2023-12-18T11:37:00.725885194Z"
    }
   },
   "outputs": [
    {
     "name": "stdout",
     "output_type": "stream",
     "text": [
      "Epoch 1/100\n"
     ]
    },
    {
     "name": "stderr",
     "output_type": "stream",
     "text": [
      "2023-12-18 20:37:00.841235: I tensorflow/core/common_runtime/executor.cc:1197] [/device:CPU:0] (DEBUG INFO) Executor start aborting (this does not indicate an error and you can ignore this message): INVALID_ARGUMENT: You must feed a value for placeholder tensor 'gradients/split_2_grad/concat/split_2/split_dim' with dtype int32\n",
      "\t [[{{node gradients/split_2_grad/concat/split_2/split_dim}}]]\n",
      "2023-12-18 20:37:00.842090: I tensorflow/core/common_runtime/executor.cc:1197] [/device:CPU:0] (DEBUG INFO) Executor start aborting (this does not indicate an error and you can ignore this message): INVALID_ARGUMENT: You must feed a value for placeholder tensor 'gradients/split_grad/concat/split/split_dim' with dtype int32\n",
      "\t [[{{node gradients/split_grad/concat/split/split_dim}}]]\n",
      "2023-12-18 20:37:00.842715: I tensorflow/core/common_runtime/executor.cc:1197] [/device:CPU:0] (DEBUG INFO) Executor start aborting (this does not indicate an error and you can ignore this message): INVALID_ARGUMENT: You must feed a value for placeholder tensor 'gradients/split_1_grad/concat/split_1/split_dim' with dtype int32\n",
      "\t [[{{node gradients/split_1_grad/concat/split_1/split_dim}}]]\n",
      "2023-12-18 20:37:00.934570: I tensorflow/core/common_runtime/executor.cc:1197] [/device:CPU:0] (DEBUG INFO) Executor start aborting (this does not indicate an error and you can ignore this message): INVALID_ARGUMENT: You must feed a value for placeholder tensor 'gradients/split_2_grad/concat/split_2/split_dim' with dtype int32\n",
      "\t [[{{node gradients/split_2_grad/concat/split_2/split_dim}}]]\n",
      "2023-12-18 20:37:00.935213: I tensorflow/core/common_runtime/executor.cc:1197] [/device:CPU:0] (DEBUG INFO) Executor start aborting (this does not indicate an error and you can ignore this message): INVALID_ARGUMENT: You must feed a value for placeholder tensor 'gradients/split_grad/concat/split/split_dim' with dtype int32\n",
      "\t [[{{node gradients/split_grad/concat/split/split_dim}}]]\n",
      "2023-12-18 20:37:00.935815: I tensorflow/core/common_runtime/executor.cc:1197] [/device:CPU:0] (DEBUG INFO) Executor start aborting (this does not indicate an error and you can ignore this message): INVALID_ARGUMENT: You must feed a value for placeholder tensor 'gradients/split_1_grad/concat/split_1/split_dim' with dtype int32\n",
      "\t [[{{node gradients/split_1_grad/concat/split_1/split_dim}}]]\n",
      "2023-12-18 20:37:01.027698: I tensorflow/core/common_runtime/executor.cc:1197] [/device:CPU:0] (DEBUG INFO) Executor start aborting (this does not indicate an error and you can ignore this message): INVALID_ARGUMENT: You must feed a value for placeholder tensor 'gradients/split_2_grad/concat/split_2/split_dim' with dtype int32\n",
      "\t [[{{node gradients/split_2_grad/concat/split_2/split_dim}}]]\n",
      "2023-12-18 20:37:01.028359: I tensorflow/core/common_runtime/executor.cc:1197] [/device:CPU:0] (DEBUG INFO) Executor start aborting (this does not indicate an error and you can ignore this message): INVALID_ARGUMENT: You must feed a value for placeholder tensor 'gradients/split_grad/concat/split/split_dim' with dtype int32\n",
      "\t [[{{node gradients/split_grad/concat/split/split_dim}}]]\n",
      "2023-12-18 20:37:01.028945: I tensorflow/core/common_runtime/executor.cc:1197] [/device:CPU:0] (DEBUG INFO) Executor start aborting (this does not indicate an error and you can ignore this message): INVALID_ARGUMENT: You must feed a value for placeholder tensor 'gradients/split_1_grad/concat/split_1/split_dim' with dtype int32\n",
      "\t [[{{node gradients/split_1_grad/concat/split_1/split_dim}}]]\n",
      "2023-12-18 20:37:01.731126: I tensorflow/core/common_runtime/executor.cc:1197] [/device:CPU:0] (DEBUG INFO) Executor start aborting (this does not indicate an error and you can ignore this message): INVALID_ARGUMENT: You must feed a value for placeholder tensor 'gradients/split_2_grad/concat/split_2/split_dim' with dtype int32\n",
      "\t [[{{node gradients/split_2_grad/concat/split_2/split_dim}}]]\n",
      "2023-12-18 20:37:01.732023: I tensorflow/core/common_runtime/executor.cc:1197] [/device:CPU:0] (DEBUG INFO) Executor start aborting (this does not indicate an error and you can ignore this message): INVALID_ARGUMENT: You must feed a value for placeholder tensor 'gradients/split_grad/concat/split/split_dim' with dtype int32\n",
      "\t [[{{node gradients/split_grad/concat/split/split_dim}}]]\n",
      "2023-12-18 20:37:01.732628: I tensorflow/core/common_runtime/executor.cc:1197] [/device:CPU:0] (DEBUG INFO) Executor start aborting (this does not indicate an error and you can ignore this message): INVALID_ARGUMENT: You must feed a value for placeholder tensor 'gradients/split_1_grad/concat/split_1/split_dim' with dtype int32\n",
      "\t [[{{node gradients/split_1_grad/concat/split_1/split_dim}}]]\n",
      "2023-12-18 20:37:01.824801: I tensorflow/core/common_runtime/executor.cc:1197] [/device:CPU:0] (DEBUG INFO) Executor start aborting (this does not indicate an error and you can ignore this message): INVALID_ARGUMENT: You must feed a value for placeholder tensor 'gradients/split_2_grad/concat/split_2/split_dim' with dtype int32\n",
      "\t [[{{node gradients/split_2_grad/concat/split_2/split_dim}}]]\n",
      "2023-12-18 20:37:01.825451: I tensorflow/core/common_runtime/executor.cc:1197] [/device:CPU:0] (DEBUG INFO) Executor start aborting (this does not indicate an error and you can ignore this message): INVALID_ARGUMENT: You must feed a value for placeholder tensor 'gradients/split_grad/concat/split/split_dim' with dtype int32\n",
      "\t [[{{node gradients/split_grad/concat/split/split_dim}}]]\n",
      "2023-12-18 20:37:01.826062: I tensorflow/core/common_runtime/executor.cc:1197] [/device:CPU:0] (DEBUG INFO) Executor start aborting (this does not indicate an error and you can ignore this message): INVALID_ARGUMENT: You must feed a value for placeholder tensor 'gradients/split_1_grad/concat/split_1/split_dim' with dtype int32\n",
      "\t [[{{node gradients/split_1_grad/concat/split_1/split_dim}}]]\n",
      "2023-12-18 20:37:01.918090: I tensorflow/core/common_runtime/executor.cc:1197] [/device:CPU:0] (DEBUG INFO) Executor start aborting (this does not indicate an error and you can ignore this message): INVALID_ARGUMENT: You must feed a value for placeholder tensor 'gradients/split_2_grad/concat/split_2/split_dim' with dtype int32\n",
      "\t [[{{node gradients/split_2_grad/concat/split_2/split_dim}}]]\n",
      "2023-12-18 20:37:01.918767: I tensorflow/core/common_runtime/executor.cc:1197] [/device:CPU:0] (DEBUG INFO) Executor start aborting (this does not indicate an error and you can ignore this message): INVALID_ARGUMENT: You must feed a value for placeholder tensor 'gradients/split_grad/concat/split/split_dim' with dtype int32\n",
      "\t [[{{node gradients/split_grad/concat/split/split_dim}}]]\n",
      "2023-12-18 20:37:01.919388: I tensorflow/core/common_runtime/executor.cc:1197] [/device:CPU:0] (DEBUG INFO) Executor start aborting (this does not indicate an error and you can ignore this message): INVALID_ARGUMENT: You must feed a value for placeholder tensor 'gradients/split_1_grad/concat/split_1/split_dim' with dtype int32\n",
      "\t [[{{node gradients/split_1_grad/concat/split_1/split_dim}}]]\n",
      "2023-12-18 20:37:02.785816: I tensorflow/compiler/xla/stream_executor/cuda/cuda_dnn.cc:424] Loaded cuDNN version 8907\n",
      "2023-12-18 20:37:02.848391: I tensorflow/tsl/platform/default/subprocess.cc:304] Start cannot spawn child process: No such file or directory\n",
      "2023-12-18 20:37:03.260649: I tensorflow/compiler/xla/stream_executor/cuda/cuda_blas.cc:637] TensorFloat-32 will be used for the matrix multiplication. This will only be logged once.\n",
      "2023-12-18 20:37:03.264686: W tensorflow/core/framework/op_kernel.cc:1818] INVALID_ARGUMENT: required broadcastable shapes\n",
      "2023-12-18 20:37:03.264711: I tensorflow/core/common_runtime/executor.cc:1197] [/job:localhost/replica:0/task:0/device:GPU:0] (DEBUG INFO) Executor start aborting (this does not indicate an error and you can ignore this message): INVALID_ARGUMENT: required broadcastable shapes\n",
      "\t [[{{node mean_squared_error/SquaredDifference}}]]\n"
     ]
    },
    {
     "ename": "InvalidArgumentError",
     "evalue": "Graph execution error:\n\nDetected at node 'mean_squared_error/SquaredDifference' defined at (most recent call last):\n    File \"/home/b2190180/anaconda3/envs/DOAest/lib/python3.9/runpy.py\", line 197, in _run_module_as_main\n      return _run_code(code, main_globals, None,\n    File \"/home/b2190180/anaconda3/envs/DOAest/lib/python3.9/runpy.py\", line 87, in _run_code\n      exec(code, run_globals)\n    File \"/home/b2190180/anaconda3/envs/DOAest/lib/python3.9/site-packages/ipykernel_launcher.py\", line 17, in <module>\n      app.launch_new_instance()\n    File \"/home/b2190180/anaconda3/envs/DOAest/lib/python3.9/site-packages/traitlets/config/application.py\", line 992, in launch_instance\n      app.start()\n    File \"/home/b2190180/anaconda3/envs/DOAest/lib/python3.9/site-packages/ipykernel/kernelapp.py\", line 736, in start\n      self.io_loop.start()\n    File \"/home/b2190180/anaconda3/envs/DOAest/lib/python3.9/site-packages/tornado/platform/asyncio.py\", line 195, in start\n      self.asyncio_loop.run_forever()\n    File \"/home/b2190180/anaconda3/envs/DOAest/lib/python3.9/asyncio/base_events.py\", line 601, in run_forever\n      self._run_once()\n    File \"/home/b2190180/anaconda3/envs/DOAest/lib/python3.9/asyncio/base_events.py\", line 1905, in _run_once\n      handle._run()\n    File \"/home/b2190180/anaconda3/envs/DOAest/lib/python3.9/asyncio/events.py\", line 80, in _run\n      self._context.run(self._callback, *self._args)\n    File \"/home/b2190180/anaconda3/envs/DOAest/lib/python3.9/site-packages/ipykernel/kernelbase.py\", line 516, in dispatch_queue\n      await self.process_one()\n    File \"/home/b2190180/anaconda3/envs/DOAest/lib/python3.9/site-packages/ipykernel/kernelbase.py\", line 505, in process_one\n      await dispatch(*args)\n    File \"/home/b2190180/anaconda3/envs/DOAest/lib/python3.9/site-packages/ipykernel/kernelbase.py\", line 412, in dispatch_shell\n      await result\n    File \"/home/b2190180/anaconda3/envs/DOAest/lib/python3.9/site-packages/ipykernel/kernelbase.py\", line 740, in execute_request\n      reply_content = await reply_content\n    File \"/home/b2190180/anaconda3/envs/DOAest/lib/python3.9/site-packages/ipykernel/ipkernel.py\", line 422, in do_execute\n      res = shell.run_cell(\n    File \"/home/b2190180/anaconda3/envs/DOAest/lib/python3.9/site-packages/ipykernel/zmqshell.py\", line 546, in run_cell\n      return super().run_cell(*args, **kwargs)\n    File \"/home/b2190180/anaconda3/envs/DOAest/lib/python3.9/site-packages/IPython/core/interactiveshell.py\", line 3024, in run_cell\n      result = self._run_cell(\n    File \"/home/b2190180/anaconda3/envs/DOAest/lib/python3.9/site-packages/IPython/core/interactiveshell.py\", line 3079, in _run_cell\n      result = runner(coro)\n    File \"/home/b2190180/anaconda3/envs/DOAest/lib/python3.9/site-packages/IPython/core/async_helpers.py\", line 129, in _pseudo_sync_runner\n      coro.send(None)\n    File \"/home/b2190180/anaconda3/envs/DOAest/lib/python3.9/site-packages/IPython/core/interactiveshell.py\", line 3284, in run_cell_async\n      has_raised = await self.run_ast_nodes(code_ast.body, cell_name,\n    File \"/home/b2190180/anaconda3/envs/DOAest/lib/python3.9/site-packages/IPython/core/interactiveshell.py\", line 3466, in run_ast_nodes\n      if await self.run_code(code, result, async_=asy):\n    File \"/home/b2190180/anaconda3/envs/DOAest/lib/python3.9/site-packages/IPython/core/interactiveshell.py\", line 3526, in run_code\n      exec(code_obj, self.user_global_ns, self.user_ns)\n    File \"/tmp/ipykernel_45361/3361262107.py\", line 9, in <module>\n      history = model.fit(XTrain, YTrain, batch_size=mini_batch_size, epochs=max_epochs, validation_data=(XVal, YVal),\n    File \"/home/b2190180/anaconda3/envs/DOAest/lib/python3.9/site-packages/keras/utils/traceback_utils.py\", line 65, in error_handler\n      return fn(*args, **kwargs)\n    File \"/home/b2190180/anaconda3/envs/DOAest/lib/python3.9/site-packages/keras/engine/training.py\", line 1685, in fit\n      tmp_logs = self.train_function(iterator)\n    File \"/home/b2190180/anaconda3/envs/DOAest/lib/python3.9/site-packages/keras/engine/training.py\", line 1284, in train_function\n      return step_function(self, iterator)\n    File \"/home/b2190180/anaconda3/envs/DOAest/lib/python3.9/site-packages/keras/engine/training.py\", line 1268, in step_function\n      outputs = model.distribute_strategy.run(run_step, args=(data,))\n    File \"/home/b2190180/anaconda3/envs/DOAest/lib/python3.9/site-packages/keras/engine/training.py\", line 1249, in run_step\n      outputs = model.train_step(data)\n    File \"/home/b2190180/anaconda3/envs/DOAest/lib/python3.9/site-packages/keras/engine/training.py\", line 1051, in train_step\n      loss = self.compute_loss(x, y, y_pred, sample_weight)\n    File \"/home/b2190180/anaconda3/envs/DOAest/lib/python3.9/site-packages/keras/engine/training.py\", line 1109, in compute_loss\n      return self.compiled_loss(\n    File \"/home/b2190180/anaconda3/envs/DOAest/lib/python3.9/site-packages/keras/engine/compile_utils.py\", line 265, in __call__\n      loss_value = loss_obj(y_t, y_p, sample_weight=sw)\n    File \"/home/b2190180/anaconda3/envs/DOAest/lib/python3.9/site-packages/keras/losses.py\", line 142, in __call__\n      losses = call_fn(y_true, y_pred)\n    File \"/home/b2190180/anaconda3/envs/DOAest/lib/python3.9/site-packages/keras/losses.py\", line 268, in call\n      return ag_fn(y_true, y_pred, **self._fn_kwargs)\n    File \"/home/b2190180/anaconda3/envs/DOAest/lib/python3.9/site-packages/keras/losses.py\", line 1470, in mean_squared_error\n      return backend.mean(tf.math.squared_difference(y_pred, y_true), axis=-1)\nNode: 'mean_squared_error/SquaredDifference'\nrequired broadcastable shapes\n\t [[{{node mean_squared_error/SquaredDifference}}]] [Op:__inference_train_function_9113]",
     "output_type": "error",
     "traceback": [
      "\u001B[0;31m---------------------------------------------------------------------------\u001B[0m",
      "\u001B[0;31mInvalidArgumentError\u001B[0m                      Traceback (most recent call last)",
      "Cell \u001B[0;32mIn[17], line 9\u001B[0m\n\u001B[1;32m      6\u001B[0m mini_batch_size \u001B[38;5;241m=\u001B[39m \u001B[38;5;241m128\u001B[39m\n\u001B[1;32m      8\u001B[0m \u001B[38;5;66;03m#モデルの学習\u001B[39;00m\n\u001B[0;32m----> 9\u001B[0m history \u001B[38;5;241m=\u001B[39m \u001B[43mmodel\u001B[49m\u001B[38;5;241;43m.\u001B[39;49m\u001B[43mfit\u001B[49m\u001B[43m(\u001B[49m\u001B[43mXTrain\u001B[49m\u001B[43m,\u001B[49m\u001B[43m \u001B[49m\u001B[43mYTrain\u001B[49m\u001B[43m,\u001B[49m\u001B[43m \u001B[49m\u001B[43mbatch_size\u001B[49m\u001B[38;5;241;43m=\u001B[39;49m\u001B[43mmini_batch_size\u001B[49m\u001B[43m,\u001B[49m\u001B[43m \u001B[49m\u001B[43mepochs\u001B[49m\u001B[38;5;241;43m=\u001B[39;49m\u001B[43mmax_epochs\u001B[49m\u001B[43m,\u001B[49m\u001B[43m \u001B[49m\u001B[43mvalidation_data\u001B[49m\u001B[38;5;241;43m=\u001B[39;49m\u001B[43m(\u001B[49m\u001B[43mXVal\u001B[49m\u001B[43m,\u001B[49m\u001B[43m \u001B[49m\u001B[43mYVal\u001B[49m\u001B[43m)\u001B[49m\u001B[43m,\u001B[49m\n\u001B[1;32m     10\u001B[0m \u001B[43m                    \u001B[49m\u001B[43mcallbacks\u001B[49m\u001B[38;5;241;43m=\u001B[39;49m\u001B[43m[\u001B[49m\u001B[43mreduce_lr\u001B[49m\u001B[43m,\u001B[49m\u001B[43mtensorboard\u001B[49m\u001B[43m]\u001B[49m\u001B[43m)\u001B[49m\n\u001B[1;32m     11\u001B[0m \u001B[38;5;66;03m#\u001B[39;00m\n\u001B[1;32m     12\u001B[0m \u001B[38;5;66;03m#モデルの概要を表示する\u001B[39;00m\n\u001B[1;32m     13\u001B[0m model\u001B[38;5;241m.\u001B[39msummary()\n",
      "File \u001B[0;32m~/anaconda3/envs/DOAest/lib/python3.9/site-packages/keras/utils/traceback_utils.py:70\u001B[0m, in \u001B[0;36mfilter_traceback.<locals>.error_handler\u001B[0;34m(*args, **kwargs)\u001B[0m\n\u001B[1;32m     67\u001B[0m     filtered_tb \u001B[38;5;241m=\u001B[39m _process_traceback_frames(e\u001B[38;5;241m.\u001B[39m__traceback__)\n\u001B[1;32m     68\u001B[0m     \u001B[38;5;66;03m# To get the full stack trace, call:\u001B[39;00m\n\u001B[1;32m     69\u001B[0m     \u001B[38;5;66;03m# `tf.debugging.disable_traceback_filtering()`\u001B[39;00m\n\u001B[0;32m---> 70\u001B[0m     \u001B[38;5;28;01mraise\u001B[39;00m e\u001B[38;5;241m.\u001B[39mwith_traceback(filtered_tb) \u001B[38;5;28;01mfrom\u001B[39;00m \u001B[38;5;28;01mNone\u001B[39;00m\n\u001B[1;32m     71\u001B[0m \u001B[38;5;28;01mfinally\u001B[39;00m:\n\u001B[1;32m     72\u001B[0m     \u001B[38;5;28;01mdel\u001B[39;00m filtered_tb\n",
      "File \u001B[0;32m~/anaconda3/envs/DOAest/lib/python3.9/site-packages/tensorflow/python/eager/execute.py:52\u001B[0m, in \u001B[0;36mquick_execute\u001B[0;34m(op_name, num_outputs, inputs, attrs, ctx, name)\u001B[0m\n\u001B[1;32m     50\u001B[0m \u001B[38;5;28;01mtry\u001B[39;00m:\n\u001B[1;32m     51\u001B[0m   ctx\u001B[38;5;241m.\u001B[39mensure_initialized()\n\u001B[0;32m---> 52\u001B[0m   tensors \u001B[38;5;241m=\u001B[39m pywrap_tfe\u001B[38;5;241m.\u001B[39mTFE_Py_Execute(ctx\u001B[38;5;241m.\u001B[39m_handle, device_name, op_name,\n\u001B[1;32m     53\u001B[0m                                       inputs, attrs, num_outputs)\n\u001B[1;32m     54\u001B[0m \u001B[38;5;28;01mexcept\u001B[39;00m core\u001B[38;5;241m.\u001B[39m_NotOkStatusException \u001B[38;5;28;01mas\u001B[39;00m e:\n\u001B[1;32m     55\u001B[0m   \u001B[38;5;28;01mif\u001B[39;00m name \u001B[38;5;129;01mis\u001B[39;00m \u001B[38;5;129;01mnot\u001B[39;00m \u001B[38;5;28;01mNone\u001B[39;00m:\n",
      "\u001B[0;31mInvalidArgumentError\u001B[0m: Graph execution error:\n\nDetected at node 'mean_squared_error/SquaredDifference' defined at (most recent call last):\n    File \"/home/b2190180/anaconda3/envs/DOAest/lib/python3.9/runpy.py\", line 197, in _run_module_as_main\n      return _run_code(code, main_globals, None,\n    File \"/home/b2190180/anaconda3/envs/DOAest/lib/python3.9/runpy.py\", line 87, in _run_code\n      exec(code, run_globals)\n    File \"/home/b2190180/anaconda3/envs/DOAest/lib/python3.9/site-packages/ipykernel_launcher.py\", line 17, in <module>\n      app.launch_new_instance()\n    File \"/home/b2190180/anaconda3/envs/DOAest/lib/python3.9/site-packages/traitlets/config/application.py\", line 992, in launch_instance\n      app.start()\n    File \"/home/b2190180/anaconda3/envs/DOAest/lib/python3.9/site-packages/ipykernel/kernelapp.py\", line 736, in start\n      self.io_loop.start()\n    File \"/home/b2190180/anaconda3/envs/DOAest/lib/python3.9/site-packages/tornado/platform/asyncio.py\", line 195, in start\n      self.asyncio_loop.run_forever()\n    File \"/home/b2190180/anaconda3/envs/DOAest/lib/python3.9/asyncio/base_events.py\", line 601, in run_forever\n      self._run_once()\n    File \"/home/b2190180/anaconda3/envs/DOAest/lib/python3.9/asyncio/base_events.py\", line 1905, in _run_once\n      handle._run()\n    File \"/home/b2190180/anaconda3/envs/DOAest/lib/python3.9/asyncio/events.py\", line 80, in _run\n      self._context.run(self._callback, *self._args)\n    File \"/home/b2190180/anaconda3/envs/DOAest/lib/python3.9/site-packages/ipykernel/kernelbase.py\", line 516, in dispatch_queue\n      await self.process_one()\n    File \"/home/b2190180/anaconda3/envs/DOAest/lib/python3.9/site-packages/ipykernel/kernelbase.py\", line 505, in process_one\n      await dispatch(*args)\n    File \"/home/b2190180/anaconda3/envs/DOAest/lib/python3.9/site-packages/ipykernel/kernelbase.py\", line 412, in dispatch_shell\n      await result\n    File \"/home/b2190180/anaconda3/envs/DOAest/lib/python3.9/site-packages/ipykernel/kernelbase.py\", line 740, in execute_request\n      reply_content = await reply_content\n    File \"/home/b2190180/anaconda3/envs/DOAest/lib/python3.9/site-packages/ipykernel/ipkernel.py\", line 422, in do_execute\n      res = shell.run_cell(\n    File \"/home/b2190180/anaconda3/envs/DOAest/lib/python3.9/site-packages/ipykernel/zmqshell.py\", line 546, in run_cell\n      return super().run_cell(*args, **kwargs)\n    File \"/home/b2190180/anaconda3/envs/DOAest/lib/python3.9/site-packages/IPython/core/interactiveshell.py\", line 3024, in run_cell\n      result = self._run_cell(\n    File \"/home/b2190180/anaconda3/envs/DOAest/lib/python3.9/site-packages/IPython/core/interactiveshell.py\", line 3079, in _run_cell\n      result = runner(coro)\n    File \"/home/b2190180/anaconda3/envs/DOAest/lib/python3.9/site-packages/IPython/core/async_helpers.py\", line 129, in _pseudo_sync_runner\n      coro.send(None)\n    File \"/home/b2190180/anaconda3/envs/DOAest/lib/python3.9/site-packages/IPython/core/interactiveshell.py\", line 3284, in run_cell_async\n      has_raised = await self.run_ast_nodes(code_ast.body, cell_name,\n    File \"/home/b2190180/anaconda3/envs/DOAest/lib/python3.9/site-packages/IPython/core/interactiveshell.py\", line 3466, in run_ast_nodes\n      if await self.run_code(code, result, async_=asy):\n    File \"/home/b2190180/anaconda3/envs/DOAest/lib/python3.9/site-packages/IPython/core/interactiveshell.py\", line 3526, in run_code\n      exec(code_obj, self.user_global_ns, self.user_ns)\n    File \"/tmp/ipykernel_45361/3361262107.py\", line 9, in <module>\n      history = model.fit(XTrain, YTrain, batch_size=mini_batch_size, epochs=max_epochs, validation_data=(XVal, YVal),\n    File \"/home/b2190180/anaconda3/envs/DOAest/lib/python3.9/site-packages/keras/utils/traceback_utils.py\", line 65, in error_handler\n      return fn(*args, **kwargs)\n    File \"/home/b2190180/anaconda3/envs/DOAest/lib/python3.9/site-packages/keras/engine/training.py\", line 1685, in fit\n      tmp_logs = self.train_function(iterator)\n    File \"/home/b2190180/anaconda3/envs/DOAest/lib/python3.9/site-packages/keras/engine/training.py\", line 1284, in train_function\n      return step_function(self, iterator)\n    File \"/home/b2190180/anaconda3/envs/DOAest/lib/python3.9/site-packages/keras/engine/training.py\", line 1268, in step_function\n      outputs = model.distribute_strategy.run(run_step, args=(data,))\n    File \"/home/b2190180/anaconda3/envs/DOAest/lib/python3.9/site-packages/keras/engine/training.py\", line 1249, in run_step\n      outputs = model.train_step(data)\n    File \"/home/b2190180/anaconda3/envs/DOAest/lib/python3.9/site-packages/keras/engine/training.py\", line 1051, in train_step\n      loss = self.compute_loss(x, y, y_pred, sample_weight)\n    File \"/home/b2190180/anaconda3/envs/DOAest/lib/python3.9/site-packages/keras/engine/training.py\", line 1109, in compute_loss\n      return self.compiled_loss(\n    File \"/home/b2190180/anaconda3/envs/DOAest/lib/python3.9/site-packages/keras/engine/compile_utils.py\", line 265, in __call__\n      loss_value = loss_obj(y_t, y_p, sample_weight=sw)\n    File \"/home/b2190180/anaconda3/envs/DOAest/lib/python3.9/site-packages/keras/losses.py\", line 142, in __call__\n      losses = call_fn(y_true, y_pred)\n    File \"/home/b2190180/anaconda3/envs/DOAest/lib/python3.9/site-packages/keras/losses.py\", line 268, in call\n      return ag_fn(y_true, y_pred, **self._fn_kwargs)\n    File \"/home/b2190180/anaconda3/envs/DOAest/lib/python3.9/site-packages/keras/losses.py\", line 1470, in mean_squared_error\n      return backend.mean(tf.math.squared_difference(y_pred, y_true), axis=-1)\nNode: 'mean_squared_error/SquaredDifference'\nrequired broadcastable shapes\n\t [[{{node mean_squared_error/SquaredDifference}}]] [Op:__inference_train_function_9113]"
     ]
    }
   ],
   "source": [
    "\n",
    "#モデルの学習\n",
    "\n",
    "#モデルの学習の早期終了の設定\n",
    "# early_stopping = EarlyStopping(monitor='val_loss', patience=10, verbose=1)\n",
    "max_epochs = 100\n",
    "mini_batch_size = 128\n",
    "\n",
    "#モデルの学習\n",
    "history = model.fit(XTrain, YTrain, batch_size=mini_batch_size, epochs=max_epochs, validation_data=(XVal, YVal),\n",
    "                    callbacks=[reduce_lr,tensorboard])\n",
    "#\n",
    "#モデルの概要を表示する\n",
    "model.summary()"
   ]
  },
  {
   "cell_type": "code",
   "execution_count": null,
   "metadata": {
    "collapsed": false,
    "ExecuteTime": {
     "start_time": "2023-12-18T11:37:03.786534740Z"
    }
   },
   "outputs": [],
   "source": [
    "#モデルの評価\n",
    "\n",
    "#モデルの評価\n",
    "score = model.evaluate(XTest, YTest, verbose=1)\n",
    "\n",
    "#モデルの評価結果を表示する\n",
    "print('Test loss:', score[0])\n",
    "print('Test accuracy:', score[1])\n"
   ]
  },
  {
   "cell_type": "code",
   "execution_count": null,
   "metadata": {
    "collapsed": false,
    "ExecuteTime": {
     "end_time": "2023-12-18T11:37:03.792667432Z",
     "start_time": "2023-12-18T11:37:03.787963331Z"
    }
   },
   "outputs": [],
   "source": [
    "#モデルの保存\n",
    "\n",
    "#モデルの保存\n",
    "model.save('model/LSTMmodel.h5')\n"
   ]
  },
  {
   "cell_type": "code",
   "execution_count": null,
   "metadata": {
    "collapsed": false,
    "ExecuteTime": {
     "end_time": "2023-12-18T11:37:03.829974078Z",
     "start_time": "2023-12-18T11:37:03.829917942Z"
    }
   },
   "outputs": [],
   "source": [
    "#モデルの読み込み\n",
    "\n",
    "#モデルの読み込み\n",
    "model = tf.keras.models.load_model('model/LSTMmodel.h5')\n",
    "\n",
    "#モデルの概要を表示する\n",
    "model.summary()"
   ]
  },
  {
   "cell_type": "code",
   "execution_count": null,
   "metadata": {
    "collapsed": false,
    "ExecuteTime": {
     "end_time": "2023-12-18T11:37:03.830598124Z",
     "start_time": "2023-12-18T11:37:03.830051414Z"
    }
   },
   "outputs": [],
   "source": [
    "#モデルの評価\n",
    "\n",
    "#モデルの評価\n",
    "score = model.evaluate(XTest, YTest, verbose=1)\n",
    "\n",
    "#モデルの評価結果を表示する\n",
    "print('Test loss:', score[0])\n",
    "print('Test accuracy:', score[1])\n",
    "\n"
   ]
  },
  {
   "cell_type": "code",
   "execution_count": null,
   "metadata": {
    "collapsed": false,
    "ExecuteTime": {
     "start_time": "2023-12-18T11:37:03.830132607Z"
    }
   },
   "outputs": [],
   "source": [
    "#モデルの予測\n",
    "\n",
    "#モデルの予測\n",
    "\n",
    "#予測値を格納する変数を作成する\n",
    "YTestPred = np.zeros((YTest.shape[0], 1))\n",
    "\n",
    "#予測値を計算する\n",
    "YTestPred = model.predict(XTest)\n",
    "\n",
    "#予測値を表示する\n",
    "# print(YTestPred[:, 0, :])\n",
    "\n",
    "df1 = pd.DataFrame(YTestPred[:, 0, :], columns=['Predicton'])\n",
    "df2 = pd.DataFrame(YTest[:, 0], columns=['True'])\n",
    "\n",
    "df = pd.concat([df1, df2], axis=1)\n",
    "\n",
    "df\n"
   ]
  },
  {
   "cell_type": "code",
   "execution_count": null,
   "metadata": {
    "collapsed": false,
    "ExecuteTime": {
     "start_time": "2023-12-18T11:37:03.830218599Z"
    }
   },
   "outputs": [],
   "source": [
    "#予測値と正解値のグラフを表示する\n",
    "print(YTestPred[:, 0, 0].shape)\n",
    "print(YTest.shape)\n",
    "\n",
    "#予測値と正解値を一つのグラフに表示する\n",
    "plt.plot(YTestPred[:, 0, 0], label='YTestPred', color='red')\n",
    "plt.plot(YTest[:, 0], label='YTest', linestyle='dashed', color='blue')\n",
    "plt.ylim(-90, 90)\n",
    "plt.legend()\n",
    "plt.show()\n"
   ]
  },
  {
   "cell_type": "code",
   "execution_count": null,
   "metadata": {
    "collapsed": false,
    "ExecuteTime": {
     "start_time": "2023-12-18T11:37:03.830283471Z"
    }
   },
   "outputs": [],
   "source": [
    "#推定値と正解値との許容誤差が0～10の範囲内での平均二乗誤差の平方根をとった値のグラフを表示する\n",
    "\n",
    "#推定値と正解値との許容誤差が0～10の範囲内での平均二乗誤差の平方根をとった値を計算する\n",
    "YTestDiff = ((YTestPred[:, 0, 0] - YTest[:, 0]))\n",
    "\n",
    "#推定値と正解値との許容誤差が0～10の範囲内での平均二乗誤差の平方根をとった値を表示する\n",
    "print(YTestDiff.shape)\n",
    "\n",
    "thr = np.arange(0, 10.5, 0.5)\n",
    "numCorrect = np.zeros(len(thr))\n",
    "numValidationImages = np.zeros(len(thr))\n",
    "accuracy = np.zeros(len(thr))\n",
    "\n",
    "for i in range(len(thr)):\n",
    "    numCorrect[i] = np.sum(np.abs(YTestDiff) < thr[i])\n",
    "    numValidationImages[i] = np.size(YTest[:, 0])\n",
    "    accuracy[i] = numCorrect[i] / numValidationImages[i]\n",
    "\n",
    "plt.scatter(thr, accuracy)\n",
    "plt.xlabel(\"許容誤差(deg)\")\n",
    "plt.ylabel(\"accuracy\")\n",
    "plt.grid(True)\n",
    "plt.plot(thr, accuracy, '.-', markersize=12)\n",
    "plt.show()"
   ]
  },
  {
   "cell_type": "code",
   "execution_count": null,
   "metadata": {
    "collapsed": false,
    "ExecuteTime": {
     "start_time": "2023-12-18T11:37:03.830336250Z"
    }
   },
   "outputs": [],
   "source": [
    "#予測値と正解値の差分のヒストグラムを表示する\n",
    "\n",
    "#予測値と正解値の差分のヒストグラムを表示する\n",
    "plt.hist(YTestDiff, bins=100)\n",
    "plt.show()\n"
   ]
  },
  {
   "cell_type": "code",
   "execution_count": null,
   "metadata": {
    "collapsed": false,
    "ExecuteTime": {
     "start_time": "2023-12-18T11:37:03.830388298Z"
    }
   },
   "outputs": [],
   "source": [
    "#予測値と正解値の差分の統計量を表示する\n",
    "\n",
    "#予測値と正解値の差分の統計量を表示する\n",
    "print(pd.DataFrame(YTestDiff).describe())\n"
   ]
  },
  {
   "cell_type": "code",
   "execution_count": null,
   "metadata": {
    "collapsed": false,
    "ExecuteTime": {
     "start_time": "2023-12-18T11:37:03.830437341Z"
    }
   },
   "outputs": [],
   "source": [
    "#"
   ]
  }
 ],
 "metadata": {
  "kernelspec": {
   "display_name": "Python 3",
   "language": "python",
   "name": "python3"
  },
  "language_info": {
   "codemirror_mode": {
    "name": "ipython",
    "version": 3
   },
   "file_extension": ".py",
   "mimetype": "text/x-python",
   "name": "python",
   "nbconvert_exporter": "python",
   "pygments_lexer": "ipython3",
   "version": "3.9.16"
  }
 },
 "nbformat": 4,
 "nbformat_minor": 0
}
