{
 "cells": [
  {
   "cell_type": "code",
   "execution_count": 38,
   "outputs": [
    {
     "name": "stdout",
     "output_type": "stream",
     "text": [
      "[name: \"/device:CPU:0\"\n",
      "device_type: \"CPU\"\n",
      "memory_limit: 268435456\n",
      "locality {\n",
      "}\n",
      "incarnation: 9696689634096923558\n",
      "xla_global_id: -1\n",
      ", name: \"/device:GPU:0\"\n",
      "device_type: \"GPU\"\n",
      "memory_limit: 19932381184\n",
      "locality {\n",
      "  bus_id: 1\n",
      "  links {\n",
      "  }\n",
      "}\n",
      "incarnation: 1344821249232970476\n",
      "physical_device_desc: \"device: 0, name: NVIDIA TITAN RTX, pci bus id: 0000:08:00.0, compute capability: 7.5\"\n",
      "xla_global_id: 416903419\n",
      "]\n"
     ]
    },
    {
     "name": "stderr",
     "output_type": "stream",
     "text": [
      "2023-12-13 19:48:33.358241: I tensorflow/compiler/xla/stream_executor/cuda/cuda_gpu_executor.cc:996] successful NUMA node read from SysFS had negative value (-1), but there must be at least one NUMA node, so returning NUMA node zero. See more at https://github.com/torvalds/linux/blob/v6.0/Documentation/ABI/testing/sysfs-bus-pci#L344-L355\n",
      "2023-12-13 19:48:33.358568: I tensorflow/compiler/xla/stream_executor/cuda/cuda_gpu_executor.cc:996] successful NUMA node read from SysFS had negative value (-1), but there must be at least one NUMA node, so returning NUMA node zero. See more at https://github.com/torvalds/linux/blob/v6.0/Documentation/ABI/testing/sysfs-bus-pci#L344-L355\n",
      "2023-12-13 19:48:33.358829: I tensorflow/compiler/xla/stream_executor/cuda/cuda_gpu_executor.cc:996] successful NUMA node read from SysFS had negative value (-1), but there must be at least one NUMA node, so returning NUMA node zero. See more at https://github.com/torvalds/linux/blob/v6.0/Documentation/ABI/testing/sysfs-bus-pci#L344-L355\n",
      "2023-12-13 19:48:33.359147: I tensorflow/compiler/xla/stream_executor/cuda/cuda_gpu_executor.cc:996] successful NUMA node read from SysFS had negative value (-1), but there must be at least one NUMA node, so returning NUMA node zero. See more at https://github.com/torvalds/linux/blob/v6.0/Documentation/ABI/testing/sysfs-bus-pci#L344-L355\n",
      "2023-12-13 19:48:33.359414: I tensorflow/compiler/xla/stream_executor/cuda/cuda_gpu_executor.cc:996] successful NUMA node read from SysFS had negative value (-1), but there must be at least one NUMA node, so returning NUMA node zero. See more at https://github.com/torvalds/linux/blob/v6.0/Documentation/ABI/testing/sysfs-bus-pci#L344-L355\n",
      "2023-12-13 19:48:33.359614: I tensorflow/core/common_runtime/gpu/gpu_device.cc:1635] Created device /device:GPU:0 with 19009 MB memory:  -> device: 0, name: NVIDIA TITAN RTX, pci bus id: 0000:08:00.0, compute capability: 7.5\n"
     ]
    }
   ],
   "source": [
    "import math\n",
    "\n",
    "import keras.dtensor.optimizers\n",
    "#MATLABで作ったmatファイルを、matフォルダから読み取る\n",
    "#matファイルは、変数がいくつか保存してあり、それぞれの中身を確認する\n",
    "#matファイルの中身は、辞書型で保存されている\n",
    "#辞書型の中身を確認するには、matlab.engineを使う\n",
    "#matlab.engineを使うには、matlab.engineをインポートする必要がある\n",
    "\n",
    "# !pip install tensorflow===2.11.0\n",
    "\n",
    "from tensorflow.python.client import device_lib\n",
    "\n",
    "print(device_lib.list_local_devices())\n"
   ],
   "metadata": {
    "collapsed": false,
    "ExecuteTime": {
     "end_time": "2023-12-13T10:48:33.414786068Z",
     "start_time": "2023-12-13T10:48:33.360619304Z"
    }
   }
  },
  {
   "cell_type": "code",
   "execution_count": 39,
   "outputs": [],
   "source": [
    "#GPUを用いて、tensorflowを使ったseq2seq回帰LSTMモデルを作成する\n",
    "import pandas as pd\n",
    "import tensorflow as tf\n",
    "import numpy as np\n",
    "import matplotlib.pyplot as plt\n",
    "import japanize_matplotlib\n",
    "import scipy.io\n"
   ],
   "metadata": {
    "collapsed": false,
    "ExecuteTime": {
     "end_time": "2023-12-13T10:48:33.426789669Z",
     "start_time": "2023-12-13T10:48:33.414895727Z"
    }
   }
  },
  {
   "cell_type": "code",
   "execution_count": 40,
   "outputs": [
    {
     "data": {
      "text/plain": "dict_keys(['__header__', '__version__', '__globals__', 'Num_tx', 'R_xx', 'R_xx_after_Noise', 'R_xx_exist_Noise', 'SNR_dB', 'inputVec', 'label', 'noise', 's_t', 'sigmaX2', 'stter_vec', 't', 'x'])"
     },
     "execution_count": 40,
     "metadata": {},
     "output_type": "execute_result"
    }
   ],
   "source": [
    "\n",
    "#データの読み込み\n",
    "mat_file = 'mat/test_gen_bpsk_long.mat'\n",
    "data = scipy.io.loadmat(mat_file)\n",
    "\n",
    "#matファイルの中身の変数名を確認する\n",
    "\n",
    "data.keys()"
   ],
   "metadata": {
    "collapsed": false,
    "ExecuteTime": {
     "end_time": "2023-12-13T10:48:36.706943747Z",
     "start_time": "2023-12-13T10:48:33.417386442Z"
    }
   }
  },
  {
   "cell_type": "code",
   "execution_count": 41,
   "outputs": [
    {
     "name": "stdout",
     "output_type": "stream",
     "text": [
      "(10, 10, 10000)\n",
      "(10000, 101)\n",
      "(10000, 1)\n",
      "(10, 10, 10000)\n",
      "(10, 10, 10000)\n",
      "(10, 10, 10000, 2)\n"
     ]
    },
    {
     "data": {
      "text/plain": "array([ 0., 30.])"
     },
     "execution_count": 41,
     "metadata": {},
     "output_type": "execute_result"
    }
   ],
   "source": [
    "a = data['R_xx']\n",
    "# a = data['R_xx_exist_Noise']\n",
    "b = data['inputVec']\n",
    "c = data['label']\n",
    "\n",
    "# d=data['sigmaX2']\n",
    "# e=data['t']\n",
    "#matに保存した変数の呼び出し\n",
    "#a,b,cの次元数を確認する\n",
    "print(a.shape)\n",
    "print(b.shape)\n",
    "print(c.shape)\n",
    "\n",
    "#共分散行列\n",
    "R = a\n",
    "\n",
    "\n",
    "# #入力信号の電力\n",
    "# sigmax2=d\n",
    "# #スナップショット数\n",
    "# t=e\n",
    "\n",
    "#実数部と虚数部(虚数単位jは外す)に分ける関数\n",
    "def split_complex(x):\n",
    "    real = np.real(x)\n",
    "    imag = np.imag(x)\n",
    "    return real, imag\n",
    "\n",
    "\n",
    "#実数部と虚数部に分ける\n",
    "real, imag = split_complex(R)\n",
    "\n",
    "#実数部と虚数部の次元数を確認する\n",
    "print(real.shape)\n",
    "print(imag.shape)\n",
    "\n",
    "#実数部と虚数部を結合し、四次元配列に変換する\n",
    "R = np.stack([real, imag], axis=3)\n",
    "\n",
    "#Rの次元数を確認する\n",
    "print(R.shape)\n",
    "\n",
    "#Rはx(t)=As(t)+n(t)という信号モデルの共分散行列(Rはx(t)の複素共役転置の期待値)である（Aは方向行列、s(t)は入力信号、n(t)はガウス雑音）\n",
    "#Rには、本来Aとs(t)とn(t)の情報が含まれているが、今回はn(t)を含まない\n",
    "#Rにn(t)を乗せる処理を書く\n",
    "#SNRを定義する\n",
    "SNR = np.empty((1, 1))\n",
    "np.append(SNR, 30)\n",
    "\n",
    "#送信電力とSNRから雑音電力を求める\n",
    "#送信電力は、sigmaX2である\n",
    "#雑音電力は、sigmaN2である\n",
    "# def calculate_noise_covariance(sigmaX2, SNR, t, R):\n",
    "#     # 送信電力から雑音電力を計算する\n",
    "#     # sigman2 = np.divide(sigmaX2, (10**(SNR/10)))\n",
    "#     #\n",
    "#     # # sigmaN2を表示する\n",
    "#     # print(sigman2)\n",
    "#     #\n",
    "#     # # ガウス分布に従う雑音n(t)を生成する\n",
    "#     # noise = np.sqrt(sigman2/2) * (np.random.randn(len(t),len(R[:,0,0,0])) + 1j*np.random.randn(len(t),len(R[:,0,0,0])))\n",
    "#     #\n",
    "#     # # n(t)の次元数を確認する\n",
    "#     # print(noise.shape)\n",
    "#\n",
    "#     # # n(t)の共分散行列を求める\n",
    "#     # N = np.dot(np.conj(noise).T, noise)\n",
    "#     # N = N / len(t)\n",
    "#     #\n",
    "#     # # Nの次元数を確認する\n",
    "#     # print(\"R_n\", N.shape)\n",
    "#\n",
    "#     # Nの実部と虚部を分割する\n",
    "#     real, imag = np.real(N), np.imag(N)\n",
    "#\n",
    "#     # Nを結合して次元数を確認する\n",
    "#     N = np.stack([real, imag], axis=2)\n",
    "#     print(\"R_n\", N.shape)\n",
    "#\n",
    "#     return N\n",
    "\n",
    "\n"
   ],
   "metadata": {
    "collapsed": false,
    "ExecuteTime": {
     "end_time": "2023-12-13T10:48:36.752862496Z",
     "start_time": "2023-12-13T10:48:36.709533771Z"
    }
   }
  },
  {
   "cell_type": "code",
   "execution_count": 42,
   "outputs": [
    {
     "name": "stdout",
     "output_type": "stream",
     "text": [
      "1\n"
     ]
    },
    {
     "data": {
      "text/plain": "<Figure size 640x480 with 1 Axes>",
      "image/png": "[encoded data removed]"
     },
     "metadata": {},
     "output_type": "display_data"
    }
   ],
   "source": [
    "from decimal import Decimal, ROUND_HALF_UP, ROUND_HALF_EVEN\n",
    "\n",
    "#tensorflowを使ったseq2seq回帰LSTMモデルを作成する\n",
    "\n",
    "#分解能\n",
    "min_angle = -90\n",
    "max_angle = 90\n",
    "resolution=1\n",
    "\n",
    "print(resolution)\n",
    "#matファイルで読み込んだinputVecとlabelからデータセットを作成する\n",
    "#データセットは、inputVecとlabelの組み合わせで、入力と出力を作成する\n",
    "X = R\n",
    "Y = (np.round(c/resolution))*resolution\n",
    "\n",
    "\n",
    "#Yをプロットする\n",
    "plt.plot(Y)\n",
    "plt.show()\n"
   ],
   "metadata": {
    "collapsed": false,
    "ExecuteTime": {
     "end_time": "2023-12-13T10:48:36.866591670Z",
     "start_time": "2023-12-13T10:48:36.752585617Z"
    }
   }
  },
  {
   "cell_type": "code",
   "execution_count": 43,
   "outputs": [],
   "source": [
    "#データセットを標準化する\n",
    "\n",
    "#時系列画像データの標準化をする\n",
    "#標準化すると、平均が0、標準偏差が1になる\n",
    "\n",
    "from sklearn.preprocessing import StandardScaler\n",
    "\n",
    "for j in range(X.shape[2]):\n",
    "    for i in range(X.shape[3]):\n",
    "        # シートごとのデータを抽出\n",
    "        sheet_data = X[:, :, j, i]\n",
    "\n",
    "        # 標準化器を作成し、データを標準化\n",
    "        scaler = StandardScaler()\n",
    "        sheet_data_standardized = scaler.fit_transform(sheet_data)\n",
    "\n",
    "        # 標準化されたデータを元の配列に戻す\n",
    "        X[:, :, j, i] = sheet_data_standardized\n",
    "\n"
   ],
   "metadata": {
    "collapsed": false,
    "ExecuteTime": {
     "end_time": "2023-12-13T10:48:40.285969201Z",
     "start_time": "2023-12-13T10:48:36.852617621Z"
    }
   }
  },
  {
   "cell_type": "code",
   "execution_count": 44,
   "outputs": [
    {
     "name": "stdout",
     "output_type": "stream",
     "text": [
      "(10, 10, 10000, 2)\n"
     ]
    }
   ],
   "source": [
    "#データセットの特徴量の値の大部分が同じデータのみの場合にその行（もしくは列）を削除する\n",
    "\n",
    "from sklearn.feature_selection import VarianceThreshold\n",
    "\n",
    "for j in range(X.shape[2]):\n",
    "    for i in range(X.shape[3]):\n",
    "        sheet_data = X[:, :, j, i]  # シートごとのデータを抽出\n",
    "\n",
    "        # VarianceThresholdを適用して行（もしくは列）を削除\n",
    "        selector = VarianceThreshold()\n",
    "        sheet_data_selected = selector.fit_transform(sheet_data)\n",
    "\n",
    "        # 削除後のデータを元の配列に戻す\n",
    "        if sheet_data_selected.ndim == 1:\n",
    "            sheet_data_selected = sheet_data_selected.reshape(-1, 1)\n",
    "        X[:, :, j, i] = sheet_data_selected\n",
    "\n",
    "print(X.shape)"
   ],
   "metadata": {
    "collapsed": false,
    "ExecuteTime": {
     "end_time": "2023-12-13T10:48:43.417458887Z",
     "start_time": "2023-12-13T10:48:40.289788516Z"
    }
   }
  },
  {
   "cell_type": "code",
   "execution_count": 45,
   "outputs": [
    {
     "name": "stdout",
     "output_type": "stream",
     "text": [
      "(10000, 10, 10, 2)\n"
     ]
    }
   ],
   "source": [
    "#Xを3次元配列に変換する\n",
    "X = np.reshape(X, (X.shape[2], X.shape[0], X.shape[1], X.shape[3]))\n",
    "\n",
    "print(X.shape)\n",
    "\n"
   ],
   "metadata": {
    "collapsed": false,
    "ExecuteTime": {
     "end_time": "2023-12-13T10:48:43.427507114Z",
     "start_time": "2023-12-13T10:48:43.418517722Z"
    }
   }
  },
  {
   "cell_type": "code",
   "execution_count": 46,
   "outputs": [
    {
     "name": "stdout",
     "output_type": "stream",
     "text": [
      "[0. 0. 0. ... 0. 0. 0.]\n"
     ]
    }
   ],
   "source": [
    "from sklearn.model_selection import train_test_split\n",
    "from keras.utils import np_utils\n",
    "import numpy as np\n",
    "from sklearn.preprocessing import LabelBinarizer\n",
    "\n",
    "\n",
    "#学習データセットと検証データセットとテストデータセットの分割割合を変数で指定する\n",
    "train_size = 0.8\n",
    "val_size = 0.1\n",
    "test_size = 0.1\n",
    "\n",
    "\n",
    "#Yを平坦化する\n",
    "Y = Y.flatten()\n",
    "\n",
    "#Yを表示する\n",
    "print(Y)\n",
    "\n",
    "from sklearn.preprocessing import LabelEncoder\n",
    "#Yのユニークな値を表示する\n",
    "u=np.arange(min_angle, max_angle+1.0, resolution)\n",
    "\n",
    "import numpy as np\n",
    "from sklearn.preprocessing import LabelBinarizer\n",
    "\n",
    "\n",
    "transformer = LabelBinarizer().fit(u)\n",
    "\n",
    "# ラベル → one-hot 表現\n",
    "Y = transformer.transform(Y)\n",
    "# print(Y)\n",
    "# [[1 0 0]\n",
    "#  [0 1 0]]\n",
    "\n",
    "# # one-hot 表現 → ラベル\n",
    "# src = transformer.inverse_transform(np.array([[1, 0, 0], [0, 1, 0]]))\n",
    "# print(src)\n",
    "# # ['A' 'B']\n",
    "\n",
    "#Yを表示する\n",
    "# print(target_one_hot)"
   ],
   "metadata": {
    "collapsed": false,
    "ExecuteTime": {
     "end_time": "2023-12-13T10:48:43.448087823Z",
     "start_time": "2023-12-13T10:48:43.427692398Z"
    }
   }
  },
  {
   "cell_type": "code",
   "execution_count": 47,
   "outputs": [
    {
     "name": "stdout",
     "output_type": "stream",
     "text": [
      "(8000, 10, 10, 2)\n",
      "(1000, 10, 10, 2)\n",
      "(1000, 10, 10, 2)\n",
      "(8000, 181)\n",
      "(1000, 181)\n",
      "(1000, 181)\n"
     ]
    }
   ],
   "source": [
    "\n",
    "#学習データセットと検証データセットとテストデータセットを分割する(シャッフルはしない)\n",
    "XTrain, XTest, YTrain, YTest = train_test_split(X, Y, test_size=1 - train_size, shuffle=False)\n",
    "XVal, XTest, YVal, YTest = train_test_split(XTest, YTest, test_size=test_size / (test_size + val_size), shuffle=False)\n",
    "\n",
    "#学習データセットと検証データセットとテストデータセットの次元数を確認する\n",
    "print(XTrain.shape)\n",
    "print(XVal.shape)\n",
    "print(XTest.shape)\n",
    "print(YTrain.shape)\n",
    "print(YVal.shape)\n",
    "print(YTest.shape)\n",
    "\n",
    "#入力の次元はそれぞれ(サンプル数、タイムステップ数、特徴量)である\n",
    "#Xの2番目の次元と3番目の次元を入れ替える\n",
    "XTrain = np.swapaxes(XTrain, 1, 2)\n",
    "XVal = np.swapaxes(XVal, 1, 2)\n",
    "XTest = np.swapaxes(XTest, 1, 2)\n"
   ],
   "metadata": {
    "collapsed": false,
    "ExecuteTime": {
     "end_time": "2023-12-13T10:48:43.467712163Z",
     "start_time": "2023-12-13T10:48:43.433256439Z"
    }
   }
  },
  {
   "cell_type": "code",
   "execution_count": 48,
   "outputs": [
    {
     "name": "stdout",
     "output_type": "stream",
     "text": [
      "2.12.1\n"
     ]
    }
   ],
   "source": [
    "#GPUを使ったLSTMmodelの作成\n",
    "\n",
    "#tensorflowのバージョンを確認する\n",
    "print(tf.__version__)\n"
   ],
   "metadata": {
    "collapsed": false,
    "ExecuteTime": {
     "end_time": "2023-12-13T10:48:43.485338683Z",
     "start_time": "2023-12-13T10:48:43.442285276Z"
    }
   }
  },
  {
   "cell_type": "code",
   "execution_count": 49,
   "outputs": [],
   "source": [
    "\n",
    "from tensorflow.keras.models import Sequential\n",
    "from tensorflow.keras import layers\n",
    "from tensorflow.keras import optimizers\n",
    "from tensorflow.keras.callbacks import ReduceLROnPlateau\n",
    "from tensorflow.keras.callbacks import TensorBoard\n",
    "\n",
    "# from tensorflow.python.keras.optimizers import\n",
    "\n",
    "\n"
   ],
   "metadata": {
    "collapsed": false,
    "ExecuteTime": {
     "end_time": "2023-12-13T10:48:43.485888604Z",
     "start_time": "2023-12-13T10:48:43.484598798Z"
    }
   }
  },
  {
   "cell_type": "code",
   "execution_count": 50,
   "outputs": [],
   "source": [
    "# # TensorFlowの設定を変更\n",
    "# gpus = tf.config.experimental.list_physical_devices('GPU')\n",
    "# if gpus:\n",
    "#     try:\n",
    "#         # GPUメモリを必要に応じて割り当てるように設定\n",
    "#         for gpu in gpus:\n",
    "#             tf.config.experimental.set_memory_growth(gpu, True)\n",
    "#     except RuntimeError as e:\n",
    "#         print(e)"
   ],
   "metadata": {
    "collapsed": false,
    "ExecuteTime": {
     "end_time": "2023-12-13T10:48:43.486377078Z",
     "start_time": "2023-12-13T10:48:43.484702726Z"
    }
   }
  },
  {
   "cell_type": "code",
   "execution_count": 51,
   "outputs": [
    {
     "data": {
      "text/plain": "[PhysicalDevice(name='/physical_device:GPU:0', device_type='GPU')]"
     },
     "execution_count": 51,
     "metadata": {},
     "output_type": "execute_result"
    }
   ],
   "source": [
    "tf.config.list_physical_devices('GPU')"
   ],
   "metadata": {
    "collapsed": false,
    "ExecuteTime": {
     "end_time": "2023-12-13T10:48:43.487089681Z",
     "start_time": "2023-12-13T10:48:43.484758753Z"
    }
   }
  },
  {
   "cell_type": "code",
   "execution_count": 52,
   "outputs": [
    {
     "name": "stdout",
     "output_type": "stream",
     "text": [
      "(10, 10, 2)\n",
      "181\n"
     ]
    }
   ],
   "source": [
    "from tensorflow.keras.callbacks import EarlyStopping\n",
    "\n",
    "#モデルの層の作成(cudNNLSTM層を使用するためのインポート)\n",
    "from tensorflow.keras.layers import LSTM\n",
    "\n",
    "print((XTrain.shape[1:]))\n",
    "\n",
    "\n",
    "\n",
    "hidden_units = 256\n",
    "# 入力データの形状\n",
    "# データの形状\n",
    "input_shape = (X.shape[1], X.shape[2], X.shape[3])\n",
    "time_steps = X.shape[0]\n",
    "\n",
    "\n",
    "\n",
    "output_units = u.size  # 出力層のニューロン数\n",
    "print(output_units)\n"
   ],
   "metadata": {
    "collapsed": false,
    "ExecuteTime": {
     "end_time": "2023-12-13T10:48:43.487641276Z",
     "start_time": "2023-12-13T10:48:43.484824760Z"
    }
   }
  },
  {
   "cell_type": "code",
   "execution_count": 53,
   "outputs": [],
   "source": [
    "import tensorflow as tf\n",
    "\n",
    "#TimeDistributedを使用するためには tf.keras.layers.TimeDistributed を使用する必要がある\n",
    "\n",
    "# ## モデルの定義\n",
    "# model = Sequential()\n",
    "#\n",
    "# # 入力を(timesteps, height, width, channels)の形状に変形する\n",
    "# # model.add(layers.Reshape((time_steps, image_height, image_width, channels), input_shape=(X.shape)))\n",
    "#\n",
    "# # 畳み込み層1\n",
    "# model.add(layers.Conv2D(filters=64, kernel_size=(3, 3), activation='relu', padding='same', input_shape=input_shape))\n",
    "#\n",
    "# # batch_normalization\n",
    "# # model.add(normalization.normalization())\n",
    "#\n",
    "# #relu\n",
    "# # model.add(layers.Activation('relu'))\n",
    "#\n",
    "# #プーリング層\n",
    "# # model.add(layers.MaxPooling2D(pool_size=(2, 2)))\n",
    "#\n",
    "# # 畳み込み層2\n",
    "# model.add(layers.Conv2D(filters=32, kernel_size=(3, 3), activation='relu', padding='same'))\n",
    "#\n",
    "# # batch_normalization\n",
    "# model.add(layers.Conv2D(filters=16, kernel_size=(3, 3), activation='relu', padding='same'))\n",
    "#\n",
    "# #relu\n",
    "# # model.add(layers.Activation('relu'))\n",
    "#\n",
    "# #プーリング層\n",
    "# model.add(layers.MaxPooling2D(pool_size=(2, 2)))\n",
    "#\n",
    "# # LSTM層に入力するために畳み込み層の出力を形状変換する\n",
    "# model.add(layers.Reshape((-1, 16)))\n",
    "#\n",
    "#\n",
    "# # LSTM層\n",
    "# model.add(layers.CuDNNLSTM(units=hidden_units, return_sequences=True))\n",
    "# model.add(layers.CuDNNLSTM(units=hidden_units, return_sequences=True))\n",
    "# model.add(layers.CuDNNLSTM(units=hidden_units, return_sequences=True))\n",
    "#\n",
    "# # 全結合層\n",
    "# model.add(layers.Dense(units=hidden_units, activation='relu'))\n",
    "# model.add(layers.Dense(units=output_units,activation='sigmoid'))\n"
   ],
   "metadata": {
    "collapsed": false,
    "ExecuteTime": {
     "end_time": "2023-12-13T10:48:43.488118118Z",
     "start_time": "2023-12-13T10:48:43.484914992Z"
    }
   }
  },
  {
   "cell_type": "code",
   "execution_count": 54,
   "outputs": [
    {
     "ename": "ValueError",
     "evalue": "Exception encountered when calling layer \"time_distributed_6\" (type TimeDistributed).\n\nInput 0 of layer \"max_pooling2d_2\" is incompatible with the layer: expected ndim=4, found ndim=5. Full shape received: (None, 10000, 8, 8, 32)\n\nCall arguments received by layer \"time_distributed_6\" (type TimeDistributed):\n  • inputs=tf.Tensor(shape=(None, None, 10000, 8, 8, 32), dtype=float32)\n  • training=None\n  • mask=None",
     "output_type": "error",
     "traceback": [
      "\u001B[0;31m---------------------------------------------------------------------------\u001B[0m",
      "\u001B[0;31mValueError\u001B[0m                                Traceback (most recent call last)",
      "Cell \u001B[0;32mIn[54], line 11\u001B[0m\n\u001B[1;32m      9\u001B[0m \u001B[38;5;66;03m# CNN層\u001B[39;00m\n\u001B[1;32m     10\u001B[0m model\u001B[38;5;241m.\u001B[39madd(tf\u001B[38;5;241m.\u001B[39mkeras\u001B[38;5;241m.\u001B[39mlayers\u001B[38;5;241m.\u001B[39mTimeDistributed(tf\u001B[38;5;241m.\u001B[39mkeras\u001B[38;5;241m.\u001B[39mlayers\u001B[38;5;241m.\u001B[39mConv2D(\u001B[38;5;241m32\u001B[39m, (\u001B[38;5;241m3\u001B[39m, \u001B[38;5;241m3\u001B[39m), activation\u001B[38;5;241m=\u001B[39m\u001B[38;5;124m'\u001B[39m\u001B[38;5;124mrelu\u001B[39m\u001B[38;5;124m'\u001B[39m), input_shape\u001B[38;5;241m=\u001B[39m(\u001B[38;5;28;01mNone\u001B[39;00m,time_steps, X\u001B[38;5;241m.\u001B[39mshape[\u001B[38;5;241m1\u001B[39m], X\u001B[38;5;241m.\u001B[39mshape[\u001B[38;5;241m2\u001B[39m], X\u001B[38;5;241m.\u001B[39mshape[\u001B[38;5;241m3\u001B[39m])))\n\u001B[0;32m---> 11\u001B[0m \u001B[43mmodel\u001B[49m\u001B[38;5;241;43m.\u001B[39;49m\u001B[43madd\u001B[49m\u001B[43m(\u001B[49m\u001B[43mtf\u001B[49m\u001B[38;5;241;43m.\u001B[39;49m\u001B[43mkeras\u001B[49m\u001B[38;5;241;43m.\u001B[39;49m\u001B[43mlayers\u001B[49m\u001B[38;5;241;43m.\u001B[39;49m\u001B[43mTimeDistributed\u001B[49m\u001B[43m(\u001B[49m\u001B[43mtf\u001B[49m\u001B[38;5;241;43m.\u001B[39;49m\u001B[43mkeras\u001B[49m\u001B[38;5;241;43m.\u001B[39;49m\u001B[43mlayers\u001B[49m\u001B[38;5;241;43m.\u001B[39;49m\u001B[43mMaxPooling2D\u001B[49m\u001B[43m(\u001B[49m\u001B[43m(\u001B[49m\u001B[38;5;241;43m2\u001B[39;49m\u001B[43m,\u001B[49m\u001B[43m \u001B[49m\u001B[38;5;241;43m2\u001B[39;49m\u001B[43m)\u001B[49m\u001B[43m)\u001B[49m\u001B[43m)\u001B[49m\u001B[43m)\u001B[49m\n\u001B[1;32m     12\u001B[0m model\u001B[38;5;241m.\u001B[39madd(tf\u001B[38;5;241m.\u001B[39mkeras\u001B[38;5;241m.\u001B[39mlayers\u001B[38;5;241m.\u001B[39mTimeDistributed(tf\u001B[38;5;241m.\u001B[39mkeras\u001B[38;5;241m.\u001B[39mlayers\u001B[38;5;241m.\u001B[39mFlatten()))\n\u001B[1;32m     14\u001B[0m \u001B[38;5;66;03m# LSTM層\u001B[39;00m\n",
      "File \u001B[0;32m~/anaconda3/envs/LSTM_DoAEstimation_python/lib/python3.9/site-packages/tensorflow/python/trackable/base.py:205\u001B[0m, in \u001B[0;36mno_automatic_dependency_tracking.<locals>._method_wrapper\u001B[0;34m(self, *args, **kwargs)\u001B[0m\n\u001B[1;32m    203\u001B[0m \u001B[38;5;28mself\u001B[39m\u001B[38;5;241m.\u001B[39m_self_setattr_tracking \u001B[38;5;241m=\u001B[39m \u001B[38;5;28;01mFalse\u001B[39;00m  \u001B[38;5;66;03m# pylint: disable=protected-access\u001B[39;00m\n\u001B[1;32m    204\u001B[0m \u001B[38;5;28;01mtry\u001B[39;00m:\n\u001B[0;32m--> 205\u001B[0m   result \u001B[38;5;241m=\u001B[39m \u001B[43mmethod\u001B[49m\u001B[43m(\u001B[49m\u001B[38;5;28;43mself\u001B[39;49m\u001B[43m,\u001B[49m\u001B[43m \u001B[49m\u001B[38;5;241;43m*\u001B[39;49m\u001B[43margs\u001B[49m\u001B[43m,\u001B[49m\u001B[43m \u001B[49m\u001B[38;5;241;43m*\u001B[39;49m\u001B[38;5;241;43m*\u001B[39;49m\u001B[43mkwargs\u001B[49m\u001B[43m)\u001B[49m\n\u001B[1;32m    206\u001B[0m \u001B[38;5;28;01mfinally\u001B[39;00m:\n\u001B[1;32m    207\u001B[0m   \u001B[38;5;28mself\u001B[39m\u001B[38;5;241m.\u001B[39m_self_setattr_tracking \u001B[38;5;241m=\u001B[39m previous_value  \u001B[38;5;66;03m# pylint: disable=protected-access\u001B[39;00m\n",
      "File \u001B[0;32m~/anaconda3/envs/LSTM_DoAEstimation_python/lib/python3.9/site-packages/keras/utils/traceback_utils.py:70\u001B[0m, in \u001B[0;36mfilter_traceback.<locals>.error_handler\u001B[0;34m(*args, **kwargs)\u001B[0m\n\u001B[1;32m     67\u001B[0m     filtered_tb \u001B[38;5;241m=\u001B[39m _process_traceback_frames(e\u001B[38;5;241m.\u001B[39m__traceback__)\n\u001B[1;32m     68\u001B[0m     \u001B[38;5;66;03m# To get the full stack trace, call:\u001B[39;00m\n\u001B[1;32m     69\u001B[0m     \u001B[38;5;66;03m# `tf.debugging.disable_traceback_filtering()`\u001B[39;00m\n\u001B[0;32m---> 70\u001B[0m     \u001B[38;5;28;01mraise\u001B[39;00m e\u001B[38;5;241m.\u001B[39mwith_traceback(filtered_tb) \u001B[38;5;28;01mfrom\u001B[39;00m \u001B[38;5;28;01mNone\u001B[39;00m\n\u001B[1;32m     71\u001B[0m \u001B[38;5;28;01mfinally\u001B[39;00m:\n\u001B[1;32m     72\u001B[0m     \u001B[38;5;28;01mdel\u001B[39;00m filtered_tb\n",
      "File \u001B[0;32m~/anaconda3/envs/LSTM_DoAEstimation_python/lib/python3.9/site-packages/keras/engine/input_spec.py:235\u001B[0m, in \u001B[0;36massert_input_compatibility\u001B[0;34m(input_spec, inputs, layer_name)\u001B[0m\n\u001B[1;32m    233\u001B[0m     ndim \u001B[38;5;241m=\u001B[39m shape\u001B[38;5;241m.\u001B[39mrank\n\u001B[1;32m    234\u001B[0m     \u001B[38;5;28;01mif\u001B[39;00m ndim \u001B[38;5;241m!=\u001B[39m spec\u001B[38;5;241m.\u001B[39mndim:\n\u001B[0;32m--> 235\u001B[0m         \u001B[38;5;28;01mraise\u001B[39;00m \u001B[38;5;167;01mValueError\u001B[39;00m(\n\u001B[1;32m    236\u001B[0m             \u001B[38;5;124mf\u001B[39m\u001B[38;5;124m'\u001B[39m\u001B[38;5;124mInput \u001B[39m\u001B[38;5;132;01m{\u001B[39;00minput_index\u001B[38;5;132;01m}\u001B[39;00m\u001B[38;5;124m of layer \u001B[39m\u001B[38;5;124m\"\u001B[39m\u001B[38;5;132;01m{\u001B[39;00mlayer_name\u001B[38;5;132;01m}\u001B[39;00m\u001B[38;5;124m\"\u001B[39m\u001B[38;5;124m \u001B[39m\u001B[38;5;124m'\u001B[39m\n\u001B[1;32m    237\u001B[0m             \u001B[38;5;124m\"\u001B[39m\u001B[38;5;124mis incompatible with the layer: \u001B[39m\u001B[38;5;124m\"\u001B[39m\n\u001B[1;32m    238\u001B[0m             \u001B[38;5;124mf\u001B[39m\u001B[38;5;124m\"\u001B[39m\u001B[38;5;124mexpected ndim=\u001B[39m\u001B[38;5;132;01m{\u001B[39;00mspec\u001B[38;5;241m.\u001B[39mndim\u001B[38;5;132;01m}\u001B[39;00m\u001B[38;5;124m, found ndim=\u001B[39m\u001B[38;5;132;01m{\u001B[39;00mndim\u001B[38;5;132;01m}\u001B[39;00m\u001B[38;5;124m. \u001B[39m\u001B[38;5;124m\"\u001B[39m\n\u001B[1;32m    239\u001B[0m             \u001B[38;5;124mf\u001B[39m\u001B[38;5;124m\"\u001B[39m\u001B[38;5;124mFull shape received: \u001B[39m\u001B[38;5;132;01m{\u001B[39;00m\u001B[38;5;28mtuple\u001B[39m(shape)\u001B[38;5;132;01m}\u001B[39;00m\u001B[38;5;124m\"\u001B[39m\n\u001B[1;32m    240\u001B[0m         )\n\u001B[1;32m    241\u001B[0m \u001B[38;5;28;01mif\u001B[39;00m spec\u001B[38;5;241m.\u001B[39mmax_ndim \u001B[38;5;129;01mis\u001B[39;00m \u001B[38;5;129;01mnot\u001B[39;00m \u001B[38;5;28;01mNone\u001B[39;00m:\n\u001B[1;32m    242\u001B[0m     ndim \u001B[38;5;241m=\u001B[39m x\u001B[38;5;241m.\u001B[39mshape\u001B[38;5;241m.\u001B[39mrank\n",
      "\u001B[0;31mValueError\u001B[0m: Exception encountered when calling layer \"time_distributed_6\" (type TimeDistributed).\n\nInput 0 of layer \"max_pooling2d_2\" is incompatible with the layer: expected ndim=4, found ndim=5. Full shape received: (None, 10000, 8, 8, 32)\n\nCall arguments received by layer \"time_distributed_6\" (type TimeDistributed):\n  • inputs=tf.Tensor(shape=(None, None, 10000, 8, 8, 32), dtype=float32)\n  • training=None\n  • mask=None"
     ]
    }
   ],
   "source": [
    "# モデルの定義\n",
    "\n",
    "max_epochs = 2000\n",
    "mini_batch_size = 128\n",
    "\n",
    "\n",
    "model = Sequential()\n",
    "\n",
    "# CNN層\n",
    "model.add(tf.keras.layers.TimeDistributed(tf.keras.layers.Conv2D(32, (3, 3), activation='relu'), input_shape=(None,time_steps, X.shape[1], X.shape[2], X.shape[3])))\n",
    "model.add(tf.keras.layers.TimeDistributed(tf.keras.layers.MaxPooling2D((2, 2))))\n",
    "model.add(tf.keras.layers.TimeDistributed(tf.keras.layers.Flatten()))\n",
    "\n",
    "# LSTM層\n",
    "model.add(layers.LSTM(64, return_sequences=False))\n",
    "\n",
    "# 全結合層\n",
    "model.add(layers.Dense(128, activation='relu'))\n",
    "model.add(layers.Dense(output_units, activation='softmax'))\n",
    "\n",
    "# モデルのコンパイル\n",
    "model.compile(loss='categorical_crossentropy', optimizer='adam', metrics=['accuracy'])\n",
    "\n",
    "# モデルの概要の表示\n",
    "# model.summary()"
   ],
   "metadata": {
    "collapsed": false,
    "ExecuteTime": {
     "end_time": "2023-12-13T10:48:43.526614039Z",
     "start_time": "2023-12-13T10:48:43.484975247Z"
    }
   }
  },
  {
   "cell_type": "code",
   "execution_count": null,
   "outputs": [],
   "source": [
    "early_stopping = EarlyStopping(\n",
    "                        monitor='val_loss',\n",
    "                        min_delta=0.0,\n",
    "                        patience=10,\n",
    "                )\n",
    "\n",
    "# val_lossの改善が2エポック見られなかったら、学習率を0.5倍する。\n",
    "reduce_lr = ReduceLROnPlateau(\n",
    "                        monitor='val_loss',\n",
    "                        factor=0.99,\n",
    "                        patience=10,\n",
    "                        min_lr=0.0001\n",
    "                )\n",
    "\n",
    "learning_rate = 0.01\n",
    "opt = optimizers.adam_v2.Adam(learning_rate=learning_rate)\n",
    "\n",
    "\n",
    "# opt = optimizers.adagrad_v2.Adagrad(learning_rate=learning_rate)\n",
    "# コンパイル時にオプティマイザを指定する(損失関数はMSE、評価関数はRMSEをカスタムで実装)\n",
    "\n",
    "loss_func = tf.keras.losses.MeanSquaredError(\n",
    "    reduction='auto', name='mean_squared_error'\n",
    ")\n",
    "\n",
    "eval_func = tf.keras.metrics.RootMeanSquaredError(\n",
    "    name='acuuracy', dtype=None\n",
    ")\n",
    "\n",
    "model.compile(loss='categorical_crossentropy', optimizer=opt, metrics=eval_func)\n",
    "\n",
    "\n"
   ],
   "metadata": {
    "collapsed": false,
    "ExecuteTime": {
     "start_time": "2023-12-13T10:48:43.526101007Z"
    }
   }
  },
  {
   "cell_type": "code",
   "execution_count": null,
   "outputs": [],
   "source": [
    "import shutil\n",
    "import os\n",
    "\n",
    "path1 = 'logs/train'\n",
    "path2 = 'logs/validation'\n",
    "\n",
    "# ログファイルを削除\n",
    "if os.path.exists('logs/train'):\n",
    "    shutil.rmtree(path1)\n",
    "if os.path.exists('logs/validation'):\n",
    "    shutil.rmtree(path2)\n",
    "\n",
    "# TensorBoardコールバックを作成\n",
    "tensorboard = tf.keras.callbacks.TensorBoard(log_dir='./logs')\n",
    "#plotをlocalhostで表示\n",
    "\n",
    "#ターミナルにコマンドを打つ\n",
    "# tensorboard --logdir logs\n"
   ],
   "metadata": {
    "collapsed": false,
    "ExecuteTime": {
     "start_time": "2023-12-13T10:48:43.526186641Z"
    }
   }
  },
  {
   "cell_type": "code",
   "execution_count": null,
   "outputs": [],
   "source": [
    "\n",
    "#モデルの学習\n",
    "\n",
    "#モデルの学習の早期終了の設定\n",
    "# early_stopping = EarlyStopping(monitor='val_loss', patience=10, verbose=1)\n",
    "\n",
    "\n",
    "#モデルの学習\n",
    "history = model.fit(XTrain, YTrain, batch_size=mini_batch_size, epochs=max_epochs, validation_data=(XVal, YVal),\n",
    "                    callbacks=[reduce_lr,tensorboard])\n",
    "#\n",
    "#モデルの概要を表示する\n",
    "model.summary()"
   ],
   "metadata": {
    "collapsed": false,
    "ExecuteTime": {
     "start_time": "2023-12-13T10:48:43.526236346Z"
    }
   }
  },
  {
   "cell_type": "code",
   "execution_count": null,
   "outputs": [],
   "source": [
    "#モデルの評価\n",
    "\n",
    "#モデルの評価\n",
    "score = model.evaluate(XTest, YTest, verbose=1)\n",
    "\n",
    "#モデルの評価結果を表示する\n",
    "print('Test loss:', score[0])\n",
    "print('Test accuracy:', score[1])\n"
   ],
   "metadata": {
    "collapsed": false,
    "ExecuteTime": {
     "start_time": "2023-12-13T10:48:43.526279729Z"
    }
   }
  },
  {
   "cell_type": "code",
   "execution_count": null,
   "outputs": [],
   "source": [
    "#モデルの保存\n",
    "\n",
    "#モデルの保存\n",
    "model.save('model/LSTM_classfication_model.h5')\n"
   ],
   "metadata": {
    "collapsed": false,
    "ExecuteTime": {
     "start_time": "2023-12-13T10:48:43.526321299Z"
    }
   }
  },
  {
   "cell_type": "code",
   "execution_count": null,
   "outputs": [],
   "source": [
    "#モデルの読み込み\n",
    "\n",
    "#モデルの読み込み\n",
    "model = tf.keras.models.load_model('model/LSTMmodel.h5')\n",
    "\n",
    "#モデルの概要を表示する\n",
    "model.summary()"
   ],
   "metadata": {
    "collapsed": false,
    "ExecuteTime": {
     "start_time": "2023-12-13T10:48:43.526398717Z"
    }
   }
  },
  {
   "cell_type": "code",
   "execution_count": null,
   "outputs": [],
   "source": [
    "#モデルの評価\n",
    "\n",
    "#モデルの評価\n",
    "score = model.evaluate(XTest, YTest, verbose=1)\n",
    "\n",
    "#モデルの評価結果を表示する\n",
    "print('Test loss:', score[0])\n",
    "print('Test accuracy:', score[1])\n",
    "\n"
   ],
   "metadata": {
    "collapsed": false,
    "ExecuteTime": {
     "end_time": "2023-12-13T10:48:43.527715796Z",
     "start_time": "2023-12-13T10:48:43.526731423Z"
    }
   }
  },
  {
   "cell_type": "code",
   "execution_count": null,
   "outputs": [],
   "source": [
    "#モデルの予測\n",
    "\n",
    "#モデルの予測\n",
    "\n",
    "#予測値を格納する変数を作成する\n",
    "YTestPred = np.zeros((YTest.shape[0], 1))\n",
    "\n",
    "#予測値を計算する\n",
    "YTestPred = model.predict(XTest)\n",
    "\n",
    "#予測値を表示する\n",
    "# print(YTestPred[:, 0, :])\n",
    "\n",
    "df1 = pd.DataFrame(YTestPred[:, 0, :], columns=['Predicton'])\n",
    "df2 = pd.DataFrame(YTest[:, 0], columns=['True'])\n",
    "\n",
    "df = pd.concat([df1, df2], axis=1)\n",
    "\n",
    "df\n"
   ],
   "metadata": {
    "collapsed": false,
    "ExecuteTime": {
     "start_time": "2023-12-13T10:48:43.547704332Z"
    }
   }
  },
  {
   "cell_type": "code",
   "execution_count": null,
   "outputs": [],
   "source": [
    "#予測値と正解値のグラフを表示する\n",
    "print(YTestPred[:, 0, 0].shape)\n",
    "print(YTest.shape)\n",
    "\n",
    "#予測値と正解値を一つのグラフに表示する\n",
    "plt.plot(YTestPred[:, 0, 0], label='YTestPred', color='red')\n",
    "plt.plot(YTest[:, 0], label='YTest', linestyle='dashed', color='blue')\n",
    "plt.ylim(-90, 90)\n",
    "plt.legend()\n",
    "plt.show()\n"
   ],
   "metadata": {
    "collapsed": false,
    "ExecuteTime": {
     "start_time": "2023-12-13T10:48:43.547754779Z"
    }
   }
  },
  {
   "cell_type": "code",
   "execution_count": null,
   "outputs": [],
   "source": [
    "#推定値と正解値との許容誤差が0～10の範囲内での平均二乗誤差の平方根をとった値のグラフを表示する\n",
    "\n",
    "#推定値と正解値との許容誤差が0～10の範囲内での平均二乗誤差の平方根をとった値を計算する\n",
    "YTestDiff = ((YTestPred[:, 0, 0] - YTest[:, 0]))\n",
    "\n",
    "#推定値と正解値との許容誤差が0～10の範囲内での平均二乗誤差の平方根をとった値を表示する\n",
    "print(YTestDiff.shape)\n",
    "\n",
    "thr = np.arange(0, 10.5, 0.5)\n",
    "numCorrect = np.zeros(len(thr))\n",
    "numValidationImages = np.zeros(len(thr))\n",
    "accuracy = np.zeros(len(thr))\n",
    "\n",
    "for i in range(len(thr)):\n",
    "    numCorrect[i] = np.sum(np.abs(YTestDiff) < thr[i])\n",
    "    numValidationImages[i] = np.size(YTest[:, 0])\n",
    "    accuracy[i] = numCorrect[i] / numValidationImages[i]\n",
    "\n",
    "plt.scatter(thr, accuracy)\n",
    "plt.xlabel(\"許容誤差(deg)\")\n",
    "plt.ylabel(\"accuracy\")\n",
    "plt.grid(True)\n",
    "plt.plot(thr, accuracy, '.-', markersize=12)\n",
    "plt.show()"
   ],
   "metadata": {
    "collapsed": false,
    "ExecuteTime": {
     "start_time": "2023-12-13T10:48:43.547787030Z"
    }
   }
  },
  {
   "cell_type": "code",
   "execution_count": null,
   "outputs": [],
   "source": [
    "#予測値と正解値の差分のヒストグラムを表示する\n",
    "\n",
    "#予測値と正解値の差分のヒストグラムを表示する\n",
    "plt.hist(YTestDiff, bins=100)\n",
    "plt.show()\n"
   ],
   "metadata": {
    "collapsed": false,
    "ExecuteTime": {
     "start_time": "2023-12-13T10:48:43.547814383Z"
    }
   }
  },
  {
   "cell_type": "code",
   "execution_count": null,
   "outputs": [],
   "source": [
    "#予測値と正解値の差分の統計量を表示する\n",
    "\n",
    "#予測値と正解値の差分の統計量を表示する\n",
    "print(pd.DataFrame(YTestDiff).describe())\n"
   ],
   "metadata": {
    "collapsed": false,
    "ExecuteTime": {
     "start_time": "2023-12-13T10:48:43.547840392Z"
    }
   }
  },
  {
   "cell_type": "code",
   "execution_count": null,
   "outputs": [],
   "source": [
    "#"
   ],
   "metadata": {
    "collapsed": false,
    "ExecuteTime": {
     "start_time": "2023-12-13T10:48:43.547865811Z"
    }
   }
  }
 ],
 "metadata": {
  "kernelspec": {
   "display_name": "Python 3",
   "language": "python",
   "name": "python3"
  },
  "language_info": {
   "codemirror_mode": {
    "name": "ipython",
    "version": 2
   },
   "file_extension": ".py",
   "mimetype": "text/x-python",
   "name": "python",
   "nbconvert_exporter": "python",
   "pygments_lexer": "ipython2",
   "version": "2.7.6"
  }
 },
 "nbformat": 4,
 "nbformat_minor": 0
}
