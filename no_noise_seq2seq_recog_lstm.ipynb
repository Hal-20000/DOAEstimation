{
 "cells": [
  {
   "cell_type": "code",
   "execution_count": 1,
   "outputs": [
    {
     "name": "stderr",
     "output_type": "stream",
     "text": [
      "2023-12-18 20:35:27.777651: I tensorflow/core/platform/cpu_feature_guard.cc:182] This TensorFlow binary is optimized to use available CPU instructions in performance-critical operations.\n",
      "To enable the following instructions: AVX2 FMA, in other operations, rebuild TensorFlow with the appropriate compiler flags.\n",
      "2023-12-18 20:35:28.294207: W tensorflow/compiler/tf2tensorrt/utils/py_utils.cc:38] TF-TRT Warning: Could not find TensorRT\n"
     ]
    },
    {
     "name": "stdout",
     "output_type": "stream",
     "text": [
      "[name: \"/device:CPU:0\"\n",
      "device_type: \"CPU\"\n",
      "memory_limit: 268435456\n",
      "locality {\n",
      "}\n",
      "incarnation: 7604317762551729407\n",
      "xla_global_id: -1\n",
      ", name: \"/device:GPU:0\"\n",
      "device_type: \"GPU\"\n",
      "memory_limit: 14358282240\n",
      "locality {\n",
      "  bus_id: 1\n",
      "  links {\n",
      "  }\n",
      "}\n",
      "incarnation: 4786980343991680143\n",
      "physical_device_desc: \"device: 0, name: NVIDIA RTX A4000, pci bus id: 0000:08:00.0, compute capability: 8.6\"\n",
      "xla_global_id: 416903419\n",
      "]\n"
     ]
    },
    {
     "name": "stderr",
     "output_type": "stream",
     "text": [
      "2023-12-18 20:35:28.847546: I tensorflow/compiler/xla/stream_executor/cuda/cuda_gpu_executor.cc:996] successful NUMA node read from SysFS had negative value (-1), but there must be at least one NUMA node, so returning NUMA node zero. See more at https://github.com/torvalds/linux/blob/v6.0/Documentation/ABI/testing/sysfs-bus-pci#L344-L355\n",
      "2023-12-18 20:35:28.869586: I tensorflow/compiler/xla/stream_executor/cuda/cuda_gpu_executor.cc:996] successful NUMA node read from SysFS had negative value (-1), but there must be at least one NUMA node, so returning NUMA node zero. See more at https://github.com/torvalds/linux/blob/v6.0/Documentation/ABI/testing/sysfs-bus-pci#L344-L355\n",
      "2023-12-18 20:35:28.869793: I tensorflow/compiler/xla/stream_executor/cuda/cuda_gpu_executor.cc:996] successful NUMA node read from SysFS had negative value (-1), but there must be at least one NUMA node, so returning NUMA node zero. See more at https://github.com/torvalds/linux/blob/v6.0/Documentation/ABI/testing/sysfs-bus-pci#L344-L355\n",
      "2023-12-18 20:35:28.928248: I tensorflow/compiler/xla/stream_executor/cuda/cuda_gpu_executor.cc:996] successful NUMA node read from SysFS had negative value (-1), but there must be at least one NUMA node, so returning NUMA node zero. See more at https://github.com/torvalds/linux/blob/v6.0/Documentation/ABI/testing/sysfs-bus-pci#L344-L355\n",
      "2023-12-18 20:35:28.928427: I tensorflow/compiler/xla/stream_executor/cuda/cuda_gpu_executor.cc:996] successful NUMA node read from SysFS had negative value (-1), but there must be at least one NUMA node, so returning NUMA node zero. See more at https://github.com/torvalds/linux/blob/v6.0/Documentation/ABI/testing/sysfs-bus-pci#L344-L355\n",
      "2023-12-18 20:35:28.928573: I tensorflow/compiler/xla/stream_executor/cuda/cuda_gpu_executor.cc:996] successful NUMA node read from SysFS had negative value (-1), but there must be at least one NUMA node, so returning NUMA node zero. See more at https://github.com/torvalds/linux/blob/v6.0/Documentation/ABI/testing/sysfs-bus-pci#L344-L355\n",
      "2023-12-18 20:35:28.928691: I tensorflow/core/common_runtime/gpu/gpu_device.cc:1635] Created device /device:GPU:0 with 13693 MB memory:  -> device: 0, name: NVIDIA RTX A4000, pci bus id: 0000:08:00.0, compute capability: 8.6\n"
     ]
    }
   ],
   "source": [
    "import keras\n",
    "#MATLABで作ったmatファイルを、matフォルダから読み取る\n",
    "#matファイルは、変数がいくつか保存してあり、それぞれの中身を確認する\n",
    "#matファイルの中身は、辞書型で保存されている\n",
    "#辞書型の中身を確認するには、matlab.engineを使う\n",
    "#matlab.engineを使うには、matlab.engineをインポートする必要がある\n",
    "\n",
    "# !pip install tensorflow===2.11.0\n",
    "\n",
    "from tensorflow.python.client import device_lib\n",
    "\n",
    "print(device_lib.list_local_devices())\n"
   ],
   "metadata": {
    "collapsed": false,
    "ExecuteTime": {
     "end_time": "2023-12-18T11:35:28.933195874Z",
     "start_time": "2023-12-18T11:35:27.638423302Z"
    }
   }
  },
  {
   "cell_type": "code",
   "execution_count": 2,
   "outputs": [],
   "source": [
    "#GPUを用いて、tensorflowを使ったseq2seq回帰LSTMモデルを作成する\n",
    "import pandas as pd\n",
    "import tensorflow as tf\n",
    "import numpy as np\n",
    "import matplotlib.pyplot as plt\n",
    "import japanize_matplotlib\n",
    "import scipy.io\n"
   ],
   "metadata": {
    "collapsed": false,
    "ExecuteTime": {
     "end_time": "2023-12-18T11:35:29.179782365Z",
     "start_time": "2023-12-18T11:35:28.934284876Z"
    }
   }
  },
  {
   "cell_type": "code",
   "execution_count": 3,
   "outputs": [
    {
     "data": {
      "text/plain": "dict_keys(['__header__', '__version__', '__globals__', 'Num_tx', 'R_xx', 'R_xx_after_Noise', 'R_xx_exist_Noise', 'SNR_dB', 'fs', 'inputVec', 'label', 'noise', 's_t', 'sigmaX2', 'stter_vec', 't', 'x'])"
     },
     "execution_count": 3,
     "metadata": {},
     "output_type": "execute_result"
    }
   ],
   "source": [
    "\n",
    "#データの読み込み\n",
    "mat_file = 'mat/60_sin_1period_bpsk_2signal.mat'\n",
    "data = scipy.io.loadmat(mat_file)\n",
    "\n",
    "#matファイルの中身の変数名を確認する\n",
    "\n",
    "data.keys()"
   ],
   "metadata": {
    "collapsed": false,
    "ExecuteTime": {
     "end_time": "2023-12-18T11:35:29.530864931Z",
     "start_time": "2023-12-18T11:35:29.181700038Z"
    }
   }
  },
  {
   "cell_type": "code",
   "execution_count": 4,
   "outputs": [
    {
     "name": "stdout",
     "output_type": "stream",
     "text": [
      "(10, 10, 1000)\n",
      "(1000, 101)\n",
      "(1000, 2)\n",
      "(10, 10, 1000)\n",
      "(10, 10, 1000)\n",
      "(10, 10, 1000, 2)\n"
     ]
    }
   ],
   "source": [
    "a = data['R_xx']\n",
    "b = data['inputVec']\n",
    "c = data['label']\n",
    "d=data['sigmaX2']\n",
    "e=data['t']\n",
    "#matに保存した変数の呼び出し\n",
    "#a,b,cの次元数を確認する\n",
    "print(a.shape)\n",
    "print(b.shape)\n",
    "print(c.shape)\n",
    "\n",
    "#共分散行列\n",
    "R=a\n",
    "#入力信号の電力\n",
    "sigmax2=d\n",
    "#スナップショット数\n",
    "t=e\n",
    "\n",
    "#実数部と虚数部(虚数単位jは外す)に分ける関数\n",
    "def split_complex(x):\n",
    "    real = np.real(x)\n",
    "    imag = np.imag(x)\n",
    "    return real, imag\n",
    "\n",
    "#実数部と虚数部に分ける\n",
    "real, imag = split_complex(R)\n",
    "\n",
    "\n",
    "#実数部と虚数部の次元数を確認する\n",
    "print(real.shape)\n",
    "print(imag.shape)\n",
    "\n",
    "#実数部と虚数部を結合し、四次元配列に変換する\n",
    "R = np.stack([real, imag], axis=3)\n",
    "\n",
    "#Rの次元数を確認する\n",
    "print(R.shape)\n",
    "\n",
    "#Rはx(t)=As(t)+n(t)という信号モデルの共分散行列(Rはx(t)の複素共役転置の期待値)である（Aは方向行列、s(t)は入力信号、n(t)はガウス雑音）\n",
    "#Rには、本来Aとs(t)とn(t)の情報が含まれているが、今回はn(t)を含まない\n",
    "#Rにn(t)を乗せる処理を書く\n",
    "#SNRを定義する\n",
    "SNR=np.empty((1,1))\n",
    "np.append(SNR,30)\n",
    "\n",
    "#送信電力とSNRから雑音電力を求める\n",
    "#送信電力は、sigmaX2である\n",
    "#雑音電力は、sigmaN2である\n",
    "def calculate_noise_covariance(sigmaX2, SNR, t, R):\n",
    "    # 送信電力から雑音電力を計算する\n",
    "    sigman2 = np.divide(sigmaX2, (10**(SNR/10)))\n",
    "\n",
    "    # sigmaN2を表示する\n",
    "    print(sigman2)\n",
    "\n",
    "    # ガウス分布に従う雑音n(t)を生成する\n",
    "    noise = np.sqrt(sigman2/2) * (np.random.randn(len(t),len(R[:,0,0,0])) + 1j*np.random.randn(len(t),len(R[:,0,0,0])))\n",
    "\n",
    "    # n(t)の次元数を確認する\n",
    "    print(noise.shape)\n",
    "\n",
    "    # n(t)の共分散行列を求める\n",
    "    N = np.dot(np.conj(noise).T, noise)\n",
    "\n",
    "    # Nの次元数を確認する\n",
    "    print(\"R_n\", N.shape)\n",
    "\n",
    "    # Nの実部と虚部を分割する\n",
    "    real, imag = np.real(N), np.imag(N)\n",
    "\n",
    "    # Nを結合して次元数を確認する\n",
    "    N = np.stack([real, imag], axis=2)\n",
    "    print(\"R_n\", N.shape)\n",
    "\n",
    "    return N\n",
    "\n",
    "\n"
   ],
   "metadata": {
    "collapsed": false,
    "ExecuteTime": {
     "end_time": "2023-12-18T11:35:29.539171378Z",
     "start_time": "2023-12-18T11:35:29.535442293Z"
    }
   }
  },
  {
   "cell_type": "code",
   "execution_count": 5,
   "outputs": [
    {
     "data": {
      "text/plain": "<Figure size 640x480 with 1 Axes>",
      "image/png": "[encoded data removed]"
     },
     "metadata": {},
     "output_type": "display_data"
    }
   ],
   "source": [
    "#tensorflowを使ったseq2seq回帰LSTMモデルを作成する\n",
    "\n",
    "#matファイルで読み込んだinputVecとlabelからデータセットを作成する\n",
    "#データセットは、inputVecとlabelの組み合わせで、入力と出力を作成する\n",
    "X = b\n",
    "Y = c\n",
    "\n",
    "#Yをプロットする\n",
    "plt.plot(Y)\n",
    "plt.show()\n"
   ],
   "metadata": {
    "collapsed": false,
    "ExecuteTime": {
     "end_time": "2023-12-18T11:35:29.620234769Z",
     "start_time": "2023-12-18T11:35:29.539555061Z"
    }
   }
  },
  {
   "cell_type": "code",
   "execution_count": 6,
   "outputs": [],
   "source": [
    "#データセットを標準化する\n",
    "#標準化すると、平均が0、標準偏差が1になる\n",
    "\n",
    "from sklearn.preprocessing import StandardScaler\n",
    "\n",
    "scaler = StandardScaler()\n",
    "scaler.fit(X)\n",
    "X = scaler.transform(X)\n",
    "\n",
    "# for i in range(X.shape[0]):\n",
    "#     # シートごとのデータを抽出\n",
    "#     sheet_data = X[i]\n",
    "# \n",
    "#     # 標準化器を作成し、データを標準化\n",
    "#     scaler = StandardScaler()\n",
    "#     sheet_data_standardized = scaler.fit_transform(sheet_data)\n",
    "# \n",
    "#     # 標準化されたデータを元の配列に戻す\n",
    "#     X[i] = sheet_data_standardized\n",
    "\n"
   ],
   "metadata": {
    "collapsed": false,
    "ExecuteTime": {
     "end_time": "2023-12-18T11:35:29.790405675Z",
     "start_time": "2023-12-18T11:35:29.619564777Z"
    }
   }
  },
  {
   "cell_type": "code",
   "execution_count": 7,
   "outputs": [],
   "source": [
    "#データセットの特徴量の値の大部分が同じデータのみの場合にその行（もしくは列）を削除する\n",
    "\n",
    "from sklearn.feature_selection import VarianceThreshold\n",
    "\n",
    "# for i in range(X.shape[0]):\n",
    "#     sheet_data = X[i]  # シートごとのデータを抽出\n",
    "# \n",
    "#     # VarianceThresholdを適用して行（もしくは列）を削除\n",
    "#     selector = VarianceThreshold()\n",
    "#     sheet_data_selected = selector.fit_transform(sheet_data)\n",
    "# \n",
    "#     # 削除後のデータを元の配列に戻す\n",
    "#     if sheet_data_selected.ndim == 1:\n",
    "#         sheet_data_selected = sheet_data_selected.reshape(-1, 1)\n",
    "#     X[i] = sheet_data_selected\n"
   ],
   "metadata": {
    "collapsed": false,
    "ExecuteTime": {
     "end_time": "2023-12-18T11:35:29.834036619Z",
     "start_time": "2023-12-18T11:35:29.791624671Z"
    }
   }
  },
  {
   "cell_type": "code",
   "execution_count": 8,
   "outputs": [],
   "source": [
    "#Xを3次元配列に変換する\n",
    "X = np.reshape(X, (X.shape[0], X.shape[1], 1))\n",
    "\n"
   ],
   "metadata": {
    "collapsed": false,
    "ExecuteTime": {
     "end_time": "2023-12-18T11:35:29.878071864Z",
     "start_time": "2023-12-18T11:35:29.834045035Z"
    }
   }
  },
  {
   "cell_type": "code",
   "execution_count": 9,
   "outputs": [
    {
     "name": "stdout",
     "output_type": "stream",
     "text": [
      "(800, 101, 1)\n",
      "(100, 101, 1)\n",
      "(100, 101, 1)\n",
      "(800, 2)\n",
      "(100, 2)\n",
      "(100, 2)\n"
     ]
    }
   ],
   "source": [
    "from sklearn.model_selection import train_test_split\n",
    "\n",
    "#学習データセットと検証データセットとテストデータセットの分割割合を変数で指定する\n",
    "train_size = 0.8\n",
    "val_size = 0.1\n",
    "test_size = 0.1\n",
    "\n",
    "#学習データセットと検証データセットとテストデータセットを分割する(シャッフルはしない)\n",
    "XTrain, XTest, YTrain, YTest = train_test_split(X, Y, test_size=1 - train_size, shuffle=False)\n",
    "XVal, XTest, YVal, YTest = train_test_split(XTest, YTest, test_size=test_size / (test_size + val_size), shuffle=False)\n",
    "\n",
    "#学習データセットと検証データセットとテストデータセットの次元数を確認する\n",
    "print(XTrain.shape)\n",
    "print(XVal.shape)\n",
    "print(XTest.shape)\n",
    "print(YTrain.shape)\n",
    "print(YVal.shape)\n",
    "print(YTest.shape)\n",
    "\n",
    "#入力の次元はそれぞれ(サンプル数、タイムステップ数、特徴量)である\n",
    "#Xの2番目の次元と3番目の次元を入れ替える\n",
    "XTrain = np.swapaxes(XTrain, 1, 2)\n",
    "XVal = np.swapaxes(XVal, 1, 2)\n",
    "XTest = np.swapaxes(XTest, 1, 2)\n"
   ],
   "metadata": {
    "collapsed": false,
    "ExecuteTime": {
     "end_time": "2023-12-18T11:35:29.879118566Z",
     "start_time": "2023-12-18T11:35:29.878079379Z"
    }
   }
  },
  {
   "cell_type": "code",
   "execution_count": 10,
   "outputs": [
    {
     "name": "stdout",
     "output_type": "stream",
     "text": [
      "2.12.1\n"
     ]
    }
   ],
   "source": [
    "#GPUを使ったLSTMmodelの作成\n",
    "\n",
    "#tensorflowのバージョンを確認する\n",
    "print(tf.__version__)\n"
   ],
   "metadata": {
    "collapsed": false,
    "ExecuteTime": {
     "end_time": "2023-12-18T11:35:29.879712635Z",
     "start_time": "2023-12-18T11:35:29.878300124Z"
    }
   }
  },
  {
   "cell_type": "code",
   "execution_count": 11,
   "outputs": [
    {
     "name": "stdout",
     "output_type": "stream",
     "text": [
      "(1, 101)\n"
     ]
    },
    {
     "name": "stderr",
     "output_type": "stream",
     "text": [
      "2023-12-18 20:35:29.877607: I tensorflow/compiler/xla/stream_executor/cuda/cuda_gpu_executor.cc:996] successful NUMA node read from SysFS had negative value (-1), but there must be at least one NUMA node, so returning NUMA node zero. See more at https://github.com/torvalds/linux/blob/v6.0/Documentation/ABI/testing/sysfs-bus-pci#L344-L355\n",
      "2023-12-18 20:35:29.877833: I tensorflow/compiler/xla/stream_executor/cuda/cuda_gpu_executor.cc:996] successful NUMA node read from SysFS had negative value (-1), but there must be at least one NUMA node, so returning NUMA node zero. See more at https://github.com/torvalds/linux/blob/v6.0/Documentation/ABI/testing/sysfs-bus-pci#L344-L355\n",
      "2023-12-18 20:35:29.878022: I tensorflow/compiler/xla/stream_executor/cuda/cuda_gpu_executor.cc:996] successful NUMA node read from SysFS had negative value (-1), but there must be at least one NUMA node, so returning NUMA node zero. See more at https://github.com/torvalds/linux/blob/v6.0/Documentation/ABI/testing/sysfs-bus-pci#L344-L355\n",
      "2023-12-18 20:35:29.878384: I tensorflow/compiler/xla/stream_executor/cuda/cuda_gpu_executor.cc:996] successful NUMA node read from SysFS had negative value (-1), but there must be at least one NUMA node, so returning NUMA node zero. See more at https://github.com/torvalds/linux/blob/v6.0/Documentation/ABI/testing/sysfs-bus-pci#L344-L355\n",
      "2023-12-18 20:35:29.878585: I tensorflow/compiler/xla/stream_executor/cuda/cuda_gpu_executor.cc:996] successful NUMA node read from SysFS had negative value (-1), but there must be at least one NUMA node, so returning NUMA node zero. See more at https://github.com/torvalds/linux/blob/v6.0/Documentation/ABI/testing/sysfs-bus-pci#L344-L355\n",
      "2023-12-18 20:35:29.878770: I tensorflow/compiler/xla/stream_executor/cuda/cuda_gpu_executor.cc:996] successful NUMA node read from SysFS had negative value (-1), but there must be at least one NUMA node, so returning NUMA node zero. See more at https://github.com/torvalds/linux/blob/v6.0/Documentation/ABI/testing/sysfs-bus-pci#L344-L355\n",
      "2023-12-18 20:35:29.879016: I tensorflow/compiler/xla/stream_executor/cuda/cuda_gpu_executor.cc:996] successful NUMA node read from SysFS had negative value (-1), but there must be at least one NUMA node, so returning NUMA node zero. See more at https://github.com/torvalds/linux/blob/v6.0/Documentation/ABI/testing/sysfs-bus-pci#L344-L355\n",
      "2023-12-18 20:35:29.879205: I tensorflow/compiler/xla/stream_executor/cuda/cuda_gpu_executor.cc:996] successful NUMA node read from SysFS had negative value (-1), but there must be at least one NUMA node, so returning NUMA node zero. See more at https://github.com/torvalds/linux/blob/v6.0/Documentation/ABI/testing/sysfs-bus-pci#L344-L355\n",
      "2023-12-18 20:35:29.879348: I tensorflow/core/common_runtime/gpu/gpu_device.cc:1635] Created device /job:localhost/replica:0/task:0/device:GPU:0 with 13693 MB memory:  -> device: 0, name: NVIDIA RTX A4000, pci bus id: 0000:08:00.0, compute capability: 8.6\n",
      "2023-12-18 20:35:30.200207: I tensorflow/core/common_runtime/executor.cc:1197] [/device:CPU:0] (DEBUG INFO) Executor start aborting (this does not indicate an error and you can ignore this message): INVALID_ARGUMENT: You must feed a value for placeholder tensor 'gradients/split_2_grad/concat/split_2/split_dim' with dtype int32\n",
      "\t [[{{node gradients/split_2_grad/concat/split_2/split_dim}}]]\n",
      "2023-12-18 20:35:30.200870: I tensorflow/core/common_runtime/executor.cc:1197] [/device:CPU:0] (DEBUG INFO) Executor start aborting (this does not indicate an error and you can ignore this message): INVALID_ARGUMENT: You must feed a value for placeholder tensor 'gradients/split_grad/concat/split/split_dim' with dtype int32\n",
      "\t [[{{node gradients/split_grad/concat/split/split_dim}}]]\n",
      "2023-12-18 20:35:30.201466: I tensorflow/core/common_runtime/executor.cc:1197] [/device:CPU:0] (DEBUG INFO) Executor start aborting (this does not indicate an error and you can ignore this message): INVALID_ARGUMENT: You must feed a value for placeholder tensor 'gradients/split_1_grad/concat/split_1/split_dim' with dtype int32\n",
      "\t [[{{node gradients/split_1_grad/concat/split_1/split_dim}}]]\n"
     ]
    },
    {
     "name": "stdout",
     "output_type": "stream",
     "text": [
      "Model: \"sequential\"\n",
      "_________________________________________________________________\n",
      " Layer (type)                Output Shape              Param #   \n",
      "=================================================================\n",
      " lstm (LSTM)                 (None, 1, 256)            366592    \n",
      "                                                                 \n",
      " lstm_1 (LSTM)               (None, 1, 256)            525312    \n",
      "                                                                 \n",
      " dropout (Dropout)           (None, 1, 256)            0         \n",
      "                                                                 \n",
      " dense (Dense)               (None, 1, 1)              257       \n",
      "                                                                 \n",
      "=================================================================\n",
      "Total params: 892,161\n",
      "Trainable params: 892,161\n",
      "Non-trainable params: 0\n",
      "_________________________________________________________________\n"
     ]
    },
    {
     "name": "stderr",
     "output_type": "stream",
     "text": [
      "2023-12-18 20:35:30.428461: I tensorflow/core/common_runtime/executor.cc:1197] [/device:CPU:0] (DEBUG INFO) Executor start aborting (this does not indicate an error and you can ignore this message): INVALID_ARGUMENT: You must feed a value for placeholder tensor 'gradients/split_2_grad/concat/split_2/split_dim' with dtype int32\n",
      "\t [[{{node gradients/split_2_grad/concat/split_2/split_dim}}]]\n",
      "2023-12-18 20:35:30.429143: I tensorflow/core/common_runtime/executor.cc:1197] [/device:CPU:0] (DEBUG INFO) Executor start aborting (this does not indicate an error and you can ignore this message): INVALID_ARGUMENT: You must feed a value for placeholder tensor 'gradients/split_grad/concat/split/split_dim' with dtype int32\n",
      "\t [[{{node gradients/split_grad/concat/split/split_dim}}]]\n",
      "2023-12-18 20:35:30.429798: I tensorflow/core/common_runtime/executor.cc:1197] [/device:CPU:0] (DEBUG INFO) Executor start aborting (this does not indicate an error and you can ignore this message): INVALID_ARGUMENT: You must feed a value for placeholder tensor 'gradients/split_1_grad/concat/split_1/split_dim' with dtype int32\n",
      "\t [[{{node gradients/split_1_grad/concat/split_1/split_dim}}]]\n"
     ]
    }
   ],
   "source": [
    "\n",
    "##from tensorflow.python.keras.models import Sequential\n",
    "from tensorflow.keras.layers import Dense, Dropout\n",
    "from tensorflow.keras.callbacks import EarlyStopping\n",
    "from tensorflow.keras.optimizers import Adam\n",
    "\n",
    "# from keras.layers.normalization import batch_normalization\n",
    "# from tensorflow.python.keras.layers import\n",
    "from tensorflow.keras.callbacks import ReduceLROnPlateau\n",
    "from tensorflow.keras.callbacks import TensorBoard\n",
    "\n",
    "#モデルの層の作成(cudNNLSTM層を使用するためのインポート)\n",
    "from tensorflow.keras.layers import LSTM\n",
    "\n",
    "print((XTrain.shape[1:]))\n",
    "\n",
    "hidden_units = 256\n",
    "\n",
    "#モデルの作成\n",
    "model = keras.Sequential()\n",
    "model.add(LSTM(hidden_units, input_shape=(XTrain.shape[1:]), return_sequences=True))\n",
    "# model.add(Activation('relu'))\n",
    "# model.add(Dropout(0.2))\n",
    "# model.add(BatchNormalization())\n",
    "\n",
    "model.add(LSTM(hidden_units, return_sequences=True))\n",
    "# model.add(Activation('relu'))\n",
    "# model.add(Dropout(0.2))\n",
    "# model.add(BatchNormalization())\n",
    "\n",
    "# model.add(Dense(50, activation='relu'))\n",
    "model.add(Dropout(0.2))\n",
    "model.add(Dense(1, activation='relu'))\n",
    "\n",
    "# LearningRateSchedulerコールバックを作成する\n",
    "reduce_lr = ReduceLROnPlateau(monitor='val_loss', factor=0.2, patience=5, min_lr=0.0001)\n",
    "\n",
    "opt = Adam(learning_rate=0.01)\n",
    "\n",
    "# コンパイル時にオプティマイザを指定する(損失関数はMSE、評価関数はRMSEをカスタムで実装)\n",
    "\n",
    "loss_func = tf.keras.losses.MeanSquaredError(\n",
    "    reduction='auto', name='mean_squared_error'\n",
    ")\n",
    "\n",
    "eval_func = tf.keras.metrics.RootMeanSquaredError(\n",
    "    name='root_mean_squared_error', dtype=None\n",
    ")\n",
    "\n",
    "model.compile(loss=loss_func, optimizer=opt, metrics=eval_func)\n",
    "\n",
    "#モデルの概要を表示する\n",
    "model.summary()\n"
   ],
   "metadata": {
    "collapsed": false,
    "ExecuteTime": {
     "end_time": "2023-12-18T11:35:30.507396574Z",
     "start_time": "2023-12-18T11:35:29.878447232Z"
    }
   }
  },
  {
   "cell_type": "code",
   "execution_count": 12,
   "outputs": [],
   "source": [
    "# TensorBoardコールバックを作成\n",
    "tensorboard = TensorBoard(log_dir='./logs')\n",
    "#plotをlocalhostで表示\n",
    "\n",
    "#ターミナルにコマンドを打つ\n",
    "# tensorboard --logdir logs\n"
   ],
   "metadata": {
    "collapsed": false,
    "ExecuteTime": {
     "end_time": "2023-12-18T11:35:30.508484634Z",
     "start_time": "2023-12-18T11:35:30.506368767Z"
    }
   }
  },
  {
   "cell_type": "code",
   "execution_count": 13,
   "outputs": [
    {
     "name": "stdout",
     "output_type": "stream",
     "text": [
      "Epoch 1/100\n"
     ]
    },
    {
     "name": "stderr",
     "output_type": "stream",
     "text": [
      "2023-12-18 20:35:30.624038: I tensorflow/core/common_runtime/executor.cc:1197] [/device:CPU:0] (DEBUG INFO) Executor start aborting (this does not indicate an error and you can ignore this message): INVALID_ARGUMENT: You must feed a value for placeholder tensor 'gradients/split_2_grad/concat/split_2/split_dim' with dtype int32\n",
      "\t [[{{node gradients/split_2_grad/concat/split_2/split_dim}}]]\n",
      "2023-12-18 20:35:30.624933: I tensorflow/core/common_runtime/executor.cc:1197] [/device:CPU:0] (DEBUG INFO) Executor start aborting (this does not indicate an error and you can ignore this message): INVALID_ARGUMENT: You must feed a value for placeholder tensor 'gradients/split_grad/concat/split/split_dim' with dtype int32\n",
      "\t [[{{node gradients/split_grad/concat/split/split_dim}}]]\n",
      "2023-12-18 20:35:30.625573: I tensorflow/core/common_runtime/executor.cc:1197] [/device:CPU:0] (DEBUG INFO) Executor start aborting (this does not indicate an error and you can ignore this message): INVALID_ARGUMENT: You must feed a value for placeholder tensor 'gradients/split_1_grad/concat/split_1/split_dim' with dtype int32\n",
      "\t [[{{node gradients/split_1_grad/concat/split_1/split_dim}}]]\n",
      "2023-12-18 20:35:30.719456: I tensorflow/core/common_runtime/executor.cc:1197] [/device:CPU:0] (DEBUG INFO) Executor start aborting (this does not indicate an error and you can ignore this message): INVALID_ARGUMENT: You must feed a value for placeholder tensor 'gradients/split_2_grad/concat/split_2/split_dim' with dtype int32\n",
      "\t [[{{node gradients/split_2_grad/concat/split_2/split_dim}}]]\n",
      "2023-12-18 20:35:30.720351: I tensorflow/core/common_runtime/executor.cc:1197] [/device:CPU:0] (DEBUG INFO) Executor start aborting (this does not indicate an error and you can ignore this message): INVALID_ARGUMENT: You must feed a value for placeholder tensor 'gradients/split_grad/concat/split/split_dim' with dtype int32\n",
      "\t [[{{node gradients/split_grad/concat/split/split_dim}}]]\n",
      "2023-12-18 20:35:30.720981: I tensorflow/core/common_runtime/executor.cc:1197] [/device:CPU:0] (DEBUG INFO) Executor start aborting (this does not indicate an error and you can ignore this message): INVALID_ARGUMENT: You must feed a value for placeholder tensor 'gradients/split_1_grad/concat/split_1/split_dim' with dtype int32\n",
      "\t [[{{node gradients/split_1_grad/concat/split_1/split_dim}}]]\n",
      "2023-12-18 20:35:31.113623: I tensorflow/core/common_runtime/executor.cc:1197] [/device:CPU:0] (DEBUG INFO) Executor start aborting (this does not indicate an error and you can ignore this message): INVALID_ARGUMENT: You must feed a value for placeholder tensor 'gradients/split_2_grad/concat/split_2/split_dim' with dtype int32\n",
      "\t [[{{node gradients/split_2_grad/concat/split_2/split_dim}}]]\n",
      "2023-12-18 20:35:31.114525: I tensorflow/core/common_runtime/executor.cc:1197] [/device:CPU:0] (DEBUG INFO) Executor start aborting (this does not indicate an error and you can ignore this message): INVALID_ARGUMENT: You must feed a value for placeholder tensor 'gradients/split_grad/concat/split/split_dim' with dtype int32\n",
      "\t [[{{node gradients/split_grad/concat/split/split_dim}}]]\n",
      "2023-12-18 20:35:31.115126: I tensorflow/core/common_runtime/executor.cc:1197] [/device:CPU:0] (DEBUG INFO) Executor start aborting (this does not indicate an error and you can ignore this message): INVALID_ARGUMENT: You must feed a value for placeholder tensor 'gradients/split_1_grad/concat/split_1/split_dim' with dtype int32\n",
      "\t [[{{node gradients/split_1_grad/concat/split_1/split_dim}}]]\n",
      "2023-12-18 20:35:31.208275: I tensorflow/core/common_runtime/executor.cc:1197] [/device:CPU:0] (DEBUG INFO) Executor start aborting (this does not indicate an error and you can ignore this message): INVALID_ARGUMENT: You must feed a value for placeholder tensor 'gradients/split_2_grad/concat/split_2/split_dim' with dtype int32\n",
      "\t [[{{node gradients/split_2_grad/concat/split_2/split_dim}}]]\n",
      "2023-12-18 20:35:31.208976: I tensorflow/core/common_runtime/executor.cc:1197] [/device:CPU:0] (DEBUG INFO) Executor start aborting (this does not indicate an error and you can ignore this message): INVALID_ARGUMENT: You must feed a value for placeholder tensor 'gradients/split_grad/concat/split/split_dim' with dtype int32\n",
      "\t [[{{node gradients/split_grad/concat/split/split_dim}}]]\n",
      "2023-12-18 20:35:31.209599: I tensorflow/core/common_runtime/executor.cc:1197] [/device:CPU:0] (DEBUG INFO) Executor start aborting (this does not indicate an error and you can ignore this message): INVALID_ARGUMENT: You must feed a value for placeholder tensor 'gradients/split_1_grad/concat/split_1/split_dim' with dtype int32\n",
      "\t [[{{node gradients/split_1_grad/concat/split_1/split_dim}}]]\n",
      "2023-12-18 20:35:31.624227: I tensorflow/compiler/xla/stream_executor/cuda/cuda_dnn.cc:424] Loaded cuDNN version 8907\n",
      "2023-12-18 20:35:31.691939: I tensorflow/compiler/xla/stream_executor/cuda/cuda_blas.cc:637] TensorFloat-32 will be used for the matrix multiplication. This will only be logged once.\n",
      "2023-12-18 20:35:31.698250: I tensorflow/compiler/xla/service/service.cc:169] XLA service 0x7efef574d7e0 initialized for platform CUDA (this does not guarantee that XLA will be used). Devices:\n",
      "2023-12-18 20:35:31.698265: I tensorflow/compiler/xla/service/service.cc:177]   StreamExecutor device (0): NVIDIA RTX A4000, Compute Capability 8.6\n",
      "2023-12-18 20:35:31.701196: I tensorflow/compiler/mlir/tensorflow/utils/dump_mlir_util.cc:269] disabling MLIR crash reproducer, set env var `MLIR_CRASH_REPRODUCER_DIRECTORY` to enable.\n",
      "2023-12-18 20:35:31.748299: I tensorflow/tsl/platform/default/subprocess.cc:304] Start cannot spawn child process: No such file or directory\n",
      "2023-12-18 20:35:31.794942: I ./tensorflow/compiler/jit/device_compiler.h:180] Compiled cluster using XLA!  This line is logged at most once for the lifetime of the process.\n"
     ]
    },
    {
     "name": "stdout",
     "output_type": "stream",
     "text": [
      "23/25 [==========================>...] - ETA: 0s - loss: 1416.9011 - root_mean_squared_error: 37.6417 "
     ]
    },
    {
     "name": "stderr",
     "output_type": "stream",
     "text": [
      "2023-12-18 20:35:32.291055: I tensorflow/core/common_runtime/executor.cc:1197] [/device:CPU:0] (DEBUG INFO) Executor start aborting (this does not indicate an error and you can ignore this message): INVALID_ARGUMENT: You must feed a value for placeholder tensor 'gradients/split_2_grad/concat/split_2/split_dim' with dtype int32\n",
      "\t [[{{node gradients/split_2_grad/concat/split_2/split_dim}}]]\n",
      "2023-12-18 20:35:32.291908: I tensorflow/core/common_runtime/executor.cc:1197] [/device:CPU:0] (DEBUG INFO) Executor start aborting (this does not indicate an error and you can ignore this message): INVALID_ARGUMENT: You must feed a value for placeholder tensor 'gradients/split_grad/concat/split/split_dim' with dtype int32\n",
      "\t [[{{node gradients/split_grad/concat/split/split_dim}}]]\n",
      "2023-12-18 20:35:32.292469: I tensorflow/core/common_runtime/executor.cc:1197] [/device:CPU:0] (DEBUG INFO) Executor start aborting (this does not indicate an error and you can ignore this message): INVALID_ARGUMENT: You must feed a value for placeholder tensor 'gradients/split_1_grad/concat/split_1/split_dim' with dtype int32\n",
      "\t [[{{node gradients/split_1_grad/concat/split_1/split_dim}}]]\n",
      "2023-12-18 20:35:32.383166: I tensorflow/core/common_runtime/executor.cc:1197] [/device:CPU:0] (DEBUG INFO) Executor start aborting (this does not indicate an error and you can ignore this message): INVALID_ARGUMENT: You must feed a value for placeholder tensor 'gradients/split_2_grad/concat/split_2/split_dim' with dtype int32\n",
      "\t [[{{node gradients/split_2_grad/concat/split_2/split_dim}}]]\n",
      "2023-12-18 20:35:32.383785: I tensorflow/core/common_runtime/executor.cc:1197] [/device:CPU:0] (DEBUG INFO) Executor start aborting (this does not indicate an error and you can ignore this message): INVALID_ARGUMENT: You must feed a value for placeholder tensor 'gradients/split_grad/concat/split/split_dim' with dtype int32\n",
      "\t [[{{node gradients/split_grad/concat/split/split_dim}}]]\n",
      "2023-12-18 20:35:32.384383: I tensorflow/core/common_runtime/executor.cc:1197] [/device:CPU:0] (DEBUG INFO) Executor start aborting (this does not indicate an error and you can ignore this message): INVALID_ARGUMENT: You must feed a value for placeholder tensor 'gradients/split_1_grad/concat/split_1/split_dim' with dtype int32\n",
      "\t [[{{node gradients/split_1_grad/concat/split_1/split_dim}}]]\n"
     ]
    },
    {
     "name": "stdout",
     "output_type": "stream",
     "text": [
      "25/25 [==============================] - 2s 18ms/step - loss: 1412.0150 - root_mean_squared_error: 37.5768 - val_loss: 1799.8409 - val_root_mean_squared_error: 42.4245 - lr: 0.0100\n",
      "Epoch 2/100\n",
      "25/25 [==============================] - 0s 3ms/step - loss: 1318.0441 - root_mean_squared_error: 36.3049 - val_loss: 1799.8086 - val_root_mean_squared_error: 42.4242 - lr: 0.0100\n",
      "Epoch 3/100\n",
      "25/25 [==============================] - 0s 3ms/step - loss: 1315.0162 - root_mean_squared_error: 36.2632 - val_loss: 1799.7588 - val_root_mean_squared_error: 42.4236 - lr: 0.0100\n",
      "Epoch 4/100\n",
      "25/25 [==============================] - 0s 3ms/step - loss: 1311.8855 - root_mean_squared_error: 36.2200 - val_loss: 1799.7013 - val_root_mean_squared_error: 42.4229 - lr: 0.0100\n",
      "Epoch 5/100\n",
      "25/25 [==============================] - 0s 3ms/step - loss: 1299.8107 - root_mean_squared_error: 36.0529 - val_loss: 1799.8936 - val_root_mean_squared_error: 42.4252 - lr: 0.0100\n",
      "Epoch 6/100\n",
      "25/25 [==============================] - 0s 6ms/step - loss: 1290.3203 - root_mean_squared_error: 35.9210 - val_loss: 1797.0800 - val_root_mean_squared_error: 42.3920 - lr: 0.0100\n",
      "Epoch 7/100\n",
      "25/25 [==============================] - 0s 6ms/step - loss: 1289.5730 - root_mean_squared_error: 35.9106 - val_loss: 1796.3750 - val_root_mean_squared_error: 42.3837 - lr: 0.0100\n",
      "Epoch 8/100\n",
      "25/25 [==============================] - 0s 6ms/step - loss: 1289.6941 - root_mean_squared_error: 35.9123 - val_loss: 1796.6304 - val_root_mean_squared_error: 42.3867 - lr: 0.0100\n",
      "Epoch 9/100\n",
      "25/25 [==============================] - 0s 5ms/step - loss: 1289.5239 - root_mean_squared_error: 35.9099 - val_loss: 1796.3622 - val_root_mean_squared_error: 42.3835 - lr: 0.0100\n",
      "Epoch 10/100\n",
      "25/25 [==============================] - 0s 4ms/step - loss: 1289.5448 - root_mean_squared_error: 35.9102 - val_loss: 1796.3303 - val_root_mean_squared_error: 42.3831 - lr: 0.0100\n",
      "Epoch 11/100\n",
      "25/25 [==============================] - 0s 4ms/step - loss: 1289.3839 - root_mean_squared_error: 35.9080 - val_loss: 1796.3336 - val_root_mean_squared_error: 42.3832 - lr: 0.0100\n",
      "Epoch 12/100\n",
      "25/25 [==============================] - 0s 6ms/step - loss: 1289.3154 - root_mean_squared_error: 35.9070 - val_loss: 1796.3359 - val_root_mean_squared_error: 42.3832 - lr: 0.0100\n",
      "Epoch 13/100\n",
      "25/25 [==============================] - 0s 4ms/step - loss: 1289.5051 - root_mean_squared_error: 35.9097 - val_loss: 1796.3352 - val_root_mean_squared_error: 42.3832 - lr: 0.0100\n",
      "Epoch 14/100\n",
      "25/25 [==============================] - 0s 4ms/step - loss: 1289.4215 - root_mean_squared_error: 35.9085 - val_loss: 1796.3286 - val_root_mean_squared_error: 42.3831 - lr: 0.0100\n",
      "Epoch 15/100\n",
      "25/25 [==============================] - 0s 4ms/step - loss: 1289.4221 - root_mean_squared_error: 35.9085 - val_loss: 1796.3293 - val_root_mean_squared_error: 42.3831 - lr: 0.0100\n",
      "Epoch 16/100\n",
      "25/25 [==============================] - 0s 6ms/step - loss: 1289.3030 - root_mean_squared_error: 35.9069 - val_loss: 1796.3308 - val_root_mean_squared_error: 42.3831 - lr: 0.0100\n",
      "Epoch 17/100\n",
      "25/25 [==============================] - 0s 6ms/step - loss: 1289.3282 - root_mean_squared_error: 35.9072 - val_loss: 1796.3406 - val_root_mean_squared_error: 42.3833 - lr: 0.0100\n",
      "Epoch 18/100\n",
      "25/25 [==============================] - 0s 6ms/step - loss: 1289.4624 - root_mean_squared_error: 35.9091 - val_loss: 1796.3303 - val_root_mean_squared_error: 42.3831 - lr: 0.0100\n",
      "Epoch 19/100\n",
      "25/25 [==============================] - 0s 4ms/step - loss: 1289.3031 - root_mean_squared_error: 35.9069 - val_loss: 1796.3516 - val_root_mean_squared_error: 42.3834 - lr: 0.0100\n",
      "Epoch 20/100\n",
      "25/25 [==============================] - 0s 4ms/step - loss: 1289.2612 - root_mean_squared_error: 35.9063 - val_loss: 1796.3517 - val_root_mean_squared_error: 42.3834 - lr: 0.0020\n",
      "Epoch 21/100\n",
      "25/25 [==============================] - 0s 3ms/step - loss: 1289.2944 - root_mean_squared_error: 35.9067 - val_loss: 1796.3416 - val_root_mean_squared_error: 42.3833 - lr: 0.0020\n",
      "Epoch 22/100\n",
      "25/25 [==============================] - 0s 5ms/step - loss: 1289.3356 - root_mean_squared_error: 35.9073 - val_loss: 1796.3330 - val_root_mean_squared_error: 42.3832 - lr: 0.0020\n",
      "Epoch 23/100\n",
      "25/25 [==============================] - 0s 6ms/step - loss: 1289.3265 - root_mean_squared_error: 35.9072 - val_loss: 1796.3320 - val_root_mean_squared_error: 42.3832 - lr: 0.0020\n",
      "Epoch 24/100\n",
      "25/25 [==============================] - 0s 4ms/step - loss: 1289.3250 - root_mean_squared_error: 35.9072 - val_loss: 1796.3309 - val_root_mean_squared_error: 42.3831 - lr: 0.0020\n",
      "Epoch 25/100\n",
      "25/25 [==============================] - 0s 3ms/step - loss: 1289.3164 - root_mean_squared_error: 35.9071 - val_loss: 1796.3311 - val_root_mean_squared_error: 42.3831 - lr: 4.0000e-04\n",
      "Epoch 26/100\n",
      "25/25 [==============================] - 0s 3ms/step - loss: 1289.2640 - root_mean_squared_error: 35.9063 - val_loss: 1796.3309 - val_root_mean_squared_error: 42.3831 - lr: 4.0000e-04\n",
      "Epoch 27/100\n",
      "25/25 [==============================] - 0s 6ms/step - loss: 1289.3916 - root_mean_squared_error: 35.9081 - val_loss: 1796.3303 - val_root_mean_squared_error: 42.3831 - lr: 4.0000e-04\n",
      "Epoch 28/100\n",
      "25/25 [==============================] - 0s 5ms/step - loss: 1289.2430 - root_mean_squared_error: 35.9060 - val_loss: 1796.3308 - val_root_mean_squared_error: 42.3831 - lr: 4.0000e-04\n",
      "Epoch 29/100\n",
      "25/25 [==============================] - 0s 3ms/step - loss: 1289.2965 - root_mean_squared_error: 35.9068 - val_loss: 1796.3313 - val_root_mean_squared_error: 42.3831 - lr: 4.0000e-04\n",
      "Epoch 30/100\n",
      "25/25 [==============================] - 0s 3ms/step - loss: 1289.2861 - root_mean_squared_error: 35.9066 - val_loss: 1796.3313 - val_root_mean_squared_error: 42.3831 - lr: 1.0000e-04\n",
      "Epoch 31/100\n",
      "25/25 [==============================] - 0s 3ms/step - loss: 1289.2340 - root_mean_squared_error: 35.9059 - val_loss: 1796.3311 - val_root_mean_squared_error: 42.3831 - lr: 1.0000e-04\n",
      "Epoch 32/100\n",
      "25/25 [==============================] - 0s 5ms/step - loss: 1289.1842 - root_mean_squared_error: 35.9052 - val_loss: 1796.3309 - val_root_mean_squared_error: 42.3831 - lr: 1.0000e-04\n",
      "Epoch 33/100\n",
      "25/25 [==============================] - 0s 6ms/step - loss: 1289.2236 - root_mean_squared_error: 35.9058 - val_loss: 1796.3309 - val_root_mean_squared_error: 42.3831 - lr: 1.0000e-04\n",
      "Epoch 34/100\n",
      "25/25 [==============================] - 0s 4ms/step - loss: 1289.2440 - root_mean_squared_error: 35.9060 - val_loss: 1796.3309 - val_root_mean_squared_error: 42.3831 - lr: 1.0000e-04\n",
      "Epoch 35/100\n",
      "25/25 [==============================] - 0s 3ms/step - loss: 1289.2618 - root_mean_squared_error: 35.9063 - val_loss: 1796.3311 - val_root_mean_squared_error: 42.3831 - lr: 1.0000e-04\n",
      "Epoch 36/100\n",
      "25/25 [==============================] - 0s 3ms/step - loss: 1289.3081 - root_mean_squared_error: 35.9069 - val_loss: 1796.3313 - val_root_mean_squared_error: 42.3831 - lr: 1.0000e-04\n",
      "Epoch 37/100\n",
      "25/25 [==============================] - 0s 3ms/step - loss: 1289.2024 - root_mean_squared_error: 35.9055 - val_loss: 1796.3313 - val_root_mean_squared_error: 42.3831 - lr: 1.0000e-04\n",
      "Epoch 38/100\n",
      "25/25 [==============================] - 0s 3ms/step - loss: 1289.2550 - root_mean_squared_error: 35.9062 - val_loss: 1796.3306 - val_root_mean_squared_error: 42.3831 - lr: 1.0000e-04\n",
      "Epoch 39/100\n",
      "25/25 [==============================] - 0s 3ms/step - loss: 1289.1987 - root_mean_squared_error: 35.9054 - val_loss: 1796.3302 - val_root_mean_squared_error: 42.3831 - lr: 1.0000e-04\n",
      "Epoch 40/100\n",
      "25/25 [==============================] - 0s 3ms/step - loss: 1289.2075 - root_mean_squared_error: 35.9055 - val_loss: 1796.3300 - val_root_mean_squared_error: 42.3831 - lr: 1.0000e-04\n",
      "Epoch 41/100\n",
      "25/25 [==============================] - 0s 3ms/step - loss: 1289.2745 - root_mean_squared_error: 35.9065 - val_loss: 1796.3297 - val_root_mean_squared_error: 42.3831 - lr: 1.0000e-04\n",
      "Epoch 42/100\n",
      "25/25 [==============================] - 0s 4ms/step - loss: 1289.2600 - root_mean_squared_error: 35.9063 - val_loss: 1796.3297 - val_root_mean_squared_error: 42.3831 - lr: 1.0000e-04\n",
      "Epoch 43/100\n",
      "25/25 [==============================] - 0s 3ms/step - loss: 1289.2581 - root_mean_squared_error: 35.9062 - val_loss: 1796.3297 - val_root_mean_squared_error: 42.3831 - lr: 1.0000e-04\n",
      "Epoch 44/100\n",
      "25/25 [==============================] - 0s 3ms/step - loss: 1289.2549 - root_mean_squared_error: 35.9062 - val_loss: 1796.3297 - val_root_mean_squared_error: 42.3831 - lr: 1.0000e-04\n",
      "Epoch 45/100\n",
      "25/25 [==============================] - 0s 3ms/step - loss: 1289.1759 - root_mean_squared_error: 35.9051 - val_loss: 1796.3300 - val_root_mean_squared_error: 42.3831 - lr: 1.0000e-04\n",
      "Epoch 46/100\n",
      "25/25 [==============================] - 0s 4ms/step - loss: 1289.2355 - root_mean_squared_error: 35.9059 - val_loss: 1796.3303 - val_root_mean_squared_error: 42.3831 - lr: 1.0000e-04\n",
      "Epoch 47/100\n",
      "25/25 [==============================] - 0s 6ms/step - loss: 1289.2303 - root_mean_squared_error: 35.9059 - val_loss: 1796.3306 - val_root_mean_squared_error: 42.3831 - lr: 1.0000e-04\n",
      "Epoch 48/100\n",
      "25/25 [==============================] - 0s 4ms/step - loss: 1289.2759 - root_mean_squared_error: 35.9065 - val_loss: 1796.3304 - val_root_mean_squared_error: 42.3831 - lr: 1.0000e-04\n",
      "Epoch 49/100\n",
      "25/25 [==============================] - 0s 4ms/step - loss: 1289.2521 - root_mean_squared_error: 35.9062 - val_loss: 1796.3302 - val_root_mean_squared_error: 42.3831 - lr: 1.0000e-04\n",
      "Epoch 50/100\n",
      "25/25 [==============================] - 0s 3ms/step - loss: 1289.3313 - root_mean_squared_error: 35.9073 - val_loss: 1796.3303 - val_root_mean_squared_error: 42.3831 - lr: 1.0000e-04\n",
      "Epoch 51/100\n",
      "25/25 [==============================] - 0s 5ms/step - loss: 1289.1798 - root_mean_squared_error: 35.9052 - val_loss: 1796.3306 - val_root_mean_squared_error: 42.3831 - lr: 1.0000e-04\n",
      "Epoch 52/100\n",
      "25/25 [==============================] - 0s 6ms/step - loss: 1289.2157 - root_mean_squared_error: 35.9057 - val_loss: 1796.3304 - val_root_mean_squared_error: 42.3831 - lr: 1.0000e-04\n",
      "Epoch 53/100\n",
      "25/25 [==============================] - 0s 4ms/step - loss: 1289.3052 - root_mean_squared_error: 35.9069 - val_loss: 1796.3306 - val_root_mean_squared_error: 42.3831 - lr: 1.0000e-04\n",
      "Epoch 54/100\n",
      "25/25 [==============================] - 0s 4ms/step - loss: 1289.2872 - root_mean_squared_error: 35.9066 - val_loss: 1796.3308 - val_root_mean_squared_error: 42.3831 - lr: 1.0000e-04\n",
      "Epoch 55/100\n",
      "25/25 [==============================] - 0s 5ms/step - loss: 1289.2190 - root_mean_squared_error: 35.9057 - val_loss: 1796.3303 - val_root_mean_squared_error: 42.3831 - lr: 1.0000e-04\n",
      "Epoch 56/100\n",
      "25/25 [==============================] - 0s 6ms/step - loss: 1289.1112 - root_mean_squared_error: 35.9042 - val_loss: 1796.3303 - val_root_mean_squared_error: 42.3831 - lr: 1.0000e-04\n",
      "Epoch 57/100\n",
      "25/25 [==============================] - 0s 4ms/step - loss: 1289.2113 - root_mean_squared_error: 35.9056 - val_loss: 1796.3302 - val_root_mean_squared_error: 42.3831 - lr: 1.0000e-04\n",
      "Epoch 58/100\n",
      "25/25 [==============================] - 0s 4ms/step - loss: 1289.2810 - root_mean_squared_error: 35.9066 - val_loss: 1796.3297 - val_root_mean_squared_error: 42.3831 - lr: 1.0000e-04\n",
      "Epoch 59/100\n",
      "25/25 [==============================] - 0s 5ms/step - loss: 1289.2466 - root_mean_squared_error: 35.9061 - val_loss: 1796.3297 - val_root_mean_squared_error: 42.3831 - lr: 1.0000e-04\n",
      "Epoch 60/100\n",
      "25/25 [==============================] - 0s 4ms/step - loss: 1289.2211 - root_mean_squared_error: 35.9057 - val_loss: 1796.3297 - val_root_mean_squared_error: 42.3831 - lr: 1.0000e-04\n",
      "Epoch 61/100\n",
      "25/25 [==============================] - 0s 4ms/step - loss: 1289.2781 - root_mean_squared_error: 35.9065 - val_loss: 1796.3296 - val_root_mean_squared_error: 42.3831 - lr: 1.0000e-04\n",
      "Epoch 62/100\n",
      "25/25 [==============================] - 0s 4ms/step - loss: 1289.2314 - root_mean_squared_error: 35.9059 - val_loss: 1796.3292 - val_root_mean_squared_error: 42.3831 - lr: 1.0000e-04\n",
      "Epoch 63/100\n",
      "25/25 [==============================] - 0s 4ms/step - loss: 1289.3146 - root_mean_squared_error: 35.9070 - val_loss: 1796.3287 - val_root_mean_squared_error: 42.3831 - lr: 1.0000e-04\n",
      "Epoch 64/100\n",
      "25/25 [==============================] - 0s 4ms/step - loss: 1289.3910 - root_mean_squared_error: 35.9081 - val_loss: 1796.3289 - val_root_mean_squared_error: 42.3831 - lr: 1.0000e-04\n",
      "Epoch 65/100\n",
      "25/25 [==============================] - 0s 3ms/step - loss: 1289.2573 - root_mean_squared_error: 35.9062 - val_loss: 1796.3287 - val_root_mean_squared_error: 42.3831 - lr: 1.0000e-04\n",
      "Epoch 66/100\n",
      "25/25 [==============================] - 0s 4ms/step - loss: 1289.2527 - root_mean_squared_error: 35.9062 - val_loss: 1796.3289 - val_root_mean_squared_error: 42.3831 - lr: 1.0000e-04\n",
      "Epoch 67/100\n",
      "25/25 [==============================] - 0s 4ms/step - loss: 1289.3097 - root_mean_squared_error: 35.9070 - val_loss: 1796.3292 - val_root_mean_squared_error: 42.3831 - lr: 1.0000e-04\n",
      "Epoch 68/100\n",
      "25/25 [==============================] - 0s 4ms/step - loss: 1289.2281 - root_mean_squared_error: 35.9058 - val_loss: 1796.3296 - val_root_mean_squared_error: 42.3831 - lr: 1.0000e-04\n",
      "Epoch 69/100\n",
      "25/25 [==============================] - 0s 4ms/step - loss: 1289.2184 - root_mean_squared_error: 35.9057 - val_loss: 1796.3298 - val_root_mean_squared_error: 42.3831 - lr: 1.0000e-04\n",
      "Epoch 70/100\n",
      "25/25 [==============================] - 0s 3ms/step - loss: 1289.2238 - root_mean_squared_error: 35.9058 - val_loss: 1796.3298 - val_root_mean_squared_error: 42.3831 - lr: 1.0000e-04\n",
      "Epoch 71/100\n",
      "25/25 [==============================] - 0s 3ms/step - loss: 1289.2903 - root_mean_squared_error: 35.9067 - val_loss: 1796.3296 - val_root_mean_squared_error: 42.3831 - lr: 1.0000e-04\n",
      "Epoch 72/100\n",
      "25/25 [==============================] - 0s 3ms/step - loss: 1289.3448 - root_mean_squared_error: 35.9074 - val_loss: 1796.3298 - val_root_mean_squared_error: 42.3831 - lr: 1.0000e-04\n",
      "Epoch 73/100\n",
      "25/25 [==============================] - 0s 3ms/step - loss: 1289.1746 - root_mean_squared_error: 35.9051 - val_loss: 1796.3297 - val_root_mean_squared_error: 42.3831 - lr: 1.0000e-04\n",
      "Epoch 74/100\n",
      "25/25 [==============================] - 0s 3ms/step - loss: 1289.2227 - root_mean_squared_error: 35.9057 - val_loss: 1796.3298 - val_root_mean_squared_error: 42.3831 - lr: 1.0000e-04\n",
      "Epoch 75/100\n",
      "25/25 [==============================] - 0s 3ms/step - loss: 1289.2930 - root_mean_squared_error: 35.9067 - val_loss: 1796.3298 - val_root_mean_squared_error: 42.3831 - lr: 1.0000e-04\n",
      "Epoch 76/100\n",
      "25/25 [==============================] - 0s 3ms/step - loss: 1289.2499 - root_mean_squared_error: 35.9061 - val_loss: 1796.3303 - val_root_mean_squared_error: 42.3831 - lr: 1.0000e-04\n",
      "Epoch 77/100\n",
      "25/25 [==============================] - 0s 3ms/step - loss: 1289.2334 - root_mean_squared_error: 35.9059 - val_loss: 1796.3298 - val_root_mean_squared_error: 42.3831 - lr: 1.0000e-04\n",
      "Epoch 78/100\n",
      "25/25 [==============================] - 0s 3ms/step - loss: 1289.2990 - root_mean_squared_error: 35.9068 - val_loss: 1796.3297 - val_root_mean_squared_error: 42.3831 - lr: 1.0000e-04\n",
      "Epoch 79/100\n",
      "25/25 [==============================] - 0s 3ms/step - loss: 1289.1886 - root_mean_squared_error: 35.9053 - val_loss: 1796.3298 - val_root_mean_squared_error: 42.3831 - lr: 1.0000e-04\n",
      "Epoch 80/100\n",
      "25/25 [==============================] - 0s 3ms/step - loss: 1289.3892 - root_mean_squared_error: 35.9081 - val_loss: 1796.3302 - val_root_mean_squared_error: 42.3831 - lr: 1.0000e-04\n",
      "Epoch 81/100\n",
      "25/25 [==============================] - 0s 3ms/step - loss: 1289.2714 - root_mean_squared_error: 35.9064 - val_loss: 1796.3304 - val_root_mean_squared_error: 42.3831 - lr: 1.0000e-04\n",
      "Epoch 82/100\n",
      "25/25 [==============================] - 0s 3ms/step - loss: 1289.1753 - root_mean_squared_error: 35.9051 - val_loss: 1796.3302 - val_root_mean_squared_error: 42.3831 - lr: 1.0000e-04\n",
      "Epoch 83/100\n",
      "25/25 [==============================] - 0s 3ms/step - loss: 1289.2194 - root_mean_squared_error: 35.9057 - val_loss: 1796.3297 - val_root_mean_squared_error: 42.3831 - lr: 1.0000e-04\n",
      "Epoch 84/100\n",
      "25/25 [==============================] - 0s 3ms/step - loss: 1289.2455 - root_mean_squared_error: 35.9061 - val_loss: 1796.3296 - val_root_mean_squared_error: 42.3831 - lr: 1.0000e-04\n",
      "Epoch 85/100\n",
      "25/25 [==============================] - 0s 3ms/step - loss: 1289.2151 - root_mean_squared_error: 35.9056 - val_loss: 1796.3298 - val_root_mean_squared_error: 42.3831 - lr: 1.0000e-04\n",
      "Epoch 86/100\n",
      "25/25 [==============================] - 0s 3ms/step - loss: 1289.2360 - root_mean_squared_error: 35.9059 - val_loss: 1796.3293 - val_root_mean_squared_error: 42.3831 - lr: 1.0000e-04\n",
      "Epoch 87/100\n",
      "25/25 [==============================] - 0s 3ms/step - loss: 1289.2104 - root_mean_squared_error: 35.9056 - val_loss: 1796.3289 - val_root_mean_squared_error: 42.3831 - lr: 1.0000e-04\n",
      "Epoch 88/100\n",
      "25/25 [==============================] - 0s 3ms/step - loss: 1289.3082 - root_mean_squared_error: 35.9069 - val_loss: 1796.3285 - val_root_mean_squared_error: 42.3831 - lr: 1.0000e-04\n",
      "Epoch 89/100\n",
      "25/25 [==============================] - 0s 3ms/step - loss: 1289.2426 - root_mean_squared_error: 35.9060 - val_loss: 1796.3285 - val_root_mean_squared_error: 42.3831 - lr: 1.0000e-04\n",
      "Epoch 90/100\n",
      "25/25 [==============================] - 0s 3ms/step - loss: 1289.2347 - root_mean_squared_error: 35.9059 - val_loss: 1796.3286 - val_root_mean_squared_error: 42.3831 - lr: 1.0000e-04\n",
      "Epoch 91/100\n",
      "25/25 [==============================] - 0s 4ms/step - loss: 1289.2739 - root_mean_squared_error: 35.9065 - val_loss: 1796.3287 - val_root_mean_squared_error: 42.3831 - lr: 1.0000e-04\n",
      "Epoch 92/100\n",
      "25/25 [==============================] - 0s 3ms/step - loss: 1289.2677 - root_mean_squared_error: 35.9064 - val_loss: 1796.3291 - val_root_mean_squared_error: 42.3831 - lr: 1.0000e-04\n",
      "Epoch 93/100\n",
      "25/25 [==============================] - 0s 4ms/step - loss: 1289.2556 - root_mean_squared_error: 35.9062 - val_loss: 1796.3302 - val_root_mean_squared_error: 42.3831 - lr: 1.0000e-04\n",
      "Epoch 94/100\n",
      "25/25 [==============================] - 0s 4ms/step - loss: 1289.2546 - root_mean_squared_error: 35.9062 - val_loss: 1796.3304 - val_root_mean_squared_error: 42.3831 - lr: 1.0000e-04\n",
      "Epoch 95/100\n",
      "25/25 [==============================] - 0s 4ms/step - loss: 1289.2308 - root_mean_squared_error: 35.9059 - val_loss: 1796.3306 - val_root_mean_squared_error: 42.3831 - lr: 1.0000e-04\n",
      "Epoch 96/100\n",
      "25/25 [==============================] - 0s 4ms/step - loss: 1289.2577 - root_mean_squared_error: 35.9062 - val_loss: 1796.3313 - val_root_mean_squared_error: 42.3831 - lr: 1.0000e-04\n",
      "Epoch 97/100\n",
      "25/25 [==============================] - 0s 4ms/step - loss: 1289.1980 - root_mean_squared_error: 35.9054 - val_loss: 1796.3313 - val_root_mean_squared_error: 42.3831 - lr: 1.0000e-04\n",
      "Epoch 98/100\n",
      "25/25 [==============================] - 0s 4ms/step - loss: 1289.2783 - root_mean_squared_error: 35.9065 - val_loss: 1796.3311 - val_root_mean_squared_error: 42.3831 - lr: 1.0000e-04\n",
      "Epoch 99/100\n",
      "25/25 [==============================] - 0s 3ms/step - loss: 1289.2197 - root_mean_squared_error: 35.9057 - val_loss: 1796.3315 - val_root_mean_squared_error: 42.3832 - lr: 1.0000e-04\n",
      "Epoch 100/100\n",
      "25/25 [==============================] - 0s 3ms/step - loss: 1289.3025 - root_mean_squared_error: 35.9069 - val_loss: 1796.3313 - val_root_mean_squared_error: 42.3831 - lr: 1.0000e-04\n"
     ]
    }
   ],
   "source": [
    "\n",
    "#モデルの学習\n",
    "\n",
    "#モデルの学習の早期終了の設定\n",
    "# early_stopping = EarlyStopping(monitor='val_loss', patience=10, verbose=1)\n",
    "max_epochs = 100\n",
    "mini_batch_size = 32\n",
    "\n",
    "#モデルの学習\n",
    "history = model.fit(XTrain, YTrain, batch_size=mini_batch_size, epochs=max_epochs, validation_data=(XVal, YVal),\n",
    "                    callbacks=[reduce_lr, tensorboard])\n"
   ],
   "metadata": {
    "collapsed": false,
    "ExecuteTime": {
     "end_time": "2023-12-18T11:35:42.287169698Z",
     "start_time": "2023-12-18T11:35:30.506539719Z"
    }
   }
  },
  {
   "cell_type": "code",
   "execution_count": 14,
   "outputs": [
    {
     "name": "stdout",
     "output_type": "stream",
     "text": [
      "4/4 [==============================] - 0s 2ms/step - loss: 1394.9259 - root_mean_squared_error: 37.3487\n",
      "Test loss: 1394.9259033203125\n",
      "Test accuracy: 37.34870529174805\n"
     ]
    }
   ],
   "source": [
    "#モデルの評価\n",
    "\n",
    "#モデルの評価\n",
    "score = model.evaluate(XTest, YTest, verbose=1)\n",
    "\n",
    "#モデルの評価結果を表示する\n",
    "print('Test loss:', score[0])\n",
    "print('Test accuracy:', score[1])\n"
   ],
   "metadata": {
    "collapsed": false,
    "ExecuteTime": {
     "end_time": "2023-12-18T11:35:42.332491297Z",
     "start_time": "2023-12-18T11:35:42.283668583Z"
    }
   }
  },
  {
   "cell_type": "markdown",
   "source": [],
   "metadata": {
    "collapsed": false
   }
  },
  {
   "cell_type": "code",
   "execution_count": 15,
   "outputs": [],
   "source": [
    "#モデルの保存\n",
    "\n",
    "#モデルの保存\n",
    "model.save('model/LSTMmodel.h5')\n"
   ],
   "metadata": {
    "collapsed": false,
    "ExecuteTime": {
     "end_time": "2023-12-18T11:35:42.378607722Z",
     "start_time": "2023-12-18T11:35:42.330099200Z"
    }
   }
  },
  {
   "cell_type": "code",
   "execution_count": 16,
   "outputs": [
    {
     "name": "stdout",
     "output_type": "stream",
     "text": [
      "Model: \"sequential\"\n",
      "_________________________________________________________________\n",
      " Layer (type)                Output Shape              Param #   \n",
      "=================================================================\n",
      " lstm (LSTM)                 (None, 1, 256)            366592    \n",
      "                                                                 \n",
      " lstm_1 (LSTM)               (None, 1, 256)            525312    \n",
      "                                                                 \n",
      " dropout (Dropout)           (None, 1, 256)            0         \n",
      "                                                                 \n",
      " dense (Dense)               (None, 1, 1)              257       \n",
      "                                                                 \n",
      "=================================================================\n",
      "Total params: 892,161\n",
      "Trainable params: 892,161\n",
      "Non-trainable params: 0\n",
      "_________________________________________________________________\n"
     ]
    },
    {
     "name": "stderr",
     "output_type": "stream",
     "text": [
      "2023-12-18 20:35:42.480191: I tensorflow/core/common_runtime/executor.cc:1197] [/device:CPU:0] (DEBUG INFO) Executor start aborting (this does not indicate an error and you can ignore this message): INVALID_ARGUMENT: You must feed a value for placeholder tensor 'gradients/split_2_grad/concat/split_2/split_dim' with dtype int32\n",
      "\t [[{{node gradients/split_2_grad/concat/split_2/split_dim}}]]\n",
      "2023-12-18 20:35:42.481075: I tensorflow/core/common_runtime/executor.cc:1197] [/device:CPU:0] (DEBUG INFO) Executor start aborting (this does not indicate an error and you can ignore this message): INVALID_ARGUMENT: You must feed a value for placeholder tensor 'gradients/split_grad/concat/split/split_dim' with dtype int32\n",
      "\t [[{{node gradients/split_grad/concat/split/split_dim}}]]\n",
      "2023-12-18 20:35:42.481664: I tensorflow/core/common_runtime/executor.cc:1197] [/device:CPU:0] (DEBUG INFO) Executor start aborting (this does not indicate an error and you can ignore this message): INVALID_ARGUMENT: You must feed a value for placeholder tensor 'gradients/split_1_grad/concat/split_1/split_dim' with dtype int32\n",
      "\t [[{{node gradients/split_1_grad/concat/split_1/split_dim}}]]\n",
      "2023-12-18 20:35:42.588154: I tensorflow/core/common_runtime/executor.cc:1197] [/device:CPU:0] (DEBUG INFO) Executor start aborting (this does not indicate an error and you can ignore this message): INVALID_ARGUMENT: You must feed a value for placeholder tensor 'gradients/split_2_grad/concat/split_2/split_dim' with dtype int32\n",
      "\t [[{{node gradients/split_2_grad/concat/split_2/split_dim}}]]\n",
      "2023-12-18 20:35:42.588818: I tensorflow/core/common_runtime/executor.cc:1197] [/device:CPU:0] (DEBUG INFO) Executor start aborting (this does not indicate an error and you can ignore this message): INVALID_ARGUMENT: You must feed a value for placeholder tensor 'gradients/split_grad/concat/split/split_dim' with dtype int32\n",
      "\t [[{{node gradients/split_grad/concat/split/split_dim}}]]\n",
      "2023-12-18 20:35:42.589397: I tensorflow/core/common_runtime/executor.cc:1197] [/device:CPU:0] (DEBUG INFO) Executor start aborting (this does not indicate an error and you can ignore this message): INVALID_ARGUMENT: You must feed a value for placeholder tensor 'gradients/split_1_grad/concat/split_1/split_dim' with dtype int32\n",
      "\t [[{{node gradients/split_1_grad/concat/split_1/split_dim}}]]\n"
     ]
    }
   ],
   "source": [
    "#モデルの読み込み\n",
    "\n",
    "#モデルの読み込み\n",
    "model = tf.keras.models.load_model('model/LSTMmodel.h5')\n",
    "\n",
    "#モデルの概要を表示する\n",
    "model.summary()"
   ],
   "metadata": {
    "collapsed": false,
    "ExecuteTime": {
     "end_time": "2023-12-18T11:35:42.686230932Z",
     "start_time": "2023-12-18T11:35:42.373976688Z"
    }
   }
  },
  {
   "cell_type": "code",
   "execution_count": 17,
   "outputs": [
    {
     "name": "stderr",
     "output_type": "stream",
     "text": [
      "2023-12-18 20:35:42.764502: I tensorflow/core/common_runtime/executor.cc:1197] [/device:CPU:0] (DEBUG INFO) Executor start aborting (this does not indicate an error and you can ignore this message): INVALID_ARGUMENT: You must feed a value for placeholder tensor 'gradients/split_2_grad/concat/split_2/split_dim' with dtype int32\n",
      "\t [[{{node gradients/split_2_grad/concat/split_2/split_dim}}]]\n",
      "2023-12-18 20:35:42.765233: I tensorflow/core/common_runtime/executor.cc:1197] [/device:CPU:0] (DEBUG INFO) Executor start aborting (this does not indicate an error and you can ignore this message): INVALID_ARGUMENT: You must feed a value for placeholder tensor 'gradients/split_grad/concat/split/split_dim' with dtype int32\n",
      "\t [[{{node gradients/split_grad/concat/split/split_dim}}]]\n",
      "2023-12-18 20:35:42.765934: I tensorflow/core/common_runtime/executor.cc:1197] [/device:CPU:0] (DEBUG INFO) Executor start aborting (this does not indicate an error and you can ignore this message): INVALID_ARGUMENT: You must feed a value for placeholder tensor 'gradients/split_1_grad/concat/split_1/split_dim' with dtype int32\n",
      "\t [[{{node gradients/split_1_grad/concat/split_1/split_dim}}]]\n",
      "2023-12-18 20:35:42.860955: I tensorflow/core/common_runtime/executor.cc:1197] [/device:CPU:0] (DEBUG INFO) Executor start aborting (this does not indicate an error and you can ignore this message): INVALID_ARGUMENT: You must feed a value for placeholder tensor 'gradients/split_2_grad/concat/split_2/split_dim' with dtype int32\n",
      "\t [[{{node gradients/split_2_grad/concat/split_2/split_dim}}]]\n",
      "2023-12-18 20:35:42.861666: I tensorflow/core/common_runtime/executor.cc:1197] [/device:CPU:0] (DEBUG INFO) Executor start aborting (this does not indicate an error and you can ignore this message): INVALID_ARGUMENT: You must feed a value for placeholder tensor 'gradients/split_grad/concat/split/split_dim' with dtype int32\n",
      "\t [[{{node gradients/split_grad/concat/split/split_dim}}]]\n",
      "2023-12-18 20:35:42.862305: I tensorflow/core/common_runtime/executor.cc:1197] [/device:CPU:0] (DEBUG INFO) Executor start aborting (this does not indicate an error and you can ignore this message): INVALID_ARGUMENT: You must feed a value for placeholder tensor 'gradients/split_1_grad/concat/split_1/split_dim' with dtype int32\n",
      "\t [[{{node gradients/split_1_grad/concat/split_1/split_dim}}]]\n"
     ]
    },
    {
     "name": "stdout",
     "output_type": "stream",
     "text": [
      "4/4 [==============================] - 0s 3ms/step - loss: 1394.9259 - root_mean_squared_error: 37.3487\n",
      "Test loss: 1394.9259033203125\n",
      "Test accuracy: 37.34870529174805\n"
     ]
    }
   ],
   "source": [
    "#モデルの評価\n",
    "\n",
    "#モデルの評価\n",
    "score = model.evaluate(XTest, YTest, verbose=1)\n",
    "\n",
    "#モデルの評価結果を表示する\n",
    "print('Test loss:', score[0])\n",
    "print('Test accuracy:', score[1])\n",
    "\n"
   ],
   "metadata": {
    "collapsed": false,
    "ExecuteTime": {
     "end_time": "2023-12-18T11:35:43.008821747Z",
     "start_time": "2023-12-18T11:35:42.686009314Z"
    }
   }
  },
  {
   "cell_type": "code",
   "execution_count": 18,
   "outputs": [
    {
     "name": "stdout",
     "output_type": "stream",
     "text": [
      "4/4 [==============================] - 0s 1ms/step\n"
     ]
    },
    {
     "name": "stderr",
     "output_type": "stream",
     "text": [
      "2023-12-18 20:35:43.135660: I tensorflow/core/common_runtime/executor.cc:1197] [/device:CPU:0] (DEBUG INFO) Executor start aborting (this does not indicate an error and you can ignore this message): INVALID_ARGUMENT: You must feed a value for placeholder tensor 'gradients/split_2_grad/concat/split_2/split_dim' with dtype int32\n",
      "\t [[{{node gradients/split_2_grad/concat/split_2/split_dim}}]]\n",
      "2023-12-18 20:35:43.136514: I tensorflow/core/common_runtime/executor.cc:1197] [/device:CPU:0] (DEBUG INFO) Executor start aborting (this does not indicate an error and you can ignore this message): INVALID_ARGUMENT: You must feed a value for placeholder tensor 'gradients/split_grad/concat/split/split_dim' with dtype int32\n",
      "\t [[{{node gradients/split_grad/concat/split/split_dim}}]]\n",
      "2023-12-18 20:35:43.137103: I tensorflow/core/common_runtime/executor.cc:1197] [/device:CPU:0] (DEBUG INFO) Executor start aborting (this does not indicate an error and you can ignore this message): INVALID_ARGUMENT: You must feed a value for placeholder tensor 'gradients/split_1_grad/concat/split_1/split_dim' with dtype int32\n",
      "\t [[{{node gradients/split_1_grad/concat/split_1/split_dim}}]]\n",
      "2023-12-18 20:35:43.229750: I tensorflow/core/common_runtime/executor.cc:1197] [/device:CPU:0] (DEBUG INFO) Executor start aborting (this does not indicate an error and you can ignore this message): INVALID_ARGUMENT: You must feed a value for placeholder tensor 'gradients/split_2_grad/concat/split_2/split_dim' with dtype int32\n",
      "\t [[{{node gradients/split_2_grad/concat/split_2/split_dim}}]]\n",
      "2023-12-18 20:35:43.230387: I tensorflow/core/common_runtime/executor.cc:1197] [/device:CPU:0] (DEBUG INFO) Executor start aborting (this does not indicate an error and you can ignore this message): INVALID_ARGUMENT: You must feed a value for placeholder tensor 'gradients/split_grad/concat/split/split_dim' with dtype int32\n",
      "\t [[{{node gradients/split_grad/concat/split/split_dim}}]]\n",
      "2023-12-18 20:35:43.230991: I tensorflow/core/common_runtime/executor.cc:1197] [/device:CPU:0] (DEBUG INFO) Executor start aborting (this does not indicate an error and you can ignore this message): INVALID_ARGUMENT: You must feed a value for placeholder tensor 'gradients/split_1_grad/concat/split_1/split_dim' with dtype int32\n",
      "\t [[{{node gradients/split_1_grad/concat/split_1/split_dim}}]]\n"
     ]
    },
    {
     "name": "stdout",
     "output_type": "stream",
     "text": [
      "[[ 6.5902824]\n",
      " [ 6.96877  ]\n",
      " [ 7.3512497]\n",
      " [ 7.4735727]\n",
      " [ 8.217612 ]\n",
      " [ 7.8567553]\n",
      " [ 8.247671 ]\n",
      " [ 8.734245 ]\n",
      " [ 8.820328 ]\n",
      " [ 8.903915 ]\n",
      " [ 9.198927 ]\n",
      " [ 9.698424 ]\n",
      " [ 9.723375 ]\n",
      " [ 9.888664 ]\n",
      " [10.394124 ]\n",
      " [10.46233  ]\n",
      " [10.901696 ]\n",
      " [11.171553 ]\n",
      " [11.569845 ]\n",
      " [11.847681 ]\n",
      " [12.010544 ]\n",
      " [12.270283 ]\n",
      " [12.621513 ]\n",
      " [12.899381 ]\n",
      " [13.006053 ]\n",
      " [13.381737 ]\n",
      " [13.647753 ]\n",
      " [13.860661 ]\n",
      " [14.1988125]\n",
      " [14.393266 ]\n",
      " [14.420527 ]\n",
      " [14.661196 ]\n",
      " [15.106971 ]\n",
      " [15.334311 ]\n",
      " [15.513995 ]\n",
      " [15.641348 ]\n",
      " [15.980678 ]\n",
      " [16.286552 ]\n",
      " [16.484978 ]\n",
      " [16.865627 ]\n",
      " [17.064062 ]\n",
      " [17.338627 ]\n",
      " [17.591457 ]\n",
      " [17.769892 ]\n",
      " [18.132341 ]\n",
      " [18.34341  ]\n",
      " [18.542538 ]\n",
      " [18.951248 ]\n",
      " [18.991734 ]\n",
      " [19.236572 ]\n",
      " [19.45406  ]\n",
      " [19.780293 ]\n",
      " [20.0246   ]\n",
      " [20.142113 ]\n",
      " [20.281494 ]\n",
      " [20.636074 ]\n",
      " [20.685823 ]\n",
      " [20.91446  ]\n",
      " [21.19381  ]\n",
      " [21.333107 ]\n",
      " [21.699043 ]\n",
      " [22.157671 ]\n",
      " [22.258581 ]\n",
      " [22.418106 ]\n",
      " [22.719511 ]\n",
      " [22.842407 ]\n",
      " [23.04018  ]\n",
      " [23.250381 ]\n",
      " [23.448915 ]\n",
      " [23.673443 ]\n",
      " [23.796951 ]\n",
      " [24.08668  ]\n",
      " [24.3483   ]\n",
      " [24.59991  ]\n",
      " [24.9845   ]\n",
      " [25.027803 ]\n",
      " [25.223095 ]\n",
      " [25.389042 ]\n",
      " [25.54089  ]\n",
      " [25.939247 ]\n",
      " [26.017918 ]\n",
      " [26.429499 ]\n",
      " [26.758003 ]\n",
      " [26.955742 ]\n",
      " [26.951254 ]\n",
      " [27.135641 ]\n",
      " [27.33475  ]\n",
      " [27.494774 ]\n",
      " [27.694956 ]\n",
      " [27.692787 ]\n",
      " [27.738853 ]\n",
      " [28.353386 ]\n",
      " [28.274893 ]\n",
      " [28.270584 ]\n",
      " [28.674828 ]\n",
      " [29.095991 ]\n",
      " [29.14904  ]\n",
      " [29.468483 ]\n",
      " [29.648808 ]\n",
      " [29.919666 ]]\n"
     ]
    }
   ],
   "source": [
    "#モデルの予測\n",
    "\n",
    "#モデルの予測\n",
    "\n",
    "#予測値を格納する変数を作成する\n",
    "YTestPred = np.zeros((YTest.shape[0], 1))\n",
    "\n",
    "#予測値を計算する\n",
    "YTestPred = model.predict(XTest)\n",
    "\n",
    "#予測値を表示する\n",
    "print(YTestPred[:, 0, :])\n"
   ],
   "metadata": {
    "collapsed": false,
    "ExecuteTime": {
     "end_time": "2023-12-18T11:35:43.347751072Z",
     "start_time": "2023-12-18T11:35:43.011277013Z"
    }
   }
  },
  {
   "cell_type": "code",
   "execution_count": 19,
   "outputs": [
    {
     "name": "stdout",
     "output_type": "stream",
     "text": [
      "(100,)\n",
      "(100, 2)\n"
     ]
    },
    {
     "data": {
      "text/plain": "<Figure size 640x480 with 1 Axes>",
      "image/png": "[encoded data removed]"
     },
     "metadata": {},
     "output_type": "display_data"
    }
   ],
   "source": [
    "#予測値と正解値のグラフを表示する\n",
    "print(YTestPred[:, 0, 0].shape)\n",
    "print(YTest.shape)\n",
    "\n",
    "#予測値と正解値を一つのグラフに表示する\n",
    "plt.plot(YTestPred[:, 0, 0], label='YTestPred', color='red')\n",
    "plt.plot(YTest[:, 0], label='YTest', linestyle='dashed', color='blue')\n",
    "plt.ylim(-90, 90)\n",
    "plt.legend()\n",
    "plt.show()\n"
   ],
   "metadata": {
    "collapsed": false,
    "ExecuteTime": {
     "end_time": "2023-12-18T11:35:43.428325971Z",
     "start_time": "2023-12-18T11:35:43.357710965Z"
    }
   }
  },
  {
   "cell_type": "code",
   "execution_count": 20,
   "outputs": [
    {
     "name": "stdout",
     "output_type": "stream",
     "text": [
      "(100,)\n"
     ]
    },
    {
     "data": {
      "text/plain": "<Figure size 640x480 with 1 Axes>",
      "image/png": "[encoded data removed]"
     },
     "metadata": {},
     "output_type": "display_data"
    }
   ],
   "source": [
    "#推定値と正解値との許容誤差が0～10の範囲内での平均二乗誤差の平方根をとった値のグラフを表示する\n",
    "\n",
    "#推定値と正解値との許容誤差が0～10の範囲内での平均二乗誤差の平方根をとった値を計算する\n",
    "YTestDiff = ((YTestPred[:, 0, 0] - YTest[:, 0]))\n",
    "\n",
    "#推定値と正解値との許容誤差が0～10の範囲内での平均二乗誤差の平方根をとった値を表示する\n",
    "print(YTestDiff.shape)\n",
    "\n",
    "thr = np.arange(0, 10.5, 0.5)\n",
    "numCorrect = np.zeros(len(thr))\n",
    "numValidationImages = np.zeros(len(thr))\n",
    "accuracy = np.zeros(len(thr))\n",
    "\n",
    "for i in range(len(thr)):\n",
    "    numCorrect[i] = np.sum(np.abs(YTestDiff) < thr[i])\n",
    "    numValidationImages[i] = np.size(YTest[:, 0])\n",
    "    accuracy[i] = numCorrect[i] / numValidationImages[i]\n",
    "\n",
    "plt.scatter(thr, accuracy)\n",
    "plt.xlabel(\"許容誤差(deg)\")\n",
    "plt.ylabel(\"accuracy\")\n",
    "plt.grid(True)\n",
    "plt.plot(thr, accuracy, '.-', markersize=12)\n",
    "plt.show()"
   ],
   "metadata": {
    "collapsed": false,
    "ExecuteTime": {
     "end_time": "2023-12-18T11:35:43.498233214Z",
     "start_time": "2023-12-18T11:35:43.429927478Z"
    }
   }
  },
  {
   "cell_type": "code",
   "execution_count": 21,
   "outputs": [
    {
     "data": {
      "text/plain": "<Figure size 640x480 with 1 Axes>",
      "image/png": "[encoded data removed]"
     },
     "metadata": {},
     "output_type": "display_data"
    }
   ],
   "source": [
    "#予測値と正解値の差分のヒストグラムを表示する\n",
    "\n",
    "#予測値と正解値の差分のヒストグラムを表示する\n",
    "plt.hist(YTestDiff, bins=100)\n",
    "plt.show()\n"
   ],
   "metadata": {
    "collapsed": false,
    "ExecuteTime": {
     "end_time": "2023-12-18T11:35:43.806082359Z",
     "start_time": "2023-12-18T11:35:43.498888198Z"
    }
   }
  },
  {
   "cell_type": "code",
   "execution_count": 22,
   "outputs": [
    {
     "name": "stdout",
     "output_type": "stream",
     "text": [
      "                0\n",
      "count  100.000000\n",
      "mean    37.183640\n",
      "std      3.562269\n",
      "min     30.109104\n",
      "25%     34.465901\n",
      "50%     37.887140\n",
      "75%     40.424084\n",
      "max     42.099127\n"
     ]
    }
   ],
   "source": [
    "#予測値と正解値の差分の統計量を表示する\n",
    "\n",
    "#予測値と正解値の差分の統計量を表示する\n",
    "print(pd.DataFrame(YTestDiff).describe())\n"
   ],
   "metadata": {
    "collapsed": false,
    "ExecuteTime": {
     "end_time": "2023-12-18T11:35:43.806897194Z",
     "start_time": "2023-12-18T11:35:43.789872703Z"
    }
   }
  },
  {
   "cell_type": "code",
   "execution_count": 23,
   "outputs": [],
   "source": [
    "#"
   ],
   "metadata": {
    "collapsed": false,
    "ExecuteTime": {
     "end_time": "2023-12-18T11:35:43.807484501Z",
     "start_time": "2023-12-18T11:35:43.790056669Z"
    }
   }
  }
 ],
 "metadata": {
  "kernelspec": {
   "display_name": "Python 3",
   "language": "python",
   "name": "python3"
  },
  "language_info": {
   "codemirror_mode": {
    "name": "ipython",
    "version": 2
   },
   "file_extension": ".py",
   "mimetype": "text/x-python",
   "name": "python",
   "nbconvert_exporter": "python",
   "pygments_lexer": "ipython2",
   "version": "2.7.6"
  }
 },
 "nbformat": 4,
 "nbformat_minor": 0
}
