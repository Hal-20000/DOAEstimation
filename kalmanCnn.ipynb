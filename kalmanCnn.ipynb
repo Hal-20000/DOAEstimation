{
 "cells": [
  {
   "cell_type": "code",
   "execution_count": 16,
   "id": "b9e3266909779360",
   "metadata": {
    "collapsed": false,
    "ExecuteTime": {
     "end_time": "2023-12-21T11:42:34.746084872Z",
     "start_time": "2023-12-21T11:42:31.068588405Z"
    }
   },
   "outputs": [
    {
     "name": "stdout",
     "output_type": "stream",
     "text": [
      "(10, 10, 10000)\n",
      "(10000, 101)\n",
      "(10000, 2)\n",
      "(10, 10, 50000)\n",
      "(50000, 2)\n"
     ]
    }
   ],
   "source": [
    "#GPUを用いて、pytorchを使ったViTモデルを作成する\n",
    "import pandas as pd\n",
    "# import tensorflow as tf\n",
    "import numpy as np\n",
    "import japanize_matplotlib\n",
    "import matplotlib.pyplot as plt\n",
    "import scipy.io\n",
    "from tqdm import tqdm\n",
    "import torch\n",
    "\n",
    "#データの読み込み\n",
    "mat_file = 'mat/60_sin_1period_bpsk_long_2signal.mat'\n",
    "data = scipy.io.loadmat(mat_file)\n",
    "\n",
    "#matファイルの中身の変数名を確認する\n",
    "\n",
    "data.keys()\n",
    "a = data['R_xx']\n",
    "# a = data['R_xx_exist_Noise']\n",
    "b = data['inputVec']\n",
    "c = data['label']\n",
    "\n",
    "sigmax2=data['sigmaX2']\n",
    "\n",
    "t=data['t']\n",
    "# print(t)\n",
    "#matに保存した変数の呼び出し\n",
    "#a,b,cの次元数を確認する\n",
    "print(a.shape)\n",
    "print(b.shape)\n",
    "print(c.shape)\n",
    "\n",
    "#共分散行列\n",
    "R = a\n",
    "label=c\n",
    "\n",
    "loop=5\n",
    "\n",
    "for i in range(loop-1):\n",
    "    R=np.concatenate((R,a),axis=2)\n",
    "    label=np.concatenate((label,c),axis=0)\n",
    "\n",
    "print(R.shape)\n",
    "print(label.shape)"
   ]
  },
  {
   "cell_type": "code",
   "execution_count": 17,
   "id": "3b13a0fc1eac8e59",
   "metadata": {
    "collapsed": false,
    "ExecuteTime": {
     "end_time": "2023-12-21T11:42:41.882119095Z",
     "start_time": "2023-12-21T11:42:34.745978150Z"
    }
   },
   "outputs": [
    {
     "name": "stdout",
     "output_type": "stream",
     "text": [
      "(10, 10, 50000)\n",
      "(10, 10, 50000)\n",
      "(10, 10, 50000, 2)\n",
      "(10, 10, 50000, 2)\n",
      "(50000, 10, 10, 2)\n",
      "(40000, 10, 10, 2)\n",
      "(5000, 10, 10, 2)\n",
      "(5000, 10, 10, 2)\n",
      "(40000, 2)\n",
      "(5000, 2)\n",
      "(5000, 2)\n",
      "----------------\n",
      "XTrain (40000, 2, 10, 10)\n",
      "XVal (5000, 2, 10, 10)\n",
      "XTest (5000, 2, 10, 10)\n",
      "YTrain (40000, 2)\n",
      "YVal (5000, 2)\n",
      "YTest (5000, 2)\n"
     ]
    }
   ],
   "source": [
    "# #入力信号の電力\n",
    "# sigmax2=d\n",
    "# #スナップショット数\n",
    "# t=e\n",
    "\n",
    "#実数部と虚数部(虚数単位jは外す)に分ける関数\n",
    "def split_complex(x):\n",
    "    real = np.real(x)\n",
    "    imag = np.imag(x)\n",
    "    return real, imag\n",
    "\n",
    "\n",
    "#実数部と虚数部に分ける\n",
    "real, imag = split_complex(R)\n",
    "\n",
    "#実数部と虚数部の次元数を確認する\n",
    "print(real.shape)\n",
    "print(imag.shape)\n",
    "\n",
    "#実数部と虚数部を結合し、四次元配列に変換する\n",
    "R = np.stack([real, imag], axis=3)\n",
    "\n",
    "#Rの次元数を確認する\n",
    "print(R.shape)\n",
    "\n",
    "#Rはx(t)=As(t)+n(t)という信号モデルの共分散行列(Rはx(t)の複素共役転置の期待値)である（Aは方向行列、s(t)は入力信号、n(t)はガウス雑音）\n",
    "#Rには、本来Aとs(t)とn(t)の情報が含まれているが、今回はn(t)を含まない\n",
    "#Rにn(t)を乗せる処理を書く\n",
    "\n",
    "#SNRを定義する\n",
    "SNR=np.empty((1,1))\n",
    "np.append(SNR,30)\n",
    "\n",
    "#送信電力とSNRから雑音電力を求める\n",
    "#送信電力は、sigmaX2である\n",
    "#雑音電力は、sigmaN2である\n",
    "def calculate_noise_covariance(sigmaX2, SNR, t, R):\n",
    "    # 送信電力から雑音電力を計算する\n",
    "    sigman2 = np.divide(sigmaX2, (10**(SNR/10)))\n",
    "\n",
    "    # sigmaN2を表示する\n",
    "    # print(sigman2)\n",
    "\n",
    "    # ガウス分布に従う雑音n(t)を生成する\n",
    "    noise = np.sqrt(sigman2/2) * (np.random.randn(len(t),len(R[:,0,0,0])) + 1j*np.random.randn(len(t),len(R[:,0,0,0])))\n",
    "\n",
    "    # n(t)の次元数を確認する\n",
    "    # print(noise.shape)\n",
    "\n",
    "    # n(t)の共分散行列を求める\n",
    "    N = np.dot(np.conj(noise).T, noise)\n",
    "\n",
    "    # Nの次元数を確認する\n",
    "    # print(\"R_n\", N.shape)\n",
    "\n",
    "    # Nの実部と虚部を分割する\n",
    "    real, imag = np.real(N), np.imag(N)\n",
    "\n",
    "    # Nを結合して次元数を確認する\n",
    "    N = np.stack([real, imag], axis=2)\n",
    "    # print(\"R_n\", N.shape)\n",
    "\n",
    "    return N\n",
    "\n",
    "for j in range(len(SNR)):\n",
    "\n",
    "    # 繰り返し回数と結果を格納するリストの定義\n",
    "    num_iterations = R.shape[2]\n",
    "    N = []\n",
    "\n",
    "    # 繰り返し処理\n",
    "    for _ in range(num_iterations):\n",
    "        # 関数の呼び出しと結果の取得\n",
    "        result = calculate_noise_covariance(sigmax2, SNR, t, R)\n",
    "        N.append(result)\n",
    "\n",
    "    N=np.array(N)\n",
    "    # 結果の出力\n",
    "    # for i, result in enumerate(results):\n",
    "    #     print(f\"Result {i+1}:\\n{result}\\n\")\n",
    "\n",
    "\n",
    "    #Nの次元数を確認する\n",
    "    # print(\"R\", R.shape)\n",
    "    # print(\"N\", N.shape)\n",
    "\n",
    "    #Nの0番目と2番目の次元数を入れ替える\n",
    "    N = np.swapaxes(N, 0, 2)\n",
    "    # print(N.shape)\n",
    "\n",
    "\n",
    "    #RにNを足す\n",
    "    R = R + N\n",
    "    # print('R.shape',R.shape)\n",
    "\n",
    "X = R\n",
    "Y = label\n",
    "\n",
    "\n",
    "\n",
    "print(X.shape)\n",
    "#Xを3次元配列に変換する\n",
    "X = np.reshape(X, (X.shape[2], X.shape[0], X.shape[1], X.shape[3]))\n",
    "\n",
    "print(X.shape)\n",
    "\n",
    "from sklearn.model_selection import train_test_split\n",
    "\n",
    "#学習データセットと検証データセットとテストデータセットの分割割合を変数で指定する\n",
    "train_size = 0.8\n",
    "val_size = 0.1\n",
    "test_size = 0.1\n",
    "\n",
    "#学習データセットと検証データセットとテストデータセットを分割する(シャッフルはしない)\n",
    "XTrain, XTest, YTrain, YTest = train_test_split(X, Y, test_size=1 - train_size, shuffle=False)\n",
    "XVal, XTest, YVal, YTest = train_test_split(XTest, YTest, test_size=test_size / (test_size + val_size), shuffle=False)\n",
    "\n",
    "#学習データセットと検証データセットとテストデータセットの次元数を確認する\n",
    "print(XTrain.shape)\n",
    "print(XVal.shape)\n",
    "print(XTest.shape)\n",
    "print(YTrain.shape)\n",
    "print(YVal.shape)\n",
    "print(YTest.shape)\n",
    "\n",
    "#入力の次元はそれぞれ(サンプル数、タイムステップ数、特徴量)である\n",
    "# Xの2番目の次元と3番目の次元を入れ替える\n",
    "XTrain = np.swapaxes(XTrain, 1, 3)\n",
    "XVal = np.swapaxes(XVal, 1, 3)\n",
    "XTest = np.swapaxes(XTest, 1, 3)\n",
    "\n",
    "\n",
    "#学習データセットと検証データセットとテストデータセットの次元数を確認する\n",
    "print(\"----------------\")\n",
    "print(\"XTrain\",XTrain.shape)\n",
    "print(\"XVal\",XVal.shape)\n",
    "print(\"XTest\",XTest.shape)\n",
    "print(\"YTrain\",YTrain.shape)\n",
    "print(\"YVal\",YVal.shape)\n",
    "print(\"YTest\",YTest.shape)\n"
   ]
  },
  {
   "cell_type": "code",
   "execution_count": 18,
   "id": "6d8f5ee38d78f88",
   "metadata": {
    "collapsed": false,
    "ExecuteTime": {
     "end_time": "2023-12-21T11:42:41.936699502Z",
     "start_time": "2023-12-21T11:42:41.883679121Z"
    }
   },
   "outputs": [],
   "source": [
    "from sklearn.model_selection import train_test_split\n",
    "\n",
    "#学習データセットと検証データセットとテストデータセットの分割割合を変数で指定する\n",
    "# train_size = 0.8\n",
    "# val_size = 0.1\n",
    "# test_size = 0.1\n",
    "# \n",
    "# #学習データセットと検証データセットとテストデータセットを分割する(シャッフルはしない)\n",
    "# XTrain, XTest, YTrain, YTest = train_test_split(X, Y, test_size=1 - train_size, shuffle=False)\n",
    "# XVal, XTest, YVal, YTest = train_test_split(XTest, YTest, test_size=test_size / (test_size + val_size), shuffle=False)\n",
    "# \n",
    "# #学習データセットと検証データセットとテストデータセットの次元数を確認する\n",
    "# print(XTrain.shape)\n",
    "# print(XVal.shape)\n",
    "# print(XTest.shape)\n",
    "# print(YTrain.shape)\n",
    "# print(YVal.shape)\n",
    "# print(YTest.shape)\n",
    "\n",
    "\n"
   ]
  },
  {
   "cell_type": "code",
   "execution_count": 19,
   "id": "fa9914af1904a0e0",
   "metadata": {
    "collapsed": false,
    "ExecuteTime": {
     "end_time": "2023-12-21T11:42:41.937454047Z",
     "start_time": "2023-12-21T11:42:41.926059072Z"
    }
   },
   "outputs": [
    {
     "name": "stdout",
     "output_type": "stream",
     "text": [
      "tensor([[[233.5321, 199.0856, 185.5520, 187.7318, 197.7368, 203.0217, 201.3712,\n",
      "          205.9053, 206.2003, 215.0743],\n",
      "         [201.4374, 224.6504, 221.6845, 204.7339, 202.0521, 190.1966, 208.2417,\n",
      "          197.2550, 222.3541, 187.8112],\n",
      "         [222.9529, 200.9756, 200.9525, 201.9466, 220.9249, 203.1828, 191.7723,\n",
      "          206.2192, 190.9809, 215.5288],\n",
      "         [222.2750, 219.6235, 208.6585, 198.6640, 195.7222, 194.9901, 209.2837,\n",
      "          202.8367, 202.5906, 216.7395],\n",
      "         [189.9903, 211.3389, 190.3188, 199.5608, 203.1017, 212.2403, 189.3137,\n",
      "          198.7931, 197.0494, 205.9131],\n",
      "         [209.0708, 220.1225, 224.6394, 195.9969, 204.0175, 193.0838, 191.2702,\n",
      "          197.0010, 199.8100, 194.3402],\n",
      "         [195.6081, 209.0483, 218.0102, 178.5329, 224.6121, 184.5243, 191.2879,\n",
      "          218.3941, 188.2168, 181.5977],\n",
      "         [217.8104, 194.8178, 187.5014, 193.3494, 202.3380, 207.2486, 183.8153,\n",
      "          199.7572, 171.0480, 217.2756],\n",
      "         [200.9974, 195.7763, 175.0890, 212.2515, 226.6914, 194.4836, 202.4563,\n",
      "          199.4381, 199.4762, 204.7073],\n",
      "         [213.2506, 209.6697, 201.5561, 231.7227, 217.9994, 194.5806, 184.6791,\n",
      "          206.7329, 202.6852, 209.6689]],\n",
      "\n",
      "        [[  0.0000,   0.0000,   0.0000,   0.0000,   0.0000,   0.0000,   0.0000,\n",
      "            0.0000,   0.0000,   0.0000],\n",
      "         [  0.0000,   0.0000,   0.0000,   0.0000,   0.0000,   0.0000,   0.0000,\n",
      "            0.0000,   0.0000,   0.0000],\n",
      "         [  0.0000,   0.0000,   0.0000,   0.0000,   0.0000,   0.0000,   0.0000,\n",
      "            0.0000,   0.0000,   0.0000],\n",
      "         [  0.0000,   0.0000,   0.0000,   0.0000,   0.0000,   0.0000,   0.0000,\n",
      "            0.0000,   0.0000,   0.0000],\n",
      "         [  0.0000,   0.0000,   0.0000,   0.0000,   0.0000,   0.0000,   0.0000,\n",
      "            0.0000,   0.0000,   0.0000],\n",
      "         [  0.0000,   0.0000,   0.0000,   0.0000,   0.0000,   0.0000,   0.0000,\n",
      "            0.0000,   0.0000,   0.0000],\n",
      "         [  0.0000,   0.0000,   0.0000,   0.0000,   0.0000,   0.0000,   0.0000,\n",
      "            0.0000,   0.0000,   0.0000],\n",
      "         [  0.0000,   0.0000,   0.0000,   0.0000,   0.0000,   0.0000,   0.0000,\n",
      "            0.0000,   0.0000,   0.0000],\n",
      "         [  0.0000,   0.0000,   0.0000,   0.0000,   0.0000,   0.0000,   0.0000,\n",
      "            0.0000,   0.0000,   0.0000],\n",
      "         [  0.0000,   0.0000,   0.0000,   0.0000,   0.0000,   0.0000,   0.0000,\n",
      "            0.0000,   0.0000,   0.0000]]]) tensor([1.8755e-02, 6.0000e+01])\n"
     ]
    }
   ],
   "source": [
    "from torch.utils.data import DataLoader\n",
    "#pytorchでのCNN回帰の実装\n",
    "import torch\n",
    "\n",
    "\n",
    "XTrain=torch.FloatTensor(XTrain)\n",
    "XVal=torch.FloatTensor(XVal)\n",
    "XTest=torch.FloatTensor(XTest)\n",
    "YTrain=torch.FloatTensor(YTrain)\n",
    "YVal=torch.FloatTensor(YVal)\n",
    "YTest=torch.FloatTensor(YTest)\n",
    "\n",
    "Dataset_train = torch.utils.data.TensorDataset(XTrain, YTrain)\n",
    "Dataset_val = torch.utils.data.TensorDataset(XVal, YVal)\n",
    "Dataset_test = torch.utils.data.TensorDataset(XTest, YTest)\n",
    "\n",
    "X_sample, y_sample = Dataset_train[0]\n",
    "print(X_sample, y_sample)\n",
    "batch_size = 256\n",
    "train_loader = DataLoader(dataset = Dataset_train, batch_size=batch_size, shuffle=True )\n",
    "valid_loader = DataLoader(dataset = Dataset_train, batch_size=batch_size, shuffle=True)\n",
    "test_loader = DataLoader(dataset = Dataset_train, batch_size=batch_size, shuffle=False)"
   ]
  },
  {
   "cell_type": "code",
   "execution_count": 20,
   "outputs": [],
   "source": [
    "device = torch.device('cuda:0' if torch.cuda.is_available() else 'cpu')\n",
    "#CNNのモデルを作成する\n",
    "import torch.nn as nn\n",
    "import torch.nn.functional as F\n",
    "import torch.optim as optim\n",
    "from torch.optim.lr_scheduler import StepLR"
   ],
   "metadata": {
    "collapsed": false,
    "ExecuteTime": {
     "end_time": "2023-12-21T11:42:41.937823384Z",
     "start_time": "2023-12-21T11:42:41.926287763Z"
    }
   },
   "id": "e0553fd23a0ed607"
  },
  {
   "cell_type": "code",
   "execution_count": 21,
   "outputs": [],
   "source": [
    "# import torch.nn as nn\n",
    "class Block(nn.Module):\n",
    "    def __init__(self, channel_in, channel_out):\n",
    "        super().__init__()\n",
    "        channel = channel_out // 4\n",
    "        # 1x1 の畳み込み\n",
    "        self.conv1 = nn.Conv2d(channel_in, channel,\n",
    "                               kernel_size=(1, 1))\n",
    "        self.bn1 = nn.BatchNorm2d(channel)\n",
    "        self.relu1 = nn.ReLU()\n",
    "        # 3x3 の畳み込み\n",
    "        self.conv2 = nn.Conv2d(channel, channel,\n",
    "                               kernel_size=(3, 3),\n",
    "                               padding=1)\n",
    "        self.bn2 = nn.BatchNorm2d(channel)\n",
    "        self.relu2 = nn.ReLU()\n",
    "        # 1x1 の畳み込み\n",
    "        self.conv3 = nn.Conv2d(channel, channel_out,\n",
    "                               kernel_size=(1, 1),\n",
    "                               padding=0)\n",
    "        self.bn3 = nn.BatchNorm2d(channel_out)\n",
    "        # skip connection用のチャネル数調整        \n",
    "        self.shortcut = self._shortcut(channel_in, channel_out)\n",
    "        \n",
    "        self.relu3 = nn.ReLU()\n",
    "    def forward(self, x):\n",
    "        h = self.conv1(x)\n",
    "        h = self.bn1(h)\n",
    "        h = self.relu1(h)\n",
    "        h = self.conv2(h)\n",
    "        h = self.bn2(h)\n",
    "        h = self.relu2(h)\n",
    "        h = self.conv3(h)\n",
    "        h = self.bn3(h)\n",
    "        shortcut = self.shortcut(x)\n",
    "        y = self.relu3(h + shortcut)  # skip connection\n",
    "        return y\n",
    "    def _shortcut(self, channel_in, channel_out):\n",
    "        if channel_in != channel_out:\n",
    "            return self._projection(channel_in, channel_out)\n",
    "        else:\n",
    "            return lambda x: x\n",
    "    def _projection(self, channel_in, channel_out):\n",
    "        return nn.Conv2d(channel_in, channel_out,\n",
    "                         kernel_size=(1, 1),\n",
    "                         padding=0)"
   ],
   "metadata": {
    "collapsed": false,
    "ExecuteTime": {
     "end_time": "2023-12-21T11:42:41.938148398Z",
     "start_time": "2023-12-21T11:42:41.926425333Z"
    }
   },
   "id": "24bc96491c8f2faf"
  },
  {
   "cell_type": "code",
   "execution_count": 22,
   "outputs": [],
   "source": [
    "class Net(nn.Module):\n",
    "    def __init__(self):\n",
    "        super(Net, self).__init__()\n",
    "        self.conv1 = nn.Conv2d(in_channels=2, out_channels=16, kernel_size=(3, 3), stride=1, padding=1)\n",
    "        self.conv2 = nn.Conv2d(in_channels=16, out_channels=32, kernel_size=(3, 3), stride=1, padding=1)\n",
    "        self.conv3 = nn.Conv2d(in_channels=32, out_channels=64, kernel_size=(3, 3), stride=1, padding=1)\n",
    "        # self.pool = nn.MaxPool2d(kernel_size=(2, 2), stride=2,padding=1)\n",
    "        self.conv4 = nn.Conv2d(in_channels=64, out_channels=128, kernel_size=(3, 3), stride=1, padding=1)\n",
    "        \n",
    "        \n",
    "        self.fc1 = nn.Linear(in_features=128*10*10, out_features=256)\n",
    "        self.fc2 = nn.Linear(in_features=256, out_features=128)\n",
    "        self.fc3 = nn.Linear(in_features=128, out_features=64)\n",
    "        self.fc4 = nn.Linear(in_features=64, out_features=2)\n",
    "\n",
    "    def forward(self, x):\n",
    "        x = F.relu(self.conv1(x))\n",
    "        # print(x.shape)\n",
    "        x = F.relu(self.conv2(x))\n",
    "        # print(x.shape)\n",
    "        x = F.relu(self.conv3(x))\n",
    "        # print(x.shape)\n",
    "        # x = self.pool(x)\n",
    "        # print(x.shape)\n",
    "        x = F.relu(self.conv4(x))\n",
    "        # print(x.shape))\n",
    "        x = x.view(-1, 128*10*10)\n",
    "        # print(x.shape)\n",
    "        x = F.relu(self.fc1(x))\n",
    "        # print(x.shape)\n",
    "        x = self.fc2(x)\n",
    "        # print(x.shape)\n",
    "        x = self.fc3(x)\n",
    "        # print(x.shape)\n",
    "        x = self.fc4(x)\n",
    "        # print(x.shape)\n",
    "        \n",
    "        return x\n",
    "    \n",
    "    \n",
    "net = nn.Sequential(\n",
    "    nn.Conv2d(in_channels=2, out_channels=16, kernel_size=(3, 3), stride=1, padding=1),\n",
    "    nn.ReLU(),\n",
    "    nn.Conv2d(in_channels=16, out_channels=32, kernel_size=(3, 3), stride=1, padding=1),\n",
    "    nn.ReLU(),\n",
    "    nn.Conv2d(in_channels=32, out_channels=64, kernel_size=(3, 3), stride=1, padding=1),\n",
    "    nn.ReLU(),\n",
    "    # self.pool = nn.MaxPool2d(kernel_size=(2, 2), stride=2,padding=1)\n",
    "    nn.Conv2d(in_channels=64, out_channels=128, kernel_size=(3, 3), stride=1, padding=1),\n",
    "    nn.ReLU(),\n",
    "    nn.Linear(in_features=128*10*10, out_features=256),\n",
    "    nn.Linear(in_features=256, out_features=128),\n",
    "    nn.Linear(in_features=128, out_features=64),\n",
    "    #dropout\n",
    "    nn.Dropout(0.5),\n",
    "    nn.Linear(in_features=64, out_features=2)\n",
    ")\n",
    "\n",
    "net = Net().to(device)\n",
    "\n",
    "# print(net)"
   ],
   "metadata": {
    "collapsed": false,
    "ExecuteTime": {
     "end_time": "2023-12-21T11:42:41.986776327Z",
     "start_time": "2023-12-21T11:42:41.926615212Z"
    }
   },
   "id": "6e1bee0f99aee38"
  },
  {
   "cell_type": "code",
   "execution_count": 23,
   "id": "68c9f2f8a1608752",
   "metadata": {
    "collapsed": false,
    "ExecuteTime": {
     "end_time": "2023-12-21T11:42:41.987461070Z",
     "start_time": "2023-12-21T11:42:41.969954364Z"
    }
   },
   "outputs": [
    {
     "data": {
      "text/plain": "==========================================================================================\nLayer (type:depth-idx)                   Output Shape              Param #\n==========================================================================================\nNet                                      [256, 2]                  --\n├─Conv2d: 1-1                            [256, 16, 10, 10]         304\n├─Conv2d: 1-2                            [256, 32, 10, 10]         4,640\n├─Conv2d: 1-3                            [256, 64, 10, 10]         18,496\n├─Conv2d: 1-4                            [256, 128, 10, 10]        73,856\n├─Linear: 1-5                            [256, 256]                3,277,056\n├─Linear: 1-6                            [256, 128]                32,896\n├─Linear: 1-7                            [256, 64]                 8,256\n├─Linear: 1-8                            [256, 2]                  130\n==========================================================================================\nTotal params: 3,415,634\nTrainable params: 3,415,634\nNon-trainable params: 0\nTotal mult-adds (G): 3.34\n==========================================================================================\nInput size (MB): 0.20\nForward/backward pass size (MB): 50.07\nParams size (MB): 13.66\nEstimated Total Size (MB): 63.94\n=========================================================================================="
     },
     "execution_count": 23,
     "metadata": {},
     "output_type": "execute_result"
    }
   ],
   "source": [
    "import torchvision.models as models\n",
    "from torchinfo import summary\n",
    "\n",
    "batch_size = 256\n",
    "summary(model=net, input_size=(batch_size, 2, 10, 10))\n",
    "\n",
    "\n",
    "# print((data[0].to(device)).shape)"
   ]
  },
  {
   "cell_type": "code",
   "execution_count": 24,
   "outputs": [
    {
     "name": "stderr",
     "output_type": "stream",
     "text": [
      "2023-12-21 20:42:42.209144: I tensorflow/core/platform/cpu_feature_guard.cc:182] This TensorFlow binary is optimized to use available CPU instructions in performance-critical operations.\n",
      "To enable the following instructions: AVX2 FMA, in other operations, rebuild TensorFlow with the appropriate compiler flags.\n",
      "2023-12-21 20:42:42.867893: W tensorflow/compiler/tf2tensorrt/utils/py_utils.cc:38] TF-TRT Warning: Could not find TensorRT\n",
      "  0%|          | 0/157 [00:00<?, ?it/s]/home/b2190180/anaconda3/envs/DOAest/lib/python3.9/site-packages/torch/optim/lr_scheduler.py:384: UserWarning: To get the last learning rate computed by the scheduler, please use `get_last_lr()`.\n",
      "  warnings.warn(\"To get the last learning rate computed by the scheduler, \"\n",
      "100%|██████████| 157/157 [00:06<00:00, 23.62it/s]\n"
     ]
    },
    {
     "name": "stdout",
     "output_type": "stream",
     "text": [
      "Epoch : 1 - loss : 1799.4541 - mse: 1799.4541 - val_loss : 1799.1930 - val_mse: 1799.1930\n",
      "\n",
      "Validation loss decreased (inf --> 1799.192993).  Saving model ...\n"
     ]
    },
    {
     "name": "stderr",
     "output_type": "stream",
     "text": [
      "100%|██████████| 157/157 [00:06<00:00, 23.12it/s]\n"
     ]
    },
    {
     "name": "stdout",
     "output_type": "stream",
     "text": [
      "Epoch : 2 - loss : 1798.4368 - mse: 1798.4368 - val_loss : 1797.6965 - val_mse: 1797.6965\n",
      "\n",
      "Validation loss decreased (1799.192993 --> 1797.696533).  Saving model ...\n"
     ]
    },
    {
     "name": "stderr",
     "output_type": "stream",
     "text": [
      "100%|██████████| 157/157 [00:06<00:00, 22.59it/s]\n"
     ]
    },
    {
     "name": "stdout",
     "output_type": "stream",
     "text": [
      "Epoch : 3 - loss : 1797.6752 - mse: 1797.6752 - val_loss : 1797.5018 - val_mse: 1797.5018\n",
      "\n",
      "Validation loss decreased (1797.696533 --> 1797.501831).  Saving model ...\n"
     ]
    },
    {
     "name": "stderr",
     "output_type": "stream",
     "text": [
      "100%|██████████| 157/157 [00:07<00:00, 21.93it/s]\n"
     ]
    },
    {
     "name": "stdout",
     "output_type": "stream",
     "text": [
      "Epoch : 4 - loss : 1797.9437 - mse: 1797.9437 - val_loss : 1798.1791 - val_mse: 1798.1791\n",
      "\n",
      "EarlyStopping counter: 1 out of 10\n"
     ]
    },
    {
     "name": "stderr",
     "output_type": "stream",
     "text": [
      "100%|██████████| 157/157 [00:07<00:00, 22.02it/s]\n"
     ]
    },
    {
     "name": "stdout",
     "output_type": "stream",
     "text": [
      "Epoch : 5 - loss : 1797.8357 - mse: 1797.8357 - val_loss : 1797.5562 - val_mse: 1797.5562\n",
      "\n",
      "EarlyStopping counter: 2 out of 10\n"
     ]
    },
    {
     "name": "stderr",
     "output_type": "stream",
     "text": [
      "100%|██████████| 157/157 [00:06<00:00, 23.78it/s]\n"
     ]
    },
    {
     "name": "stdout",
     "output_type": "stream",
     "text": [
      "Epoch : 6 - loss : 1797.3669 - mse: 1797.3669 - val_loss : 1796.6549 - val_mse: 1796.6549\n",
      "\n",
      "Validation loss decreased (1797.501831 --> 1796.654907).  Saving model ...\n"
     ]
    },
    {
     "name": "stderr",
     "output_type": "stream",
     "text": [
      "100%|██████████| 157/157 [00:07<00:00, 22.28it/s]\n"
     ]
    },
    {
     "name": "stdout",
     "output_type": "stream",
     "text": [
      "Epoch : 7 - loss : 1796.3992 - mse: 1796.3992 - val_loss : 1791.4619 - val_mse: 1791.4619\n",
      "\n",
      "Validation loss decreased (1796.654907 --> 1791.461914).  Saving model ...\n"
     ]
    },
    {
     "name": "stderr",
     "output_type": "stream",
     "text": [
      "100%|██████████| 157/157 [00:06<00:00, 23.46it/s]\n"
     ]
    },
    {
     "name": "stdout",
     "output_type": "stream",
     "text": [
      "Epoch : 8 - loss : 1790.6836 - mse: 1790.6836 - val_loss : 1783.4796 - val_mse: 1783.4796\n",
      "\n",
      "Validation loss decreased (1791.461914 --> 1783.479614).  Saving model ...\n"
     ]
    },
    {
     "name": "stderr",
     "output_type": "stream",
     "text": [
      "100%|██████████| 157/157 [00:07<00:00, 19.84it/s]\n"
     ]
    },
    {
     "name": "stdout",
     "output_type": "stream",
     "text": [
      "Epoch : 9 - loss : 1772.8997 - mse: 1772.8997 - val_loss : 1737.9048 - val_mse: 1737.9048\n",
      "\n",
      "Validation loss decreased (1783.479614 --> 1737.904785).  Saving model ...\n"
     ]
    },
    {
     "name": "stderr",
     "output_type": "stream",
     "text": [
      "100%|██████████| 157/157 [00:06<00:00, 23.49it/s]\n"
     ]
    },
    {
     "name": "stdout",
     "output_type": "stream",
     "text": [
      "Epoch : 10 - loss : 1730.4275 - mse: 1730.4275 - val_loss : 1659.8470 - val_mse: 1659.8470\n",
      "\n",
      "Validation loss decreased (1737.904785 --> 1659.847046).  Saving model ...\n"
     ]
    },
    {
     "name": "stderr",
     "output_type": "stream",
     "text": [
      "100%|██████████| 157/157 [00:06<00:00, 22.62it/s]\n"
     ]
    },
    {
     "name": "stdout",
     "output_type": "stream",
     "text": [
      "Epoch : 11 - loss : 1639.9026 - mse: 1639.9026 - val_loss : 1503.8600 - val_mse: 1503.8600\n",
      "\n",
      "Validation loss decreased (1659.847046 --> 1503.859985).  Saving model ...\n"
     ]
    },
    {
     "name": "stderr",
     "output_type": "stream",
     "text": [
      "100%|██████████| 157/157 [00:07<00:00, 22.03it/s]\n"
     ]
    },
    {
     "name": "stdout",
     "output_type": "stream",
     "text": [
      "Epoch : 12 - loss : 1474.3828 - mse: 1474.3828 - val_loss : 1276.9396 - val_mse: 1276.9396\n",
      "\n",
      "Validation loss decreased (1503.859985 --> 1276.939575).  Saving model ...\n"
     ]
    },
    {
     "name": "stderr",
     "output_type": "stream",
     "text": [
      "100%|██████████| 157/157 [00:07<00:00, 21.07it/s]\n"
     ]
    },
    {
     "name": "stdout",
     "output_type": "stream",
     "text": [
      "Epoch : 13 - loss : 1275.0807 - mse: 1275.0807 - val_loss : 1028.1586 - val_mse: 1028.1586\n",
      "\n",
      "Validation loss decreased (1276.939575 --> 1028.158569).  Saving model ...\n"
     ]
    },
    {
     "name": "stderr",
     "output_type": "stream",
     "text": [
      "100%|██████████| 157/157 [00:07<00:00, 22.02it/s]\n"
     ]
    },
    {
     "name": "stdout",
     "output_type": "stream",
     "text": [
      "Epoch : 14 - loss : 1051.5214 - mse: 1051.5214 - val_loss : 791.7800 - val_mse: 791.7800\n",
      "\n",
      "Validation loss decreased (1028.158569 --> 791.779968).  Saving model ...\n"
     ]
    },
    {
     "name": "stderr",
     "output_type": "stream",
     "text": [
      "100%|██████████| 157/157 [00:06<00:00, 22.48it/s]\n"
     ]
    },
    {
     "name": "stdout",
     "output_type": "stream",
     "text": [
      "Epoch : 15 - loss : 823.9119 - mse: 823.9119 - val_loss : 608.7379 - val_mse: 608.7379\n",
      "\n",
      "Validation loss decreased (791.779968 --> 608.737854).  Saving model ...\n"
     ]
    },
    {
     "name": "stderr",
     "output_type": "stream",
     "text": [
      "100%|██████████| 157/157 [00:07<00:00, 20.68it/s]\n"
     ]
    },
    {
     "name": "stdout",
     "output_type": "stream",
     "text": [
      "Epoch : 16 - loss : 638.9601 - mse: 638.9601 - val_loss : 493.1617 - val_mse: 493.1617\n",
      "\n",
      "Validation loss decreased (608.737854 --> 493.161743).  Saving model ...\n"
     ]
    },
    {
     "name": "stderr",
     "output_type": "stream",
     "text": [
      "100%|██████████| 157/157 [00:06<00:00, 23.01it/s]\n"
     ]
    },
    {
     "name": "stdout",
     "output_type": "stream",
     "text": [
      "Epoch : 17 - loss : 509.0197 - mse: 509.0197 - val_loss : 406.5525 - val_mse: 406.5525\n",
      "\n",
      "Validation loss decreased (493.161743 --> 406.552490).  Saving model ...\n"
     ]
    },
    {
     "name": "stderr",
     "output_type": "stream",
     "text": [
      "100%|██████████| 157/157 [00:07<00:00, 21.94it/s]\n"
     ]
    },
    {
     "name": "stdout",
     "output_type": "stream",
     "text": [
      "Epoch : 18 - loss : 424.8712 - mse: 424.8712 - val_loss : 349.3187 - val_mse: 349.3187\n",
      "\n",
      "Validation loss decreased (406.552490 --> 349.318695).  Saving model ...\n"
     ]
    },
    {
     "name": "stderr",
     "output_type": "stream",
     "text": [
      "100%|██████████| 157/157 [00:06<00:00, 23.27it/s]\n"
     ]
    },
    {
     "name": "stdout",
     "output_type": "stream",
     "text": [
      "Epoch : 19 - loss : 369.4109 - mse: 369.4109 - val_loss : 311.4607 - val_mse: 311.4607\n",
      "\n",
      "Validation loss decreased (349.318695 --> 311.460693).  Saving model ...\n"
     ]
    },
    {
     "name": "stderr",
     "output_type": "stream",
     "text": [
      "100%|██████████| 157/157 [00:07<00:00, 21.63it/s]\n"
     ]
    },
    {
     "name": "stdout",
     "output_type": "stream",
     "text": [
      "Epoch : 20 - loss : 327.1437 - mse: 327.1437 - val_loss : 290.9427 - val_mse: 290.9427\n",
      "\n",
      "Validation loss decreased (311.460693 --> 290.942749).  Saving model ...\n"
     ]
    },
    {
     "name": "stderr",
     "output_type": "stream",
     "text": [
      "100%|██████████| 157/157 [00:06<00:00, 22.83it/s]\n"
     ]
    },
    {
     "name": "stdout",
     "output_type": "stream",
     "text": [
      "Epoch : 21 - loss : 301.9236 - mse: 301.9236 - val_loss : 273.3309 - val_mse: 273.3309\n",
      "\n",
      "Validation loss decreased (290.942749 --> 273.330872).  Saving model ...\n"
     ]
    },
    {
     "name": "stderr",
     "output_type": "stream",
     "text": [
      "100%|██████████| 157/157 [00:08<00:00, 18.90it/s]\n"
     ]
    },
    {
     "name": "stdout",
     "output_type": "stream",
     "text": [
      "Epoch : 22 - loss : 284.7166 - mse: 284.7166 - val_loss : 266.7542 - val_mse: 266.7542\n",
      "\n",
      "Validation loss decreased (273.330872 --> 266.754181).  Saving model ...\n"
     ]
    },
    {
     "name": "stderr",
     "output_type": "stream",
     "text": [
      "100%|██████████| 157/157 [00:07<00:00, 21.27it/s]\n"
     ]
    },
    {
     "name": "stdout",
     "output_type": "stream",
     "text": [
      "Epoch : 23 - loss : 270.5482 - mse: 270.5482 - val_loss : 255.3505 - val_mse: 255.3505\n",
      "\n",
      "Validation loss decreased (266.754181 --> 255.350479).  Saving model ...\n"
     ]
    },
    {
     "name": "stderr",
     "output_type": "stream",
     "text": [
      "100%|██████████| 157/157 [00:07<00:00, 21.33it/s]\n"
     ]
    },
    {
     "name": "stdout",
     "output_type": "stream",
     "text": [
      "Epoch : 24 - loss : 268.5878 - mse: 268.5878 - val_loss : 256.8421 - val_mse: 256.8421\n",
      "\n",
      "EarlyStopping counter: 1 out of 10\n"
     ]
    },
    {
     "name": "stderr",
     "output_type": "stream",
     "text": [
      "100%|██████████| 157/157 [00:06<00:00, 22.90it/s]\n"
     ]
    },
    {
     "name": "stdout",
     "output_type": "stream",
     "text": [
      "Epoch : 25 - loss : 262.4632 - mse: 262.4632 - val_loss : 252.8412 - val_mse: 252.8412\n",
      "\n",
      "Validation loss decreased (255.350479 --> 252.841217).  Saving model ...\n"
     ]
    },
    {
     "name": "stderr",
     "output_type": "stream",
     "text": [
      "100%|██████████| 157/157 [00:07<00:00, 22.19it/s]\n"
     ]
    },
    {
     "name": "stdout",
     "output_type": "stream",
     "text": [
      "Epoch : 26 - loss : 257.5339 - mse: 257.5339 - val_loss : 251.7502 - val_mse: 251.7502\n",
      "\n",
      "Validation loss decreased (252.841217 --> 251.750229).  Saving model ...\n"
     ]
    },
    {
     "name": "stderr",
     "output_type": "stream",
     "text": [
      "100%|██████████| 157/157 [00:06<00:00, 23.07it/s]\n"
     ]
    },
    {
     "name": "stdout",
     "output_type": "stream",
     "text": [
      "Epoch : 27 - loss : 255.5855 - mse: 255.5855 - val_loss : 247.3679 - val_mse: 247.3679\n",
      "\n",
      "Validation loss decreased (251.750229 --> 247.367905).  Saving model ...\n"
     ]
    },
    {
     "name": "stderr",
     "output_type": "stream",
     "text": [
      "100%|██████████| 157/157 [00:06<00:00, 23.33it/s]\n"
     ]
    },
    {
     "name": "stdout",
     "output_type": "stream",
     "text": [
      "Epoch : 28 - loss : 251.2021 - mse: 251.2021 - val_loss : 246.7961 - val_mse: 246.7961\n",
      "\n",
      "Validation loss decreased (247.367905 --> 246.796082).  Saving model ...\n"
     ]
    },
    {
     "name": "stderr",
     "output_type": "stream",
     "text": [
      "100%|██████████| 157/157 [00:07<00:00, 20.66it/s]\n"
     ]
    },
    {
     "name": "stdout",
     "output_type": "stream",
     "text": [
      "Epoch : 29 - loss : 249.2482 - mse: 249.2482 - val_loss : 241.4202 - val_mse: 241.4202\n",
      "\n",
      "Validation loss decreased (246.796082 --> 241.420197).  Saving model ...\n"
     ]
    },
    {
     "name": "stderr",
     "output_type": "stream",
     "text": [
      "100%|██████████| 157/157 [00:07<00:00, 20.79it/s]\n"
     ]
    },
    {
     "name": "stdout",
     "output_type": "stream",
     "text": [
      "Epoch : 30 - loss : 246.5962 - mse: 246.5962 - val_loss : 239.4572 - val_mse: 239.4572\n",
      "\n",
      "Validation loss decreased (241.420197 --> 239.457169).  Saving model ...\n"
     ]
    },
    {
     "name": "stderr",
     "output_type": "stream",
     "text": [
      "100%|██████████| 157/157 [00:07<00:00, 22.14it/s]\n"
     ]
    },
    {
     "name": "stdout",
     "output_type": "stream",
     "text": [
      "Epoch : 31 - loss : 249.0001 - mse: 249.0001 - val_loss : 238.4819 - val_mse: 238.4819\n",
      "\n",
      "Validation loss decreased (239.457169 --> 238.481903).  Saving model ...\n"
     ]
    },
    {
     "name": "stderr",
     "output_type": "stream",
     "text": [
      "100%|██████████| 157/157 [00:06<00:00, 23.07it/s]\n"
     ]
    },
    {
     "name": "stdout",
     "output_type": "stream",
     "text": [
      "Epoch : 32 - loss : 242.3610 - mse: 242.3610 - val_loss : 236.0469 - val_mse: 236.0469\n",
      "\n",
      "Validation loss decreased (238.481903 --> 236.046906).  Saving model ...\n"
     ]
    },
    {
     "name": "stderr",
     "output_type": "stream",
     "text": [
      "100%|██████████| 157/157 [00:06<00:00, 22.84it/s]\n"
     ]
    },
    {
     "name": "stdout",
     "output_type": "stream",
     "text": [
      "Epoch : 33 - loss : 239.7590 - mse: 239.7590 - val_loss : 232.1339 - val_mse: 232.1339\n",
      "\n",
      "Validation loss decreased (236.046906 --> 232.133896).  Saving model ...\n"
     ]
    },
    {
     "name": "stderr",
     "output_type": "stream",
     "text": [
      "100%|██████████| 157/157 [00:07<00:00, 22.06it/s]\n"
     ]
    },
    {
     "name": "stdout",
     "output_type": "stream",
     "text": [
      "Epoch : 34 - loss : 236.7604 - mse: 236.7604 - val_loss : 229.9575 - val_mse: 229.9575\n",
      "\n",
      "Validation loss decreased (232.133896 --> 229.957489).  Saving model ...\n"
     ]
    },
    {
     "name": "stderr",
     "output_type": "stream",
     "text": [
      "100%|██████████| 157/157 [00:07<00:00, 22.31it/s]\n"
     ]
    },
    {
     "name": "stdout",
     "output_type": "stream",
     "text": [
      "Epoch : 35 - loss : 237.4096 - mse: 237.4096 - val_loss : 233.7520 - val_mse: 233.7520\n",
      "\n",
      "EarlyStopping counter: 1 out of 10\n"
     ]
    },
    {
     "name": "stderr",
     "output_type": "stream",
     "text": [
      "100%|██████████| 157/157 [00:06<00:00, 23.52it/s]\n"
     ]
    },
    {
     "name": "stdout",
     "output_type": "stream",
     "text": [
      "Epoch : 36 - loss : 236.6299 - mse: 236.6299 - val_loss : 230.4074 - val_mse: 230.4074\n",
      "\n",
      "EarlyStopping counter: 2 out of 10\n"
     ]
    },
    {
     "name": "stderr",
     "output_type": "stream",
     "text": [
      "100%|██████████| 157/157 [00:07<00:00, 21.34it/s]\n"
     ]
    },
    {
     "name": "stdout",
     "output_type": "stream",
     "text": [
      "Epoch : 37 - loss : 245.3507 - mse: 245.3507 - val_loss : 237.3818 - val_mse: 237.3818\n",
      "\n",
      "EarlyStopping counter: 3 out of 10\n"
     ]
    },
    {
     "name": "stderr",
     "output_type": "stream",
     "text": [
      "100%|██████████| 157/157 [00:06<00:00, 23.53it/s]\n"
     ]
    },
    {
     "name": "stdout",
     "output_type": "stream",
     "text": [
      "Epoch : 38 - loss : 237.4063 - mse: 237.4063 - val_loss : 235.3132 - val_mse: 235.3132\n",
      "\n",
      "EarlyStopping counter: 4 out of 10\n"
     ]
    },
    {
     "name": "stderr",
     "output_type": "stream",
     "text": [
      "100%|██████████| 157/157 [00:07<00:00, 21.85it/s]\n"
     ]
    },
    {
     "name": "stdout",
     "output_type": "stream",
     "text": [
      "Epoch : 39 - loss : 233.3104 - mse: 233.3104 - val_loss : 215.5553 - val_mse: 215.5553\n",
      "\n",
      "Validation loss decreased (229.957489 --> 215.555283).  Saving model ...\n"
     ]
    },
    {
     "name": "stderr",
     "output_type": "stream",
     "text": [
      "100%|██████████| 157/157 [00:06<00:00, 23.55it/s]\n"
     ]
    },
    {
     "name": "stdout",
     "output_type": "stream",
     "text": [
      "Epoch : 40 - loss : 226.4913 - mse: 226.4913 - val_loss : 212.5276 - val_mse: 212.5276\n",
      "\n",
      "Validation loss decreased (215.555283 --> 212.527603).  Saving model ...\n"
     ]
    },
    {
     "name": "stderr",
     "output_type": "stream",
     "text": [
      "100%|██████████| 157/157 [00:06<00:00, 22.57it/s]\n"
     ]
    },
    {
     "name": "stdout",
     "output_type": "stream",
     "text": [
      "Epoch : 41 - loss : 221.8092 - mse: 221.8092 - val_loss : 205.2216 - val_mse: 205.2216\n",
      "\n",
      "Validation loss decreased (212.527603 --> 205.221558).  Saving model ...\n"
     ]
    },
    {
     "name": "stderr",
     "output_type": "stream",
     "text": [
      "100%|██████████| 157/157 [00:06<00:00, 22.59it/s]\n"
     ]
    },
    {
     "name": "stdout",
     "output_type": "stream",
     "text": [
      "Epoch : 42 - loss : 217.9187 - mse: 217.9187 - val_loss : 196.9373 - val_mse: 196.9373\n",
      "\n",
      "Validation loss decreased (205.221558 --> 196.937317).  Saving model ...\n"
     ]
    },
    {
     "name": "stderr",
     "output_type": "stream",
     "text": [
      "100%|██████████| 157/157 [00:07<00:00, 20.89it/s]\n"
     ]
    },
    {
     "name": "stdout",
     "output_type": "stream",
     "text": [
      "Epoch : 43 - loss : 212.9886 - mse: 212.9886 - val_loss : 195.6761 - val_mse: 195.6761\n",
      "\n",
      "Validation loss decreased (196.937317 --> 195.676132).  Saving model ...\n"
     ]
    },
    {
     "name": "stderr",
     "output_type": "stream",
     "text": [
      "100%|██████████| 157/157 [00:06<00:00, 22.51it/s]\n"
     ]
    },
    {
     "name": "stdout",
     "output_type": "stream",
     "text": [
      "Epoch : 44 - loss : 197.0490 - mse: 197.0490 - val_loss : 178.4688 - val_mse: 178.4688\n",
      "\n",
      "Validation loss decreased (195.676132 --> 178.468750).  Saving model ...\n"
     ]
    },
    {
     "name": "stderr",
     "output_type": "stream",
     "text": [
      "100%|██████████| 157/157 [00:06<00:00, 22.79it/s]\n"
     ]
    },
    {
     "name": "stdout",
     "output_type": "stream",
     "text": [
      "Epoch : 45 - loss : 185.1469 - mse: 185.1469 - val_loss : 155.4673 - val_mse: 155.4673\n",
      "\n",
      "Validation loss decreased (178.468750 --> 155.467346).  Saving model ...\n"
     ]
    },
    {
     "name": "stderr",
     "output_type": "stream",
     "text": [
      "100%|██████████| 157/157 [00:06<00:00, 22.76it/s]\n"
     ]
    },
    {
     "name": "stdout",
     "output_type": "stream",
     "text": [
      "Epoch : 46 - loss : 165.6707 - mse: 165.6707 - val_loss : 140.5752 - val_mse: 140.5752\n",
      "\n",
      "Validation loss decreased (155.467346 --> 140.575165).  Saving model ...\n"
     ]
    },
    {
     "name": "stderr",
     "output_type": "stream",
     "text": [
      "100%|██████████| 157/157 [00:06<00:00, 23.31it/s]\n"
     ]
    },
    {
     "name": "stdout",
     "output_type": "stream",
     "text": [
      "Epoch : 47 - loss : 148.1387 - mse: 148.1387 - val_loss : 121.7554 - val_mse: 121.7554\n",
      "\n",
      "Validation loss decreased (140.575165 --> 121.755394).  Saving model ...\n"
     ]
    },
    {
     "name": "stderr",
     "output_type": "stream",
     "text": [
      "100%|██████████| 157/157 [00:06<00:00, 23.20it/s]\n"
     ]
    },
    {
     "name": "stdout",
     "output_type": "stream",
     "text": [
      "Epoch : 48 - loss : 129.5982 - mse: 129.5982 - val_loss : 108.1648 - val_mse: 108.1648\n",
      "\n",
      "Validation loss decreased (121.755394 --> 108.164803).  Saving model ...\n"
     ]
    },
    {
     "name": "stderr",
     "output_type": "stream",
     "text": [
      "100%|██████████| 157/157 [00:06<00:00, 22.70it/s]\n"
     ]
    },
    {
     "name": "stdout",
     "output_type": "stream",
     "text": [
      "Epoch : 49 - loss : 112.4501 - mse: 112.4501 - val_loss : 99.3946 - val_mse: 99.3946\n",
      "\n",
      "Validation loss decreased (108.164803 --> 99.394623).  Saving model ...\n"
     ]
    },
    {
     "name": "stderr",
     "output_type": "stream",
     "text": [
      "100%|██████████| 157/157 [00:06<00:00, 22.98it/s]\n"
     ]
    },
    {
     "name": "stdout",
     "output_type": "stream",
     "text": [
      "Epoch : 50 - loss : 101.7048 - mse: 101.7048 - val_loss : 88.4355 - val_mse: 88.4355\n",
      "\n",
      "Validation loss decreased (99.394623 --> 88.435493).  Saving model ...\n"
     ]
    },
    {
     "name": "stderr",
     "output_type": "stream",
     "text": [
      "100%|██████████| 157/157 [00:06<00:00, 23.09it/s]\n"
     ]
    },
    {
     "name": "stdout",
     "output_type": "stream",
     "text": [
      "Epoch : 51 - loss : 89.7601 - mse: 89.7601 - val_loss : 79.1461 - val_mse: 79.1461\n",
      "\n",
      "Validation loss decreased (88.435493 --> 79.146088).  Saving model ...\n"
     ]
    },
    {
     "name": "stderr",
     "output_type": "stream",
     "text": [
      "100%|██████████| 157/157 [00:06<00:00, 22.75it/s]\n"
     ]
    },
    {
     "name": "stdout",
     "output_type": "stream",
     "text": [
      "Epoch : 52 - loss : 81.3216 - mse: 81.3216 - val_loss : 71.6857 - val_mse: 71.6857\n",
      "\n",
      "Validation loss decreased (79.146088 --> 71.685730).  Saving model ...\n"
     ]
    },
    {
     "name": "stderr",
     "output_type": "stream",
     "text": [
      "100%|██████████| 157/157 [00:07<00:00, 21.81it/s]\n"
     ]
    },
    {
     "name": "stdout",
     "output_type": "stream",
     "text": [
      "Epoch : 53 - loss : 73.7050 - mse: 73.7050 - val_loss : 59.8950 - val_mse: 59.8950\n",
      "\n",
      "Validation loss decreased (71.685730 --> 59.894962).  Saving model ...\n"
     ]
    },
    {
     "name": "stderr",
     "output_type": "stream",
     "text": [
      "100%|██████████| 157/157 [00:07<00:00, 19.87it/s]\n"
     ]
    },
    {
     "name": "stdout",
     "output_type": "stream",
     "text": [
      "Epoch : 54 - loss : 69.4225 - mse: 69.4225 - val_loss : 64.0884 - val_mse: 64.0884\n",
      "\n",
      "EarlyStopping counter: 1 out of 10\n"
     ]
    },
    {
     "name": "stderr",
     "output_type": "stream",
     "text": [
      "100%|██████████| 157/157 [00:07<00:00, 21.14it/s]\n"
     ]
    },
    {
     "name": "stdout",
     "output_type": "stream",
     "text": [
      "Epoch : 55 - loss : 64.7816 - mse: 64.7816 - val_loss : 60.5701 - val_mse: 60.5701\n",
      "\n",
      "EarlyStopping counter: 2 out of 10\n"
     ]
    },
    {
     "name": "stderr",
     "output_type": "stream",
     "text": [
      "100%|██████████| 157/157 [00:07<00:00, 19.93it/s]\n"
     ]
    },
    {
     "name": "stdout",
     "output_type": "stream",
     "text": [
      "Epoch : 56 - loss : 61.5429 - mse: 61.5429 - val_loss : 54.9382 - val_mse: 54.9382\n",
      "\n",
      "Validation loss decreased (59.894962 --> 54.938229).  Saving model ...\n"
     ]
    },
    {
     "name": "stderr",
     "output_type": "stream",
     "text": [
      "100%|██████████| 157/157 [00:06<00:00, 23.28it/s]\n"
     ]
    },
    {
     "name": "stdout",
     "output_type": "stream",
     "text": [
      "Epoch : 57 - loss : 60.5406 - mse: 60.5406 - val_loss : 53.8547 - val_mse: 53.8547\n",
      "\n",
      "Validation loss decreased (54.938229 --> 53.854664).  Saving model ...\n"
     ]
    },
    {
     "name": "stderr",
     "output_type": "stream",
     "text": [
      "100%|██████████| 157/157 [00:07<00:00, 20.42it/s]\n"
     ]
    },
    {
     "name": "stdout",
     "output_type": "stream",
     "text": [
      "Epoch : 58 - loss : 61.2600 - mse: 61.2600 - val_loss : 55.4914 - val_mse: 55.4914\n",
      "\n",
      "EarlyStopping counter: 1 out of 10\n"
     ]
    },
    {
     "name": "stderr",
     "output_type": "stream",
     "text": [
      "100%|██████████| 157/157 [00:06<00:00, 22.55it/s]\n"
     ]
    },
    {
     "name": "stdout",
     "output_type": "stream",
     "text": [
      "Epoch : 59 - loss : 57.8505 - mse: 57.8505 - val_loss : 54.9147 - val_mse: 54.9147\n",
      "\n",
      "EarlyStopping counter: 2 out of 10\n"
     ]
    },
    {
     "name": "stderr",
     "output_type": "stream",
     "text": [
      "100%|██████████| 157/157 [00:07<00:00, 19.84it/s]\n"
     ]
    },
    {
     "name": "stdout",
     "output_type": "stream",
     "text": [
      "Epoch : 60 - loss : 55.7892 - mse: 55.7892 - val_loss : 50.3748 - val_mse: 50.3748\n",
      "\n",
      "Validation loss decreased (53.854664 --> 50.374813).  Saving model ...\n"
     ]
    },
    {
     "name": "stderr",
     "output_type": "stream",
     "text": [
      "100%|██████████| 157/157 [00:06<00:00, 23.39it/s]\n"
     ]
    },
    {
     "name": "stdout",
     "output_type": "stream",
     "text": [
      "Epoch : 61 - loss : 53.6837 - mse: 53.6837 - val_loss : 50.6931 - val_mse: 50.6931\n",
      "\n",
      "EarlyStopping counter: 1 out of 10\n"
     ]
    },
    {
     "name": "stderr",
     "output_type": "stream",
     "text": [
      "100%|██████████| 157/157 [00:06<00:00, 23.45it/s]\n"
     ]
    },
    {
     "name": "stdout",
     "output_type": "stream",
     "text": [
      "Epoch : 62 - loss : 53.7163 - mse: 53.7163 - val_loss : 52.6235 - val_mse: 52.6235\n",
      "\n",
      "EarlyStopping counter: 2 out of 10\n"
     ]
    },
    {
     "name": "stderr",
     "output_type": "stream",
     "text": [
      "100%|██████████| 157/157 [00:06<00:00, 22.52it/s]\n"
     ]
    },
    {
     "name": "stdout",
     "output_type": "stream",
     "text": [
      "Epoch : 63 - loss : 53.6196 - mse: 53.6196 - val_loss : 48.6504 - val_mse: 48.6504\n",
      "\n",
      "Validation loss decreased (50.374813 --> 48.650421).  Saving model ...\n"
     ]
    },
    {
     "name": "stderr",
     "output_type": "stream",
     "text": [
      "100%|██████████| 157/157 [00:06<00:00, 22.49it/s]\n"
     ]
    },
    {
     "name": "stdout",
     "output_type": "stream",
     "text": [
      "Epoch : 64 - loss : 52.8454 - mse: 52.8454 - val_loss : 50.5702 - val_mse: 50.5702\n",
      "\n",
      "EarlyStopping counter: 1 out of 10\n"
     ]
    },
    {
     "name": "stderr",
     "output_type": "stream",
     "text": [
      "100%|██████████| 157/157 [00:06<00:00, 23.42it/s]\n"
     ]
    },
    {
     "name": "stdout",
     "output_type": "stream",
     "text": [
      "Epoch : 65 - loss : 52.3095 - mse: 52.3095 - val_loss : 48.9263 - val_mse: 48.9263\n",
      "\n",
      "EarlyStopping counter: 2 out of 10\n"
     ]
    },
    {
     "name": "stderr",
     "output_type": "stream",
     "text": [
      "100%|██████████| 157/157 [00:06<00:00, 23.14it/s]\n"
     ]
    },
    {
     "name": "stdout",
     "output_type": "stream",
     "text": [
      "Epoch : 66 - loss : 52.1806 - mse: 52.1806 - val_loss : 53.3605 - val_mse: 53.3605\n",
      "\n",
      "EarlyStopping counter: 3 out of 10\n"
     ]
    },
    {
     "name": "stderr",
     "output_type": "stream",
     "text": [
      "100%|██████████| 157/157 [00:06<00:00, 22.81it/s]\n"
     ]
    },
    {
     "name": "stdout",
     "output_type": "stream",
     "text": [
      "Epoch : 67 - loss : 53.1247 - mse: 53.1247 - val_loss : 48.8831 - val_mse: 48.8831\n",
      "\n",
      "EarlyStopping counter: 4 out of 10\n"
     ]
    },
    {
     "name": "stderr",
     "output_type": "stream",
     "text": [
      "100%|██████████| 157/157 [00:06<00:00, 22.62it/s]\n"
     ]
    },
    {
     "name": "stdout",
     "output_type": "stream",
     "text": [
      "Epoch : 68 - loss : 54.2474 - mse: 54.2474 - val_loss : 48.2853 - val_mse: 48.2853\n",
      "\n",
      "Validation loss decreased (48.650421 --> 48.285328).  Saving model ...\n"
     ]
    },
    {
     "name": "stderr",
     "output_type": "stream",
     "text": [
      "100%|██████████| 157/157 [00:06<00:00, 22.69it/s]\n"
     ]
    },
    {
     "name": "stdout",
     "output_type": "stream",
     "text": [
      "Epoch : 69 - loss : 50.5920 - mse: 50.5920 - val_loss : 48.3957 - val_mse: 48.3957\n",
      "\n",
      "EarlyStopping counter: 1 out of 10\n"
     ]
    },
    {
     "name": "stderr",
     "output_type": "stream",
     "text": [
      "100%|██████████| 157/157 [00:07<00:00, 22.20it/s]\n"
     ]
    },
    {
     "name": "stdout",
     "output_type": "stream",
     "text": [
      "Epoch : 70 - loss : 47.4836 - mse: 47.4836 - val_loss : 45.6242 - val_mse: 45.6242\n",
      "\n",
      "Validation loss decreased (48.285328 --> 45.624207).  Saving model ...\n"
     ]
    },
    {
     "name": "stderr",
     "output_type": "stream",
     "text": [
      "100%|██████████| 157/157 [00:07<00:00, 20.37it/s]\n"
     ]
    },
    {
     "name": "stdout",
     "output_type": "stream",
     "text": [
      "Epoch : 71 - loss : 48.7771 - mse: 48.7771 - val_loss : 45.7579 - val_mse: 45.7579\n",
      "\n",
      "EarlyStopping counter: 1 out of 10\n"
     ]
    },
    {
     "name": "stderr",
     "output_type": "stream",
     "text": [
      "100%|██████████| 157/157 [00:07<00:00, 20.98it/s]\n"
     ]
    },
    {
     "name": "stdout",
     "output_type": "stream",
     "text": [
      "Epoch : 72 - loss : 47.9987 - mse: 47.9987 - val_loss : 43.3345 - val_mse: 43.3345\n",
      "\n",
      "Validation loss decreased (45.624207 --> 43.334476).  Saving model ...\n"
     ]
    },
    {
     "name": "stderr",
     "output_type": "stream",
     "text": [
      "100%|██████████| 157/157 [00:07<00:00, 20.69it/s]\n"
     ]
    },
    {
     "name": "stdout",
     "output_type": "stream",
     "text": [
      "Epoch : 73 - loss : 47.5630 - mse: 47.5630 - val_loss : 45.5788 - val_mse: 45.5788\n",
      "\n",
      "EarlyStopping counter: 1 out of 10\n"
     ]
    },
    {
     "name": "stderr",
     "output_type": "stream",
     "text": [
      "100%|██████████| 157/157 [00:07<00:00, 22.20it/s]\n"
     ]
    },
    {
     "name": "stdout",
     "output_type": "stream",
     "text": [
      "Epoch : 74 - loss : 47.8350 - mse: 47.8350 - val_loss : 43.6984 - val_mse: 43.6984\n",
      "\n",
      "EarlyStopping counter: 2 out of 10\n"
     ]
    },
    {
     "name": "stderr",
     "output_type": "stream",
     "text": [
      "100%|██████████| 157/157 [00:08<00:00, 19.48it/s]\n"
     ]
    },
    {
     "name": "stdout",
     "output_type": "stream",
     "text": [
      "Epoch : 75 - loss : 46.1592 - mse: 46.1592 - val_loss : 42.7234 - val_mse: 42.7234\n",
      "\n",
      "Validation loss decreased (43.334476 --> 42.723442).  Saving model ...\n"
     ]
    },
    {
     "name": "stderr",
     "output_type": "stream",
     "text": [
      "100%|██████████| 157/157 [00:06<00:00, 22.54it/s]\n"
     ]
    },
    {
     "name": "stdout",
     "output_type": "stream",
     "text": [
      "Epoch : 76 - loss : 44.8995 - mse: 44.8995 - val_loss : 42.2446 - val_mse: 42.2446\n",
      "\n",
      "Validation loss decreased (42.723442 --> 42.244644).  Saving model ...\n"
     ]
    },
    {
     "name": "stderr",
     "output_type": "stream",
     "text": [
      "100%|██████████| 157/157 [00:07<00:00, 21.51it/s]\n"
     ]
    },
    {
     "name": "stdout",
     "output_type": "stream",
     "text": [
      "Epoch : 77 - loss : 45.1324 - mse: 45.1324 - val_loss : 43.6782 - val_mse: 43.6782\n",
      "\n",
      "EarlyStopping counter: 1 out of 10\n"
     ]
    },
    {
     "name": "stderr",
     "output_type": "stream",
     "text": [
      "100%|██████████| 157/157 [00:06<00:00, 22.51it/s]\n"
     ]
    },
    {
     "name": "stdout",
     "output_type": "stream",
     "text": [
      "Epoch : 78 - loss : 44.6632 - mse: 44.6632 - val_loss : 41.5105 - val_mse: 41.5105\n",
      "\n",
      "Validation loss decreased (42.244644 --> 41.510479).  Saving model ...\n"
     ]
    },
    {
     "name": "stderr",
     "output_type": "stream",
     "text": [
      "100%|██████████| 157/157 [00:07<00:00, 22.11it/s]\n"
     ]
    },
    {
     "name": "stdout",
     "output_type": "stream",
     "text": [
      "Epoch : 79 - loss : 42.6787 - mse: 42.6787 - val_loss : 41.2520 - val_mse: 41.2520\n",
      "\n",
      "Validation loss decreased (41.510479 --> 41.251991).  Saving model ...\n"
     ]
    },
    {
     "name": "stderr",
     "output_type": "stream",
     "text": [
      "100%|██████████| 157/157 [00:06<00:00, 22.67it/s]\n"
     ]
    },
    {
     "name": "stdout",
     "output_type": "stream",
     "text": [
      "Epoch : 80 - loss : 43.0364 - mse: 43.0364 - val_loss : 42.6617 - val_mse: 42.6617\n",
      "\n",
      "EarlyStopping counter: 1 out of 10\n"
     ]
    },
    {
     "name": "stderr",
     "output_type": "stream",
     "text": [
      "100%|██████████| 157/157 [00:06<00:00, 22.80it/s]\n"
     ]
    },
    {
     "name": "stdout",
     "output_type": "stream",
     "text": [
      "Epoch : 81 - loss : 44.5606 - mse: 44.5606 - val_loss : 40.8652 - val_mse: 40.8652\n",
      "\n",
      "Validation loss decreased (41.251991 --> 40.865162).  Saving model ...\n"
     ]
    },
    {
     "name": "stderr",
     "output_type": "stream",
     "text": [
      "100%|██████████| 157/157 [00:07<00:00, 22.15it/s]\n"
     ]
    },
    {
     "name": "stdout",
     "output_type": "stream",
     "text": [
      "Epoch : 82 - loss : 43.1033 - mse: 43.1033 - val_loss : 40.0415 - val_mse: 40.0415\n",
      "\n",
      "Validation loss decreased (40.865162 --> 40.041504).  Saving model ...\n"
     ]
    },
    {
     "name": "stderr",
     "output_type": "stream",
     "text": [
      "100%|██████████| 157/157 [00:07<00:00, 22.06it/s]\n"
     ]
    },
    {
     "name": "stdout",
     "output_type": "stream",
     "text": [
      "Epoch : 83 - loss : 42.7736 - mse: 42.7736 - val_loss : 40.2229 - val_mse: 40.2229\n",
      "\n",
      "EarlyStopping counter: 1 out of 10\n"
     ]
    },
    {
     "name": "stderr",
     "output_type": "stream",
     "text": [
      "100%|██████████| 157/157 [00:06<00:00, 23.21it/s]\n"
     ]
    },
    {
     "name": "stdout",
     "output_type": "stream",
     "text": [
      "Epoch : 84 - loss : 41.5907 - mse: 41.5907 - val_loss : 36.3833 - val_mse: 36.3833\n",
      "\n",
      "Validation loss decreased (40.041504 --> 36.383316).  Saving model ...\n"
     ]
    },
    {
     "name": "stderr",
     "output_type": "stream",
     "text": [
      "100%|██████████| 157/157 [00:06<00:00, 23.44it/s]\n"
     ]
    },
    {
     "name": "stdout",
     "output_type": "stream",
     "text": [
      "Epoch : 85 - loss : 39.5785 - mse: 39.5785 - val_loss : 38.2927 - val_mse: 38.2927\n",
      "\n",
      "EarlyStopping counter: 1 out of 10\n"
     ]
    },
    {
     "name": "stderr",
     "output_type": "stream",
     "text": [
      "100%|██████████| 157/157 [00:06<00:00, 23.47it/s]\n"
     ]
    },
    {
     "name": "stdout",
     "output_type": "stream",
     "text": [
      "Epoch : 86 - loss : 40.4042 - mse: 40.4042 - val_loss : 40.4393 - val_mse: 40.4393\n",
      "\n",
      "EarlyStopping counter: 2 out of 10\n"
     ]
    },
    {
     "name": "stderr",
     "output_type": "stream",
     "text": [
      "100%|██████████| 157/157 [00:06<00:00, 22.97it/s]\n"
     ]
    },
    {
     "name": "stdout",
     "output_type": "stream",
     "text": [
      "Epoch : 87 - loss : 40.3868 - mse: 40.3868 - val_loss : 37.6418 - val_mse: 37.6418\n",
      "\n",
      "EarlyStopping counter: 3 out of 10\n"
     ]
    },
    {
     "name": "stderr",
     "output_type": "stream",
     "text": [
      "100%|██████████| 157/157 [00:07<00:00, 21.68it/s]\n"
     ]
    },
    {
     "name": "stdout",
     "output_type": "stream",
     "text": [
      "Epoch : 88 - loss : 39.9120 - mse: 39.9120 - val_loss : 36.7100 - val_mse: 36.7100\n",
      "\n",
      "EarlyStopping counter: 4 out of 10\n"
     ]
    },
    {
     "name": "stderr",
     "output_type": "stream",
     "text": [
      "100%|██████████| 157/157 [00:06<00:00, 22.84it/s]\n"
     ]
    },
    {
     "name": "stdout",
     "output_type": "stream",
     "text": [
      "Epoch : 89 - loss : 39.6233 - mse: 39.6233 - val_loss : 36.6366 - val_mse: 36.6366\n",
      "\n",
      "EarlyStopping counter: 5 out of 10\n"
     ]
    },
    {
     "name": "stderr",
     "output_type": "stream",
     "text": [
      "100%|██████████| 157/157 [00:07<00:00, 22.06it/s]\n"
     ]
    },
    {
     "name": "stdout",
     "output_type": "stream",
     "text": [
      "Epoch : 90 - loss : 40.5341 - mse: 40.5341 - val_loss : 37.7308 - val_mse: 37.7308\n",
      "\n",
      "EarlyStopping counter: 6 out of 10\n"
     ]
    },
    {
     "name": "stderr",
     "output_type": "stream",
     "text": [
      "100%|██████████| 157/157 [00:06<00:00, 22.52it/s]\n"
     ]
    },
    {
     "name": "stdout",
     "output_type": "stream",
     "text": [
      "Epoch : 91 - loss : 40.5397 - mse: 40.5397 - val_loss : 37.3104 - val_mse: 37.3104\n",
      "\n",
      "EarlyStopping counter: 7 out of 10\n"
     ]
    },
    {
     "name": "stderr",
     "output_type": "stream",
     "text": [
      "100%|██████████| 157/157 [00:07<00:00, 22.16it/s]\n"
     ]
    },
    {
     "name": "stdout",
     "output_type": "stream",
     "text": [
      "Epoch : 92 - loss : 38.7930 - mse: 38.7930 - val_loss : 36.2933 - val_mse: 36.2933\n",
      "\n",
      "Validation loss decreased (36.383316 --> 36.293274).  Saving model ...\n"
     ]
    },
    {
     "name": "stderr",
     "output_type": "stream",
     "text": [
      "100%|██████████| 157/157 [00:06<00:00, 23.09it/s]\n"
     ]
    },
    {
     "name": "stdout",
     "output_type": "stream",
     "text": [
      "Epoch : 93 - loss : 37.9962 - mse: 37.9962 - val_loss : 35.8989 - val_mse: 35.8989\n",
      "\n",
      "Validation loss decreased (36.293274 --> 35.898941).  Saving model ...\n"
     ]
    },
    {
     "name": "stderr",
     "output_type": "stream",
     "text": [
      "100%|██████████| 157/157 [00:07<00:00, 22.19it/s]\n"
     ]
    },
    {
     "name": "stdout",
     "output_type": "stream",
     "text": [
      "Epoch : 94 - loss : 36.5794 - mse: 36.5794 - val_loss : 34.4140 - val_mse: 34.4140\n",
      "\n",
      "Validation loss decreased (35.898941 --> 34.414001).  Saving model ...\n"
     ]
    },
    {
     "name": "stderr",
     "output_type": "stream",
     "text": [
      "100%|██████████| 157/157 [00:06<00:00, 22.89it/s]\n"
     ]
    },
    {
     "name": "stdout",
     "output_type": "stream",
     "text": [
      "Epoch : 95 - loss : 36.0100 - mse: 36.0100 - val_loss : 35.5749 - val_mse: 35.5749\n",
      "\n",
      "EarlyStopping counter: 1 out of 10\n"
     ]
    },
    {
     "name": "stderr",
     "output_type": "stream",
     "text": [
      "100%|██████████| 157/157 [00:06<00:00, 23.59it/s]\n"
     ]
    },
    {
     "name": "stdout",
     "output_type": "stream",
     "text": [
      "Epoch : 96 - loss : 35.6277 - mse: 35.6277 - val_loss : 35.3529 - val_mse: 35.3529\n",
      "\n",
      "EarlyStopping counter: 2 out of 10\n"
     ]
    },
    {
     "name": "stderr",
     "output_type": "stream",
     "text": [
      "100%|██████████| 157/157 [00:06<00:00, 23.25it/s]\n"
     ]
    },
    {
     "name": "stdout",
     "output_type": "stream",
     "text": [
      "Epoch : 97 - loss : 36.5143 - mse: 36.5143 - val_loss : 34.5989 - val_mse: 34.5989\n",
      "\n",
      "EarlyStopping counter: 3 out of 10\n"
     ]
    },
    {
     "name": "stderr",
     "output_type": "stream",
     "text": [
      "100%|██████████| 157/157 [00:06<00:00, 23.42it/s]\n"
     ]
    },
    {
     "name": "stdout",
     "output_type": "stream",
     "text": [
      "Epoch : 98 - loss : 35.6185 - mse: 35.6185 - val_loss : 36.4209 - val_mse: 36.4209\n",
      "\n",
      "EarlyStopping counter: 4 out of 10\n"
     ]
    },
    {
     "name": "stderr",
     "output_type": "stream",
     "text": [
      "100%|██████████| 157/157 [00:06<00:00, 23.48it/s]\n"
     ]
    },
    {
     "name": "stdout",
     "output_type": "stream",
     "text": [
      "Epoch : 99 - loss : 36.7213 - mse: 36.7213 - val_loss : 35.7531 - val_mse: 35.7531\n",
      "\n",
      "EarlyStopping counter: 5 out of 10\n"
     ]
    },
    {
     "name": "stderr",
     "output_type": "stream",
     "text": [
      "100%|██████████| 157/157 [00:06<00:00, 23.56it/s]\n"
     ]
    },
    {
     "name": "stdout",
     "output_type": "stream",
     "text": [
      "Epoch : 100 - loss : 36.4649 - mse: 36.4649 - val_loss : 34.6104 - val_mse: 34.6104\n",
      "\n",
      "EarlyStopping counter: 6 out of 10\n"
     ]
    },
    {
     "name": "stderr",
     "output_type": "stream",
     "text": [
      "100%|██████████| 157/157 [00:06<00:00, 24.01it/s]\n"
     ]
    },
    {
     "name": "stdout",
     "output_type": "stream",
     "text": [
      "Epoch : 101 - loss : 36.3944 - mse: 36.3944 - val_loss : 33.9208 - val_mse: 33.9208\n",
      "\n",
      "Validation loss decreased (34.414001 --> 33.920761).  Saving model ...\n"
     ]
    },
    {
     "name": "stderr",
     "output_type": "stream",
     "text": [
      "100%|██████████| 157/157 [00:06<00:00, 23.53it/s]\n"
     ]
    },
    {
     "name": "stdout",
     "output_type": "stream",
     "text": [
      "Epoch : 102 - loss : 35.7965 - mse: 35.7965 - val_loss : 36.9023 - val_mse: 36.9023\n",
      "\n",
      "EarlyStopping counter: 1 out of 10\n"
     ]
    },
    {
     "name": "stderr",
     "output_type": "stream",
     "text": [
      "100%|██████████| 157/157 [00:06<00:00, 23.64it/s]\n"
     ]
    },
    {
     "name": "stdout",
     "output_type": "stream",
     "text": [
      "Epoch : 103 - loss : 35.9409 - mse: 35.9409 - val_loss : 34.1870 - val_mse: 34.1870\n",
      "\n",
      "EarlyStopping counter: 2 out of 10\n"
     ]
    },
    {
     "name": "stderr",
     "output_type": "stream",
     "text": [
      "100%|██████████| 157/157 [00:06<00:00, 23.47it/s]\n"
     ]
    },
    {
     "name": "stdout",
     "output_type": "stream",
     "text": [
      "Epoch : 104 - loss : 35.0659 - mse: 35.0659 - val_loss : 33.4774 - val_mse: 33.4774\n",
      "\n",
      "Validation loss decreased (33.920761 --> 33.477406).  Saving model ...\n"
     ]
    },
    {
     "name": "stderr",
     "output_type": "stream",
     "text": [
      "100%|██████████| 157/157 [00:07<00:00, 22.20it/s]\n"
     ]
    },
    {
     "name": "stdout",
     "output_type": "stream",
     "text": [
      "Epoch : 105 - loss : 35.0289 - mse: 35.0289 - val_loss : 31.7992 - val_mse: 31.7992\n",
      "\n",
      "Validation loss decreased (33.477406 --> 31.799194).  Saving model ...\n"
     ]
    },
    {
     "name": "stderr",
     "output_type": "stream",
     "text": [
      "100%|██████████| 157/157 [00:06<00:00, 24.02it/s]\n"
     ]
    },
    {
     "name": "stdout",
     "output_type": "stream",
     "text": [
      "Epoch : 106 - loss : 33.9252 - mse: 33.9252 - val_loss : 32.4327 - val_mse: 32.4327\n",
      "\n",
      "EarlyStopping counter: 1 out of 10\n"
     ]
    },
    {
     "name": "stderr",
     "output_type": "stream",
     "text": [
      "100%|██████████| 157/157 [00:07<00:00, 22.31it/s]\n"
     ]
    },
    {
     "name": "stdout",
     "output_type": "stream",
     "text": [
      "Epoch : 107 - loss : 35.3739 - mse: 35.3739 - val_loss : 34.5491 - val_mse: 34.5491\n",
      "\n",
      "EarlyStopping counter: 2 out of 10\n"
     ]
    },
    {
     "name": "stderr",
     "output_type": "stream",
     "text": [
      "100%|██████████| 157/157 [00:06<00:00, 23.67it/s]\n"
     ]
    },
    {
     "name": "stdout",
     "output_type": "stream",
     "text": [
      "Epoch : 108 - loss : 33.8602 - mse: 33.8602 - val_loss : 31.7121 - val_mse: 31.7121\n",
      "\n",
      "Validation loss decreased (31.799194 --> 31.712107).  Saving model ...\n"
     ]
    },
    {
     "name": "stderr",
     "output_type": "stream",
     "text": [
      "100%|██████████| 157/157 [00:07<00:00, 21.32it/s]\n"
     ]
    },
    {
     "name": "stdout",
     "output_type": "stream",
     "text": [
      "Epoch : 109 - loss : 35.6097 - mse: 35.6097 - val_loss : 31.9371 - val_mse: 31.9371\n",
      "\n",
      "EarlyStopping counter: 1 out of 10\n"
     ]
    },
    {
     "name": "stderr",
     "output_type": "stream",
     "text": [
      "100%|██████████| 157/157 [00:06<00:00, 23.59it/s]\n"
     ]
    },
    {
     "name": "stdout",
     "output_type": "stream",
     "text": [
      "Epoch : 110 - loss : 32.9041 - mse: 32.9041 - val_loss : 31.2714 - val_mse: 31.2714\n",
      "\n",
      "Validation loss decreased (31.712107 --> 31.271408).  Saving model ...\n"
     ]
    },
    {
     "name": "stderr",
     "output_type": "stream",
     "text": [
      "100%|██████████| 157/157 [00:07<00:00, 20.77it/s]\n"
     ]
    },
    {
     "name": "stdout",
     "output_type": "stream",
     "text": [
      "Epoch : 111 - loss : 31.5790 - mse: 31.5790 - val_loss : 28.5099 - val_mse: 28.5099\n",
      "\n",
      "Validation loss decreased (31.271408 --> 28.509899).  Saving model ...\n"
     ]
    },
    {
     "name": "stderr",
     "output_type": "stream",
     "text": [
      "100%|██████████| 157/157 [00:06<00:00, 22.88it/s]\n"
     ]
    },
    {
     "name": "stdout",
     "output_type": "stream",
     "text": [
      "Epoch : 112 - loss : 30.4467 - mse: 30.4467 - val_loss : 28.7094 - val_mse: 28.7094\n",
      "\n",
      "EarlyStopping counter: 1 out of 10\n"
     ]
    },
    {
     "name": "stderr",
     "output_type": "stream",
     "text": [
      "100%|██████████| 157/157 [00:06<00:00, 23.25it/s]\n"
     ]
    },
    {
     "name": "stdout",
     "output_type": "stream",
     "text": [
      "Epoch : 113 - loss : 29.7803 - mse: 29.7803 - val_loss : 28.4219 - val_mse: 28.4219\n",
      "\n",
      "Validation loss decreased (28.509899 --> 28.421894).  Saving model ...\n"
     ]
    },
    {
     "name": "stderr",
     "output_type": "stream",
     "text": [
      "100%|██████████| 157/157 [00:06<00:00, 22.70it/s]\n"
     ]
    },
    {
     "name": "stdout",
     "output_type": "stream",
     "text": [
      "Epoch : 114 - loss : 29.5967 - mse: 29.5967 - val_loss : 27.6041 - val_mse: 27.6041\n",
      "\n",
      "Validation loss decreased (28.421894 --> 27.604057).  Saving model ...\n"
     ]
    },
    {
     "name": "stderr",
     "output_type": "stream",
     "text": [
      "100%|██████████| 157/157 [00:06<00:00, 23.34it/s]\n"
     ]
    },
    {
     "name": "stdout",
     "output_type": "stream",
     "text": [
      "Epoch : 115 - loss : 29.6032 - mse: 29.6032 - val_loss : 28.2961 - val_mse: 28.2961\n",
      "\n",
      "EarlyStopping counter: 1 out of 10\n"
     ]
    },
    {
     "name": "stderr",
     "output_type": "stream",
     "text": [
      "100%|██████████| 157/157 [00:06<00:00, 22.74it/s]\n"
     ]
    },
    {
     "name": "stdout",
     "output_type": "stream",
     "text": [
      "Epoch : 116 - loss : 30.0471 - mse: 30.0471 - val_loss : 29.2527 - val_mse: 29.2527\n",
      "\n",
      "EarlyStopping counter: 2 out of 10\n"
     ]
    },
    {
     "name": "stderr",
     "output_type": "stream",
     "text": [
      "100%|██████████| 157/157 [00:06<00:00, 22.49it/s]\n"
     ]
    },
    {
     "name": "stdout",
     "output_type": "stream",
     "text": [
      "Epoch : 117 - loss : 31.0499 - mse: 31.0499 - val_loss : 29.9398 - val_mse: 29.9398\n",
      "\n",
      "EarlyStopping counter: 3 out of 10\n"
     ]
    },
    {
     "name": "stderr",
     "output_type": "stream",
     "text": [
      "100%|██████████| 157/157 [00:06<00:00, 23.00it/s]\n"
     ]
    },
    {
     "name": "stdout",
     "output_type": "stream",
     "text": [
      "Epoch : 118 - loss : 31.1037 - mse: 31.1037 - val_loss : 29.2217 - val_mse: 29.2217\n",
      "\n",
      "EarlyStopping counter: 4 out of 10\n"
     ]
    },
    {
     "name": "stderr",
     "output_type": "stream",
     "text": [
      "100%|██████████| 157/157 [00:06<00:00, 23.03it/s]\n"
     ]
    },
    {
     "name": "stdout",
     "output_type": "stream",
     "text": [
      "Epoch : 119 - loss : 31.5063 - mse: 31.5063 - val_loss : 29.7347 - val_mse: 29.7347\n",
      "\n",
      "EarlyStopping counter: 5 out of 10\n"
     ]
    },
    {
     "name": "stderr",
     "output_type": "stream",
     "text": [
      "100%|██████████| 157/157 [00:06<00:00, 22.84it/s]\n"
     ]
    },
    {
     "name": "stdout",
     "output_type": "stream",
     "text": [
      "Epoch : 120 - loss : 31.6499 - mse: 31.6499 - val_loss : 28.9734 - val_mse: 28.9734\n",
      "\n",
      "EarlyStopping counter: 6 out of 10\n"
     ]
    },
    {
     "name": "stderr",
     "output_type": "stream",
     "text": [
      "100%|██████████| 157/157 [00:06<00:00, 23.04it/s]\n"
     ]
    },
    {
     "name": "stdout",
     "output_type": "stream",
     "text": [
      "Epoch : 121 - loss : 31.4791 - mse: 31.4791 - val_loss : 29.3505 - val_mse: 29.3505\n",
      "\n",
      "EarlyStopping counter: 7 out of 10\n"
     ]
    },
    {
     "name": "stderr",
     "output_type": "stream",
     "text": [
      "100%|██████████| 157/157 [00:07<00:00, 21.58it/s]\n"
     ]
    },
    {
     "name": "stdout",
     "output_type": "stream",
     "text": [
      "Epoch : 122 - loss : 30.5881 - mse: 30.5881 - val_loss : 28.7335 - val_mse: 28.7335\n",
      "\n",
      "EarlyStopping counter: 8 out of 10\n"
     ]
    },
    {
     "name": "stderr",
     "output_type": "stream",
     "text": [
      "100%|██████████| 157/157 [00:06<00:00, 22.86it/s]\n"
     ]
    },
    {
     "name": "stdout",
     "output_type": "stream",
     "text": [
      "Epoch : 123 - loss : 29.9380 - mse: 29.9380 - val_loss : 27.4887 - val_mse: 27.4887\n",
      "\n",
      "Validation loss decreased (27.604057 --> 27.488743).  Saving model ...\n"
     ]
    },
    {
     "name": "stderr",
     "output_type": "stream",
     "text": [
      "100%|██████████| 157/157 [00:07<00:00, 21.68it/s]\n"
     ]
    },
    {
     "name": "stdout",
     "output_type": "stream",
     "text": [
      "Epoch : 124 - loss : 28.1336 - mse: 28.1336 - val_loss : 26.3907 - val_mse: 26.3907\n",
      "\n",
      "Validation loss decreased (27.488743 --> 26.390728).  Saving model ...\n"
     ]
    },
    {
     "name": "stderr",
     "output_type": "stream",
     "text": [
      "100%|██████████| 157/157 [00:06<00:00, 23.45it/s]\n"
     ]
    },
    {
     "name": "stdout",
     "output_type": "stream",
     "text": [
      "Epoch : 125 - loss : 28.4620 - mse: 28.4620 - val_loss : 27.8837 - val_mse: 27.8837\n",
      "\n",
      "EarlyStopping counter: 1 out of 10\n"
     ]
    },
    {
     "name": "stderr",
     "output_type": "stream",
     "text": [
      "100%|██████████| 157/157 [00:07<00:00, 22.05it/s]\n"
     ]
    },
    {
     "name": "stdout",
     "output_type": "stream",
     "text": [
      "Epoch : 126 - loss : 29.5389 - mse: 29.5389 - val_loss : 27.4893 - val_mse: 27.4893\n",
      "\n",
      "EarlyStopping counter: 2 out of 10\n"
     ]
    },
    {
     "name": "stderr",
     "output_type": "stream",
     "text": [
      "100%|██████████| 157/157 [00:06<00:00, 23.19it/s]\n"
     ]
    },
    {
     "name": "stdout",
     "output_type": "stream",
     "text": [
      "Epoch : 127 - loss : 29.4768 - mse: 29.4768 - val_loss : 26.6281 - val_mse: 26.6281\n",
      "\n",
      "EarlyStopping counter: 3 out of 10\n"
     ]
    },
    {
     "name": "stderr",
     "output_type": "stream",
     "text": [
      "100%|██████████| 157/157 [00:07<00:00, 21.82it/s]\n"
     ]
    },
    {
     "name": "stdout",
     "output_type": "stream",
     "text": [
      "Epoch : 128 - loss : 27.8640 - mse: 27.8640 - val_loss : 26.2748 - val_mse: 26.2748\n",
      "\n",
      "Validation loss decreased (26.390728 --> 26.274824).  Saving model ...\n"
     ]
    },
    {
     "name": "stderr",
     "output_type": "stream",
     "text": [
      "100%|██████████| 157/157 [00:06<00:00, 23.32it/s]\n"
     ]
    },
    {
     "name": "stdout",
     "output_type": "stream",
     "text": [
      "Epoch : 129 - loss : 27.7977 - mse: 27.7977 - val_loss : 26.4984 - val_mse: 26.4984\n",
      "\n",
      "EarlyStopping counter: 1 out of 10\n"
     ]
    },
    {
     "name": "stderr",
     "output_type": "stream",
     "text": [
      "100%|██████████| 157/157 [00:06<00:00, 23.51it/s]\n"
     ]
    },
    {
     "name": "stdout",
     "output_type": "stream",
     "text": [
      "Epoch : 130 - loss : 28.3529 - mse: 28.3529 - val_loss : 26.5546 - val_mse: 26.5546\n",
      "\n",
      "EarlyStopping counter: 2 out of 10\n"
     ]
    },
    {
     "name": "stderr",
     "output_type": "stream",
     "text": [
      "100%|██████████| 157/157 [00:06<00:00, 23.29it/s]\n"
     ]
    },
    {
     "name": "stdout",
     "output_type": "stream",
     "text": [
      "Epoch : 131 - loss : 30.3786 - mse: 30.3786 - val_loss : 27.1626 - val_mse: 27.1626\n",
      "\n",
      "EarlyStopping counter: 3 out of 10\n"
     ]
    },
    {
     "name": "stderr",
     "output_type": "stream",
     "text": [
      "100%|██████████| 157/157 [00:06<00:00, 23.47it/s]\n"
     ]
    },
    {
     "name": "stdout",
     "output_type": "stream",
     "text": [
      "Epoch : 132 - loss : 29.1777 - mse: 29.1777 - val_loss : 28.0205 - val_mse: 28.0205\n",
      "\n",
      "EarlyStopping counter: 4 out of 10\n"
     ]
    },
    {
     "name": "stderr",
     "output_type": "stream",
     "text": [
      "100%|██████████| 157/157 [00:06<00:00, 22.61it/s]\n"
     ]
    },
    {
     "name": "stdout",
     "output_type": "stream",
     "text": [
      "Epoch : 133 - loss : 26.6755 - mse: 26.6755 - val_loss : 26.7361 - val_mse: 26.7361\n",
      "\n",
      "EarlyStopping counter: 5 out of 10\n"
     ]
    },
    {
     "name": "stderr",
     "output_type": "stream",
     "text": [
      "100%|██████████| 157/157 [00:06<00:00, 23.49it/s]\n"
     ]
    },
    {
     "name": "stdout",
     "output_type": "stream",
     "text": [
      "Epoch : 134 - loss : 25.7051 - mse: 25.7051 - val_loss : 23.8375 - val_mse: 23.8375\n",
      "\n",
      "Validation loss decreased (26.274824 --> 23.837547).  Saving model ...\n"
     ]
    },
    {
     "name": "stderr",
     "output_type": "stream",
     "text": [
      "100%|██████████| 157/157 [00:06<00:00, 23.50it/s]\n"
     ]
    },
    {
     "name": "stdout",
     "output_type": "stream",
     "text": [
      "Epoch : 135 - loss : 25.8575 - mse: 25.8575 - val_loss : 24.2698 - val_mse: 24.2698\n",
      "\n",
      "EarlyStopping counter: 1 out of 10\n"
     ]
    },
    {
     "name": "stderr",
     "output_type": "stream",
     "text": [
      "100%|██████████| 157/157 [00:06<00:00, 23.21it/s]\n"
     ]
    },
    {
     "name": "stdout",
     "output_type": "stream",
     "text": [
      "Epoch : 136 - loss : 25.5007 - mse: 25.5007 - val_loss : 24.7745 - val_mse: 24.7745\n",
      "\n",
      "EarlyStopping counter: 2 out of 10\n"
     ]
    },
    {
     "name": "stderr",
     "output_type": "stream",
     "text": [
      "100%|██████████| 157/157 [00:06<00:00, 23.32it/s]\n"
     ]
    },
    {
     "name": "stdout",
     "output_type": "stream",
     "text": [
      "Epoch : 137 - loss : 26.5948 - mse: 26.5948 - val_loss : 25.0895 - val_mse: 25.0895\n",
      "\n",
      "EarlyStopping counter: 3 out of 10\n"
     ]
    },
    {
     "name": "stderr",
     "output_type": "stream",
     "text": [
      "100%|██████████| 157/157 [00:06<00:00, 23.31it/s]\n"
     ]
    },
    {
     "name": "stdout",
     "output_type": "stream",
     "text": [
      "Epoch : 138 - loss : 27.2381 - mse: 27.2381 - val_loss : 27.7924 - val_mse: 27.7924\n",
      "\n",
      "EarlyStopping counter: 4 out of 10\n"
     ]
    },
    {
     "name": "stderr",
     "output_type": "stream",
     "text": [
      "100%|██████████| 157/157 [00:07<00:00, 21.98it/s]\n"
     ]
    },
    {
     "name": "stdout",
     "output_type": "stream",
     "text": [
      "Epoch : 139 - loss : 27.6172 - mse: 27.6172 - val_loss : 26.9496 - val_mse: 26.9496\n",
      "\n",
      "EarlyStopping counter: 5 out of 10\n"
     ]
    },
    {
     "name": "stderr",
     "output_type": "stream",
     "text": [
      "100%|██████████| 157/157 [00:06<00:00, 23.60it/s]\n"
     ]
    },
    {
     "name": "stdout",
     "output_type": "stream",
     "text": [
      "Epoch : 140 - loss : 28.6937 - mse: 28.6937 - val_loss : 28.0754 - val_mse: 28.0754\n",
      "\n",
      "EarlyStopping counter: 6 out of 10\n"
     ]
    },
    {
     "name": "stderr",
     "output_type": "stream",
     "text": [
      "100%|██████████| 157/157 [00:07<00:00, 22.21it/s]\n"
     ]
    },
    {
     "name": "stdout",
     "output_type": "stream",
     "text": [
      "Epoch : 141 - loss : 28.2933 - mse: 28.2933 - val_loss : 26.4444 - val_mse: 26.4444\n",
      "\n",
      "EarlyStopping counter: 7 out of 10\n"
     ]
    },
    {
     "name": "stderr",
     "output_type": "stream",
     "text": [
      "100%|██████████| 157/157 [00:06<00:00, 22.94it/s]\n"
     ]
    },
    {
     "name": "stdout",
     "output_type": "stream",
     "text": [
      "Epoch : 142 - loss : 27.5726 - mse: 27.5726 - val_loss : 25.9251 - val_mse: 25.9251\n",
      "\n",
      "EarlyStopping counter: 8 out of 10\n"
     ]
    },
    {
     "name": "stderr",
     "output_type": "stream",
     "text": [
      "100%|██████████| 157/157 [00:07<00:00, 21.22it/s]\n"
     ]
    },
    {
     "name": "stdout",
     "output_type": "stream",
     "text": [
      "Epoch : 143 - loss : 27.5281 - mse: 27.5281 - val_loss : 25.5177 - val_mse: 25.5177\n",
      "\n",
      "EarlyStopping counter: 9 out of 10\n"
     ]
    },
    {
     "name": "stderr",
     "output_type": "stream",
     "text": [
      "100%|██████████| 157/157 [00:06<00:00, 23.12it/s]\n"
     ]
    },
    {
     "name": "stdout",
     "output_type": "stream",
     "text": [
      "Epoch : 144 - loss : 25.6499 - mse: 25.6499 - val_loss : 23.6226 - val_mse: 23.6226\n",
      "\n",
      "Validation loss decreased (23.837547 --> 23.622648).  Saving model ...\n"
     ]
    },
    {
     "name": "stderr",
     "output_type": "stream",
     "text": [
      "100%|██████████| 157/157 [00:07<00:00, 21.79it/s]\n"
     ]
    },
    {
     "name": "stdout",
     "output_type": "stream",
     "text": [
      "Epoch : 145 - loss : 23.7412 - mse: 23.7412 - val_loss : 22.4398 - val_mse: 22.4398\n",
      "\n",
      "Validation loss decreased (23.622648 --> 22.439795).  Saving model ...\n"
     ]
    },
    {
     "name": "stderr",
     "output_type": "stream",
     "text": [
      "100%|██████████| 157/157 [00:06<00:00, 23.10it/s]\n"
     ]
    },
    {
     "name": "stdout",
     "output_type": "stream",
     "text": [
      "Epoch : 146 - loss : 23.4399 - mse: 23.4399 - val_loss : 21.6232 - val_mse: 21.6232\n",
      "\n",
      "Validation loss decreased (22.439795 --> 21.623217).  Saving model ...\n"
     ]
    },
    {
     "name": "stderr",
     "output_type": "stream",
     "text": [
      "100%|██████████| 157/157 [00:07<00:00, 21.48it/s]\n"
     ]
    },
    {
     "name": "stdout",
     "output_type": "stream",
     "text": [
      "Epoch : 147 - loss : 22.8699 - mse: 22.8699 - val_loss : 21.2230 - val_mse: 21.2230\n",
      "\n",
      "Validation loss decreased (21.623217 --> 21.222963).  Saving model ...\n"
     ]
    },
    {
     "name": "stderr",
     "output_type": "stream",
     "text": [
      "100%|██████████| 157/157 [00:06<00:00, 23.11it/s]\n"
     ]
    },
    {
     "name": "stdout",
     "output_type": "stream",
     "text": [
      "Epoch : 148 - loss : 22.6165 - mse: 22.6165 - val_loss : 21.8423 - val_mse: 21.8423\n",
      "\n",
      "EarlyStopping counter: 1 out of 10\n"
     ]
    },
    {
     "name": "stderr",
     "output_type": "stream",
     "text": [
      "100%|██████████| 157/157 [00:06<00:00, 23.20it/s]\n"
     ]
    },
    {
     "name": "stdout",
     "output_type": "stream",
     "text": [
      "Epoch : 149 - loss : 23.1695 - mse: 23.1695 - val_loss : 22.6894 - val_mse: 22.6894\n",
      "\n",
      "EarlyStopping counter: 2 out of 10\n"
     ]
    },
    {
     "name": "stderr",
     "output_type": "stream",
     "text": [
      "100%|██████████| 157/157 [00:06<00:00, 23.59it/s]\n"
     ]
    },
    {
     "name": "stdout",
     "output_type": "stream",
     "text": [
      "Epoch : 150 - loss : 24.9708 - mse: 24.9708 - val_loss : 24.3708 - val_mse: 24.3708\n",
      "\n",
      "EarlyStopping counter: 3 out of 10\n"
     ]
    },
    {
     "name": "stderr",
     "output_type": "stream",
     "text": [
      "100%|██████████| 157/157 [00:06<00:00, 22.75it/s]\n"
     ]
    },
    {
     "name": "stdout",
     "output_type": "stream",
     "text": [
      "Epoch : 151 - loss : 26.0234 - mse: 26.0234 - val_loss : 24.9444 - val_mse: 24.9444\n",
      "\n",
      "EarlyStopping counter: 4 out of 10\n"
     ]
    },
    {
     "name": "stderr",
     "output_type": "stream",
     "text": [
      "100%|██████████| 157/157 [00:06<00:00, 23.06it/s]\n"
     ]
    },
    {
     "name": "stdout",
     "output_type": "stream",
     "text": [
      "Epoch : 152 - loss : 26.8830 - mse: 26.8830 - val_loss : 28.0037 - val_mse: 28.0037\n",
      "\n",
      "EarlyStopping counter: 5 out of 10\n"
     ]
    },
    {
     "name": "stderr",
     "output_type": "stream",
     "text": [
      "100%|██████████| 157/157 [00:06<00:00, 22.79it/s]\n"
     ]
    },
    {
     "name": "stdout",
     "output_type": "stream",
     "text": [
      "Epoch : 153 - loss : 26.7584 - mse: 26.7584 - val_loss : 24.4699 - val_mse: 24.4699\n",
      "\n",
      "EarlyStopping counter: 6 out of 10\n"
     ]
    },
    {
     "name": "stderr",
     "output_type": "stream",
     "text": [
      "100%|██████████| 157/157 [00:06<00:00, 22.76it/s]\n"
     ]
    },
    {
     "name": "stdout",
     "output_type": "stream",
     "text": [
      "Epoch : 154 - loss : 25.8295 - mse: 25.8295 - val_loss : 24.5025 - val_mse: 24.5025\n",
      "\n",
      "EarlyStopping counter: 7 out of 10\n"
     ]
    },
    {
     "name": "stderr",
     "output_type": "stream",
     "text": [
      "100%|██████████| 157/157 [00:06<00:00, 22.92it/s]\n"
     ]
    },
    {
     "name": "stdout",
     "output_type": "stream",
     "text": [
      "Epoch : 155 - loss : 24.1735 - mse: 24.1735 - val_loss : 22.1746 - val_mse: 22.1746\n",
      "\n",
      "EarlyStopping counter: 8 out of 10\n"
     ]
    },
    {
     "name": "stderr",
     "output_type": "stream",
     "text": [
      "100%|██████████| 157/157 [00:07<00:00, 22.28it/s]\n"
     ]
    },
    {
     "name": "stdout",
     "output_type": "stream",
     "text": [
      "Epoch : 156 - loss : 23.3515 - mse: 23.3515 - val_loss : 20.7857 - val_mse: 20.7857\n",
      "\n",
      "Validation loss decreased (21.222963 --> 20.785706).  Saving model ...\n"
     ]
    },
    {
     "name": "stderr",
     "output_type": "stream",
     "text": [
      "100%|██████████| 157/157 [00:06<00:00, 22.44it/s]\n"
     ]
    },
    {
     "name": "stdout",
     "output_type": "stream",
     "text": [
      "Epoch : 157 - loss : 22.9744 - mse: 22.9744 - val_loss : 20.5880 - val_mse: 20.5880\n",
      "\n",
      "Validation loss decreased (20.785706 --> 20.588003).  Saving model ...\n"
     ]
    },
    {
     "name": "stderr",
     "output_type": "stream",
     "text": [
      "100%|██████████| 157/157 [00:07<00:00, 21.45it/s]\n"
     ]
    },
    {
     "name": "stdout",
     "output_type": "stream",
     "text": [
      "Epoch : 158 - loss : 22.3953 - mse: 22.3953 - val_loss : 21.7337 - val_mse: 21.7337\n",
      "\n",
      "EarlyStopping counter: 1 out of 10\n"
     ]
    },
    {
     "name": "stderr",
     "output_type": "stream",
     "text": [
      "100%|██████████| 157/157 [00:06<00:00, 23.12it/s]\n"
     ]
    },
    {
     "name": "stdout",
     "output_type": "stream",
     "text": [
      "Epoch : 159 - loss : 22.0448 - mse: 22.0448 - val_loss : 20.6385 - val_mse: 20.6385\n",
      "\n",
      "EarlyStopping counter: 2 out of 10\n"
     ]
    },
    {
     "name": "stderr",
     "output_type": "stream",
     "text": [
      "100%|██████████| 157/157 [00:07<00:00, 22.21it/s]\n"
     ]
    },
    {
     "name": "stdout",
     "output_type": "stream",
     "text": [
      "Epoch : 160 - loss : 22.9625 - mse: 22.9625 - val_loss : 21.7579 - val_mse: 21.7579\n",
      "\n",
      "EarlyStopping counter: 3 out of 10\n"
     ]
    },
    {
     "name": "stderr",
     "output_type": "stream",
     "text": [
      "100%|██████████| 157/157 [00:06<00:00, 22.45it/s]\n"
     ]
    },
    {
     "name": "stdout",
     "output_type": "stream",
     "text": [
      "Epoch : 161 - loss : 23.1509 - mse: 23.1509 - val_loss : 21.9349 - val_mse: 21.9349\n",
      "\n",
      "EarlyStopping counter: 4 out of 10\n"
     ]
    },
    {
     "name": "stderr",
     "output_type": "stream",
     "text": [
      "100%|██████████| 157/157 [00:07<00:00, 21.33it/s]\n"
     ]
    },
    {
     "name": "stdout",
     "output_type": "stream",
     "text": [
      "Epoch : 162 - loss : 22.9964 - mse: 22.9964 - val_loss : 21.2859 - val_mse: 21.2859\n",
      "\n",
      "EarlyStopping counter: 5 out of 10\n"
     ]
    },
    {
     "name": "stderr",
     "output_type": "stream",
     "text": [
      "100%|██████████| 157/157 [00:06<00:00, 22.72it/s]\n"
     ]
    },
    {
     "name": "stdout",
     "output_type": "stream",
     "text": [
      "Epoch : 163 - loss : 23.2989 - mse: 23.2989 - val_loss : 23.1131 - val_mse: 23.1131\n",
      "\n",
      "EarlyStopping counter: 6 out of 10\n"
     ]
    },
    {
     "name": "stderr",
     "output_type": "stream",
     "text": [
      "100%|██████████| 157/157 [00:08<00:00, 19.10it/s]\n"
     ]
    },
    {
     "name": "stdout",
     "output_type": "stream",
     "text": [
      "Epoch : 164 - loss : 22.7585 - mse: 22.7585 - val_loss : 21.4514 - val_mse: 21.4514\n",
      "\n",
      "EarlyStopping counter: 7 out of 10\n"
     ]
    },
    {
     "name": "stderr",
     "output_type": "stream",
     "text": [
      "100%|██████████| 157/157 [00:06<00:00, 23.17it/s]\n"
     ]
    },
    {
     "name": "stdout",
     "output_type": "stream",
     "text": [
      "Epoch : 165 - loss : 22.0126 - mse: 22.0126 - val_loss : 21.1118 - val_mse: 21.1118\n",
      "\n",
      "EarlyStopping counter: 8 out of 10\n"
     ]
    },
    {
     "name": "stderr",
     "output_type": "stream",
     "text": [
      "100%|██████████| 157/157 [00:06<00:00, 23.51it/s]\n"
     ]
    },
    {
     "name": "stdout",
     "output_type": "stream",
     "text": [
      "Epoch : 166 - loss : 21.4642 - mse: 21.4642 - val_loss : 21.3997 - val_mse: 21.3997\n",
      "\n",
      "EarlyStopping counter: 9 out of 10\n"
     ]
    },
    {
     "name": "stderr",
     "output_type": "stream",
     "text": [
      "100%|██████████| 157/157 [00:06<00:00, 22.98it/s]\n"
     ]
    },
    {
     "name": "stdout",
     "output_type": "stream",
     "text": [
      "Epoch : 167 - loss : 21.5107 - mse: 21.5107 - val_loss : 21.2046 - val_mse: 21.2046\n",
      "\n",
      "EarlyStopping counter: 10 out of 10\n",
      "Early stopping\n"
     ]
    }
   ],
   "source": [
    "import torch.nn as nn\n",
    "import torch.optim as optim\n",
    "from torch.optim.lr_scheduler import StepLR\n",
    "from torch.utils.tensorboard import SummaryWriter\n",
    "from pytorchtools import EarlyStopping\n",
    "\n",
    "\n",
    "\n",
    "#乱数固定\n",
    "torch.manual_seed(1234)\n",
    "np.random.seed(1234)\n",
    "\n",
    "epochs = 500\n",
    "lr = 1e-3\n",
    "gamma = 0.9\n",
    "\n",
    "early_stopping = EarlyStopping(patience=10, verbose=True)\n",
    "\n",
    "\n",
    "##ここを追記↓##\n",
    "train_mse_list = []\n",
    "val_mse_list = []\n",
    "train_loss_list = []\n",
    "val_loss_list = []\n",
    "\n",
    "# epoch_loss = []\n",
    "# epoch_accuracy = []\n",
    "##############\n",
    "\n",
    "#回帰用損失関数\n",
    "criterion = nn.MSELoss()\n",
    "optimizer =optim.Adam(net.parameters(), lr=lr)\n",
    "scheduler = StepLR(optimizer, step_size=1, gamma=gamma)\n",
    "\n",
    "writer = SummaryWriter(log_dir=\"log\")\n",
    "\n",
    "\n",
    "for epoch in range(epochs):\n",
    "    epoch_loss = 0\n",
    "    epoch_mse = 0\n",
    "\n",
    "    for data, label in tqdm(train_loader):\n",
    "        data = data.to(device)\n",
    "        label = label.to(device)\n",
    "\n",
    "        # print(type(label))\n",
    "\n",
    "        output = net(data)\n",
    "        # print(output)\n",
    "\n",
    "        # print(type(output))\n",
    "\n",
    "        loss = criterion(output, label)\n",
    "        \n",
    "        optimizer.zero_grad()\n",
    "        loss.backward()\n",
    "        optimizer.step()\n",
    "\n",
    "#推定値と正解値の平均二乗誤差を計算する\n",
    "        mse = torch.mean(torch.square(output - label))\n",
    "        epoch_mse += mse / len(train_loader)\n",
    "        epoch_loss += loss / len(train_loader)\n",
    "        \n",
    "        # logの記録\n",
    "        writer.add_scalar(\"loss\", epoch_loss , epoch)\n",
    "        writer.add_scalar(\"mse\", epoch_mse, epoch)     \n",
    "        writer.add_scalar(\"lr\", scheduler.get_lr()[0], epoch)   \n",
    "\n",
    "    with torch.no_grad():\n",
    "        epoch_val_mse = 0\n",
    "        epoch_val_loss = 0\n",
    "        for data, label in valid_loader:\n",
    "            data = data.to(device)\n",
    "            label = label.to(device)\n",
    "\n",
    "            val_output = net(data)\n",
    "            # print(val_output)\n",
    "            val_loss = criterion(val_output, label)\n",
    "                \n",
    "            mse = torch.mean(torch.square(val_output - label))\n",
    "            epoch_val_mse += mse / len(valid_loader)\n",
    "            epoch_val_loss += val_loss / len(valid_loader)\n",
    "            \n",
    "                    # logの記録\n",
    "            writer.add_scalar(\"val_loss\", epoch_val_mse , epoch)\n",
    "            writer.add_scalar(\"val_mse\", epoch_val_mse, epoch)     \n",
    "            writer.add_scalar(\"lr\", scheduler.get_lr()[0], epoch)   \n",
    "            \n",
    "    print(\n",
    "        f\"Epoch : {epoch+1} - loss : {epoch_loss:.4f} - mse: {epoch_mse:.4f} - val_loss : {epoch_val_loss:.4f} - val_mse: {epoch_val_mse:.4f}\\n\"\n",
    "    )\n",
    "\n",
    "    ##ここを追記↓##\n",
    "    train_mse_list.append(epoch_mse)\n",
    "    val_mse_list.append(epoch_val_mse)\n",
    "    train_loss_list.append(epoch_loss)\n",
    "    val_loss_list.append(epoch_val_loss)\n",
    "        \n",
    "    early_stopping(epoch_val_loss, net)\n",
    "\n",
    "    if early_stopping.early_stop:\n",
    "        print(\"Early stopping\")\n",
    "        stop_epoch = epoch\n",
    "        break\n",
    "    \n",
    "    ##############"
   ],
   "metadata": {
    "collapsed": false,
    "ExecuteTime": {
     "end_time": "2023-12-21T12:07:06.253998783Z",
     "start_time": "2023-12-21T11:42:41.970162547Z"
    }
   },
   "id": "e5f0889cae18ff90"
  },
  {
   "cell_type": "code",
   "execution_count": 25,
   "outputs": [],
   "source": [
    "save_flag = 0\n",
    "if save_flag == 1:\n",
    "    model_scripted = torch.jit.script(net)\n",
    "    model_scripted.save(\"model_weight_kalmancnn.pth\")\n",
    "    # torch.save(net, 'model_weight_kalmancnn.pth')\n",
    "    print('save model')"
   ],
   "metadata": {
    "collapsed": false,
    "ExecuteTime": {
     "end_time": "2023-12-21T12:07:06.262075928Z",
     "start_time": "2023-12-21T12:07:06.258869586Z"
    }
   },
   "id": "42d61d364fe825a3"
  },
  {
   "cell_type": "code",
   "execution_count": 26,
   "id": "453651321d5b773d",
   "metadata": {
    "collapsed": false,
    "ExecuteTime": {
     "end_time": "2023-12-21T12:07:06.737459566Z",
     "start_time": "2023-12-21T12:07:06.277917382Z"
    }
   },
   "outputs": [
    {
     "data": {
      "text/plain": "<Figure size 960x320 with 3 Axes>",
      "image/png": "[encoded data removed]"
     },
     "metadata": {},
     "output_type": "display_data"
    },
    {
     "name": "stdout",
     "output_type": "stream",
     "text": [
      "train mse 21.464153\n",
      "val mse 21.399698\n"
     ]
    }
   ],
   "source": [
    "\n",
    "import seaborn as sns\n",
    "\n",
    "load_flag = 0\n",
    "if load_flag == 1:\n",
    "    net=torch.jit.load('model_weight_kalmancnn.pth', map_location=\"cpu\")\n",
    "    print('load model')\n",
    "elif load_flag == 0:    \n",
    "    device2 = torch.device('cpu')\n",
    "\n",
    "train_mse = []\n",
    "train_loss = []\n",
    "val_mse = []\n",
    "val_loss = []\n",
    "\n",
    "for i in range(stop_epoch):\n",
    "    train_mse2 = train_mse_list[i].to(device2)\n",
    "    train_mse3 = train_mse2.clone().detach().numpy()\n",
    "    train_mse.append(train_mse3)\n",
    "    \n",
    "    train_loss2 = train_loss_list[i].to(device2)\n",
    "    train_loss3 = train_loss2.clone().detach().numpy()\n",
    "    train_loss.append(train_loss3)\n",
    "    \n",
    "    val_mse2 = val_mse_list[i].to(device2)\n",
    "    val_mse3 = val_mse2.clone().detach().numpy()\n",
    "    val_mse.append(val_mse3)\n",
    "    \n",
    "    val_loss2 = val_loss_list[i].to(device2)\n",
    "    val_loss3 = val_loss2.clone().detach().numpy()\n",
    "    val_loss.append(val_loss3)\n",
    "\n",
    "#取得したデータをグラフ化する\n",
    "sns.set()\n",
    "num_epochs = stop_epoch\n",
    "\n",
    "fig = plt.subplots(figsize=(12, 4), dpi=80)\n",
    "plt.tick_params(labelbottom=False, labelleft=False, labelright=False, labeltop=False)\n",
    "# plt.tight_layout()\n",
    "\n",
    "\n",
    "ax1 = plt.subplot(1,2,1,)\n",
    "\n",
    "plt.xlim(0, num_epochs)\n",
    "ax1.plot(range(num_epochs), train_mse, c='b', label='train mse')\n",
    "ax1.plot(range(num_epochs), val_mse, c='r', label='val mse')\n",
    "ax1.set_xlabel('epoch', fontsize='12')\n",
    "ax1.set_ylabel('mse', fontsize='12')\n",
    "ax1.set_title('training and val mse', fontsize='14')\n",
    "ax1.legend(fontsize='12')\n",
    "\n",
    "ax2 = plt.subplot(1,2,2)\n",
    "plt.xlim(0, num_epochs)\n",
    "ax2.plot(range(num_epochs), train_loss, c='b', label='train loss')\n",
    "ax2.plot(range(num_epochs), val_loss, c='r', label='val loss')\n",
    "ax2.set_xlabel('epoch', fontsize='12')\n",
    "ax2.set_ylabel('loss', fontsize='12')\n",
    "ax2.set_title('training and val loss', fontsize='14')\n",
    "ax2.legend(fontsize='12')\n",
    "plt.show()\n",
    "\n",
    "print('train mse', train_mse[-1])\n",
    "print('val mse', val_mse[-1])"
   ]
  },
  {
   "cell_type": "code",
   "execution_count": 27,
   "id": "9ea560616dfbaf8c",
   "metadata": {
    "collapsed": false,
    "ExecuteTime": {
     "end_time": "2023-12-21T12:07:08.084728281Z",
     "start_time": "2023-12-21T12:07:06.735162439Z"
    }
   },
   "outputs": [
    {
     "name": "stdout",
     "output_type": "stream",
     "text": [
      "test mse 21.126078\n"
     ]
    }
   ],
   "source": [
    "# import seaborn as sns\n",
    "import torch\n",
    "import torch.nn.functional as F\n",
    "\n",
    "device2 = torch.device('cpu')\n",
    "\n",
    "# net=torch.load('model_weight_kalmancnn.pth')\n",
    "# model = Net()\n",
    "# model.load_state_dict(torch.load('model_weight.pth'))\n",
    "#テストデータをpredict\n",
    "with torch.no_grad():\n",
    "    test_mse = 0\n",
    "    test_loss = 0\n",
    "    for data, label in test_loader:\n",
    "        data = data.to(device)\n",
    "        label = label.to(device)\n",
    "\n",
    "        test_output = net(data)\n",
    "        test_loss = criterion(test_output, label)\n",
    "\n",
    "        mse = torch.mean(torch.square(test_output - label))\n",
    "        test_mse += mse / len(test_loader)\n",
    "        test_loss += test_loss / len(test_loader)\n",
    "        \n",
    "test_mse2 = test_mse.to(device2)\n",
    "test_mse3 = test_mse2.clone().detach().numpy()\n",
    "print('test mse', test_mse3)\n",
    "\n"
   ]
  },
  {
   "cell_type": "code",
   "execution_count": 28,
   "id": "4ce3d1ecf6f3f736",
   "metadata": {
    "collapsed": false,
    "ExecuteTime": {
     "end_time": "2023-12-21T12:07:08.233266470Z",
     "start_time": "2023-12-21T12:07:08.087798899Z"
    }
   },
   "outputs": [
    {
     "data": {
      "text/plain": "<Figure size 960x320 with 1 Axes>",
      "image/png": "[encoded data removed]"
     },
     "metadata": {},
     "output_type": "display_data"
    }
   ],
   "source": [
    "#テストデータの推定値と正解値を縦軸：値、横軸：要素数でプロットする\n",
    "\n",
    "#テストデータの推定値と正解値を取得する\n",
    "test_output2 = test_output.to(device2)\n",
    "test_output3 = test_output2.clone().detach().numpy()\n",
    "label2 = label.to(device2)\n",
    "label3 = label2.clone().detach().numpy()\n",
    "\n",
    "#テストデータの推定値と正解値を一つのグラフにプロットする（subplotsは使わない）\n",
    "plt.figure(figsize=(12, 4), dpi=80)\n",
    "plt.tick_params(labelbottom=True, labelleft=True, labelright=False, labeltop=False)\n",
    "plt.tight_layout()\n",
    "\n",
    "plt.plot(test_output3, c='b', label='predict')\n",
    "plt.plot(label3, c='r', label='label')\n",
    "plt.xlabel('sample', fontsize='12')\n",
    "plt.ylabel('value', fontsize='12')\n",
    "plt.title('predict and label', fontsize='14')\n",
    "plt.legend(fontsize='12')\n",
    "plt.show()\n"
   ]
  },
  {
   "cell_type": "code",
   "execution_count": 29,
   "id": "632a2736b5294024",
   "metadata": {
    "collapsed": false,
    "ExecuteTime": {
     "end_time": "2023-12-21T12:07:08.340028422Z",
     "start_time": "2023-12-21T12:07:08.236426154Z"
    }
   },
   "outputs": [
    {
     "name": "stdout",
     "output_type": "stream",
     "text": [
      "mse 12.134953\n"
     ]
    },
    {
     "data": {
      "text/plain": "<Figure size 960x320 with 1 Axes>",
      "image/png": "[encoded data removed]"
     },
     "metadata": {},
     "output_type": "display_data"
    }
   ],
   "source": [
    "#推定値の絶対誤差を横軸、縦軸をCDFのグラフをプロットする\n",
    "#推定値の絶対誤差を取得する\n",
    "test_output4 = test_output3.flatten()\n",
    "label4 = label3.flatten()\n",
    "error = np.abs(test_output4 - label4)\n",
    "\n",
    "mse=np.mean(np.square(test_output4[:]- label4))\n",
    "print(\"mse\",mse)\n",
    "\n",
    "#推定値の絶対誤差を昇順に並び替える\n",
    "error_sorted = np.sort(error)\n",
    "\n",
    "#CDFを計算する\n",
    "cdf = np.arange(len(error_sorted))/float(len(error_sorted))\n",
    "\n",
    "#推定値の絶対誤差とCDFをプロットする\n",
    "plt.figure(figsize=(12, 4), dpi=80)\n",
    "plt.tick_params(labelbottom=True, labelleft=True, labelright=False, labeltop=False)\n",
    "# plt.tight_layout()\n",
    "\n",
    "plt.plot(error_sorted, cdf)\n",
    "plt.xlabel('error', fontsize='12')\n",
    "plt.ylabel('CDF', fontsize='12')\n",
    "plt.title('CDF of error', fontsize='14')\n",
    "plt.show()\n",
    "\n"
   ]
  },
  {
   "cell_type": "code",
   "execution_count": 30,
   "id": "69c13329aae09bbd",
   "metadata": {
    "collapsed": false,
    "ExecuteTime": {
     "end_time": "2023-12-21T12:07:08.437965176Z",
     "start_time": "2023-12-21T12:07:08.346973745Z"
    }
   },
   "outputs": [
    {
     "name": "stdout",
     "output_type": "stream",
     "text": [
      "F [[ 3. -3.  1.]\n",
      " [ 1.  0.  0.]\n",
      " [ 0.  1.  0.]] \n",
      " H [[1. 0. 0.]] \n",
      " Q [[1.e-06 0.e+00 0.e+00]\n",
      " [0.e+00 0.e+00 0.e+00]\n",
      " [0.e+00 0.e+00 0.e+00]]\n",
      "test_output3  (64, 2)\n",
      "filtered_state_means shape  (2, 64, 1)\n",
      "(64, 2)\n",
      "(64, 2)\n",
      "(2, 64, 1)\n"
     ]
    }
   ],
   "source": [
    "#テストデータの推定結果にカルマンフィルターを適用して平滑化する。\n",
    "#カルマンフィルターの実装はpykalmanを使用する\n",
    "#推定結果の絶対誤差を横軸、縦軸をCDFのグラフをプロットする\n",
    "import pykalman\n",
    "# 推移行列などの初期化\n",
    "def FGHset(n_dim_trend, n_dim_obs=1, n_dim_series=0, Q_sigma2=0.000001):\n",
    "    n_dim_Q = (n_dim_trend!=0) + (n_dim_series!=0)\n",
    "    if n_dim_series>0:\n",
    "        n_dim_state = n_dim_trend + n_dim_series - 1\n",
    "    else:\n",
    "        n_dim_state = n_dim_trend\n",
    "\n",
    "    # 行列の初期化\n",
    "    G = np.zeros((n_dim_state, n_dim_Q))\n",
    "    F = np.zeros((n_dim_state, n_dim_state))\n",
    "    H = np.zeros((n_dim_obs, n_dim_state))\n",
    "    Q = np.eye(n_dim_Q) * Q_sigma2\n",
    "\n",
    "    # 各行列のトレンド成分に対するブロック行列を構築\n",
    "    G[0,0] = 1\n",
    "    H[0,0] = 1\n",
    "\n",
    "    # トレンドモデルの推移行列の構築\n",
    "    # 非定常過程でも対応できる推移行列を構築\n",
    "    if n_dim_trend==1:\n",
    "        F[0,0] = 1\n",
    "    elif n_dim_trend==2:\n",
    "        F[0,0] = 2\n",
    "        F[0,1] = -1\n",
    "        F[1,0] = 1\n",
    "    elif n_dim_trend==3:\n",
    "        F[0,0] = 3\n",
    "        F[0,1] = -3\n",
    "        F[0,2] = 1\n",
    "        F[1,0] = 1\n",
    "        F[2,1] = 1\n",
    "\n",
    "    # PyKalmanのQはG.dot(Q).dot(G.T)を想定しているためQをupdate\n",
    "    Q = G.dot(Q).dot(G.T)\n",
    "\n",
    "    return n_dim_state, F, H, Q\n",
    "# 観測値の次元数\n",
    "n_dim_obs = 1\n",
    "# トレンドの次元数\n",
    "n_dim_trend = 3\n",
    "\n",
    "# 推移行列などの定義\n",
    "n_dim_state, F, H, Q = FGHset(n_dim_trend, n_dim_obs)\n",
    "# 状態の平均値ベクトルの初期値\n",
    "initial_state_mean = np.zeros(n_dim_state)\n",
    "# 状態の分散共分散行列の初期値\n",
    "initial_state_covariance = np.ones((n_dim_state, n_dim_state))\n",
    "\n",
    "print(\"F\",F,\"\\n\",\"H\",H,\"\\n\",\"Q\",Q)\n",
    "\n",
    "# カルマンフィルタのモデル生成\n",
    "kf = pykalman.KalmanFilter(\n",
    "    # l：観測値の次元数\n",
    "    n_dim_obs=n_dim_obs,\n",
    "    # k：状態の次元数\n",
    "    n_dim_state=n_dim_state,\n",
    "    # x_0：状態の平均値ベクトルの初期値（k次元）\n",
    "    initial_state_mean=initial_state_mean,\n",
    "    # V_0：状態の分散共分散行列の初期値（k×k次元）\n",
    "    initial_state_covariance=initial_state_covariance,\n",
    "    # F：推移行列（k×k次元）\n",
    "    transition_matrices=F,\n",
    "    # H：観測行列（l×k次元）\n",
    "    observation_matrices=H,\n",
    "    # R：観測ノイズwの分散共分散行列（l×l次元。観測値が一次元の場合はスカラ）\n",
    "    observation_covariance=1,\n",
    "    # Q：システムノイズvの分散共分散行列（m×m次元）\n",
    "    transition_covariance=Q)\n",
    "\n",
    "print(\"test_output3 \",test_output3.shape)\n",
    "\n",
    "#推定結果にカルマンフィルターを適用して平滑化することで新たな推定値を得る\n",
    "#for文を使って一つのシーケンスずつ適用する\n",
    "filtered_state_means = []\n",
    "for i in range(test_output3.shape[1]):\n",
    "    # iltered_state_means.append(kf.filter([row[i] for row in test_output3])[0])\n",
    "    # filtered_state_means.append((kf.smooth([row[i] for row in test_output3])[0]))\n",
    "    # filtered_state_means.append((kf.smooth([row[i] for row in test_output3])[0]).dot(H.T))\n",
    "    filtered_state_means.append((kf.smooth(test_output3.T[i])[0]).dot(H.T))\n",
    "\n",
    "filtered_state_means = np.array(filtered_state_means)\n",
    "print(\"filtered_state_means shape \",filtered_state_means.shape)\n",
    "\n",
    "# filtered_state_means=filtered_state_means.reshape(filtered_state_means.shape[1],filtered_state_means.shape[2])\n",
    "# filtered_state_means=filtered_state_means.reshape(filtered_state_means.shape[1],filtered_state_means.shape[0])\n",
    "print(test_output3.shape)\n",
    "print(label3.shape)\n",
    "print(filtered_state_means.shape)\n",
    "\n",
    "# ovsevation_means_predicted = filtered_state_means[:,0].dot(observation_covariance.T)\n",
    "# ovsevation_means_predicted = filtered_state_means[:,1].dot(observation_covariance.T)\n",
    "\n"
   ]
  },
  {
   "cell_type": "code",
   "execution_count": 31,
   "metadata": {
    "ExecuteTime": {
     "end_time": "2023-12-21T12:07:08.897263980Z",
     "start_time": "2023-12-21T12:07:08.437859828Z"
    }
   },
   "outputs": [
    {
     "name": "stdout",
     "output_type": "stream",
     "text": [
      "mse 1.668369554014114\n",
      "(64,)\n"
     ]
    },
    {
     "data": {
      "text/plain": "<Figure size 960x320 with 1 Axes>",
      "image/png": "[encoded data removed]"
     },
     "metadata": {},
     "output_type": "display_data"
    },
    {
     "data": {
      "text/plain": "<Figure size 640x480 with 1 Axes>",
      "image/png": "[encoded data removed]"
     },
     "metadata": {},
     "output_type": "display_data"
    }
   ],
   "source": [
    "#推定結果の絶対誤差ではなく、MAE Errorを[0:10]として定義したものを横軸とし、縦軸を推定誤差のCDFとする\n",
    "#推定結果の絶対誤差を計算する\n",
    "test_output4 = filtered_state_means.squeeze()\n",
    "label4 = label3.T\n",
    "error = np.abs(test_output4[:]- label4)\n",
    "error = error.mean(axis=0)\n",
    "\n",
    "mse=np.mean(np.square(test_output4[:]- label4))\n",
    "print(\"mse\",mse)\n",
    "\n",
    "print(error.shape)\n",
    "#横軸をMAE Errorを[0:10]として定義する\n",
    "mae_error = np.arange(0,10,0.01)\n",
    "\n",
    "\n",
    "#推定誤差のCDFをライブラリを使って計算する\n",
    "from statsmodels.distributions.empirical_distribution import ECDF\n",
    "ecdf = ECDF(error)\n",
    "\n",
    "\n",
    "#CDFをplotする\n",
    "plt.figure(figsize=(12, 4), dpi=80)\n",
    "plt.tick_params(labelbottom=True, labelleft=True, labelright=False, labeltop=False)\n",
    "# plt.tight_layout()\n",
    "\n",
    "plt.plot(mae_error, ecdf(mae_error))\n",
    "plt.xlabel('MAE Error', fontsize='12')\n",
    "plt.ylabel('CDF', fontsize='12')\n",
    "plt.title('CDF of MAE Error', fontsize='14')\n",
    "plt.show()\n",
    "\n",
    "\n",
    "#推定結果をプロットする\n",
    "# plt.figure(figsize=(12, 4), dpi=80)\n",
    "plt.tick_params(labelbottom=True, labelleft=True, labelright=False, labeltop=False)\n",
    "# plt.tight_layout()\n",
    "\n",
    "plt.plot(test_output3, c='b', label='predict')\n",
    "plt.plot(filtered_state_means[0][:][:], c='r', label='filtered')\n",
    "plt.plot(filtered_state_means[1][:][:], c='r', label='filtered')\n",
    "plt.plot(label3, c='g', label='label')\n",
    "plt.xlabel('sample', fontsize='12')\n",
    "plt.ylabel('value', fontsize='12')\n",
    "plt.title('predict and filtered and label', fontsize='14')\n",
    "plt.legend(fontsize='12')\n",
    "plt.show()\n"
   ],
   "id": "c228232f43f173bf"
  },
  {
   "cell_type": "code",
   "execution_count": 31,
   "outputs": [],
   "source": [],
   "metadata": {
    "collapsed": false,
    "ExecuteTime": {
     "end_time": "2023-12-21T12:07:08.898901Z",
     "start_time": "2023-12-21T12:07:08.897433849Z"
    }
   },
   "id": "5954f08495b1dda3"
  },
  {
   "cell_type": "code",
   "execution_count": 31,
   "outputs": [],
   "source": [],
   "metadata": {
    "collapsed": false,
    "ExecuteTime": {
     "end_time": "2023-12-21T12:07:08.903339242Z",
     "start_time": "2023-12-21T12:07:08.898938230Z"
    }
   },
   "id": "af22e81655c0e01b"
  }
 ],
 "metadata": {
  "kernelspec": {
   "display_name": "Python 3",
   "language": "python",
   "name": "python3"
  },
  "language_info": {
   "codemirror_mode": {
    "name": "ipython",
    "version": 3
   },
   "file_extension": ".py",
   "mimetype": "text/x-python",
   "name": "python",
   "nbconvert_exporter": "python",
   "pygments_lexer": "ipython3",
   "version": "3.9.16"
  }
 },
 "nbformat": 4,
 "nbformat_minor": 5
}
