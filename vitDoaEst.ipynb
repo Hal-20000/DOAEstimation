{
 "cells": [
  {
   "cell_type": "code",
   "execution_count": 9,
   "outputs": [
    {
     "name": "stdout",
     "output_type": "stream",
     "text": [
      "(10, 10, 1000)\n",
      "(1000, 101)\n",
      "(1000, 2)\n",
      "(10, 10, 10000)\n",
      "(10000, 2)\n"
     ]
    }
   ],
   "source": [
    " #GPUを用いて、pytorchを使ったViTモデルを作成する\n",
    "import pandas as pd\n",
    "# import tensorflow as tf\n",
    "import numpy as np\n",
    "import japanize_matplotlib\n",
    "import matplotlib.pyplot as plt\n",
    "import scipy.io\n",
    "from tqdm import tqdm \n",
    "import torch\n",
    "\n",
    "#データの読み込み\n",
    "mat_file = 'mat/60_sin_1period_bpsk_2signal.mat'\n",
    "data = scipy.io.loadmat(mat_file)\n",
    "\n",
    "#matファイルの中身の変数名を確認する\n",
    "\n",
    "data.keys()\n",
    "a = data['R_xx']\n",
    "# a = data['R_xx_exist_Noise']\n",
    "b = data['inputVec']\n",
    "c = data['label']\n",
    "\n",
    "sigmax2=data['sigmaX2']\n",
    "\n",
    "t=data['t']\n",
    "# print(t)\n",
    "#matに保存した変数の呼び出し\n",
    "#a,b,cの次元数を確認する\n",
    "print(a.shape)\n",
    "print(b.shape)\n",
    "print(c.shape)\n",
    "\n",
    "#共分散行列\n",
    "R = a\n",
    "label=c\n",
    "\n",
    "loop=10\n",
    "\n",
    "for i in range(loop-1):\n",
    "    R=np.concatenate((R,a),axis=2)\n",
    "    label=np.concatenate((label,c),axis=0)\n",
    "\n",
    "print(R.shape)\n",
    "print(label.shape)"
   ],
   "metadata": {
    "collapsed": false,
    "ExecuteTime": {
     "end_time": "2023-11-02T00:28:17.862580836Z",
     "start_time": "2023-11-02T00:28:17.423177546Z"
    }
   },
   "id": "b9e3266909779360"
  },
  {
   "cell_type": "code",
   "execution_count": 10,
   "outputs": [
    {
     "name": "stdout",
     "output_type": "stream",
     "text": [
      "(10, 10, 10000)\n",
      "(10, 10, 10000)\n",
      "(10, 10, 10000, 2)\n",
      "(10, 10, 10000, 2)\n",
      "(10000, 10, 10, 2)\n",
      "(8000, 10, 10, 2)\n",
      "(1000, 10, 10, 2)\n",
      "(1000, 10, 10, 2)\n",
      "(8000, 2)\n",
      "(1000, 2)\n",
      "(1000, 2)\n",
      "----------------\n",
      "(8000, 2, 10, 10)\n",
      "(1000, 2, 10, 10)\n",
      "(1000, 2, 10, 10)\n",
      "(8000, 2)\n",
      "(1000, 2)\n",
      "(1000, 2)\n"
     ]
    }
   ],
   "source": [
    "# #入力信号の電力\n",
    "# sigmax2=d\n",
    "# #スナップショット数\n",
    "# t=e\n",
    "\n",
    "#実数部と虚数部(虚数単位jは外す)に分ける関数\n",
    "def split_complex(x):\n",
    "    real = np.real(x)\n",
    "    imag = np.imag(x)\n",
    "    return real, imag\n",
    "\n",
    "\n",
    "#実数部と虚数部に分ける\n",
    "real, imag = split_complex(R)\n",
    "\n",
    "#実数部と虚数部の次元数を確認する\n",
    "print(real.shape)\n",
    "print(imag.shape)\n",
    "\n",
    "#実数部と虚数部を結合し、四次元配列に変換する\n",
    "R = np.stack([real, imag], axis=3)\n",
    "\n",
    "#Rの次元数を確認する\n",
    "print(R.shape)\n",
    "\n",
    "#Rはx(t)=As(t)+n(t)という信号モデルの共分散行列(Rはx(t)の複素共役転置の期待値)である（Aは方向行列、s(t)は入力信号、n(t)はガウス雑音）\n",
    "#Rには、本来Aとs(t)とn(t)の情報が含まれているが、今回はn(t)を含まない\n",
    "#Rにn(t)を乗せる処理を書く\n",
    "\n",
    "#SNRを定義する\n",
    "SNR=np.empty((1,1))\n",
    "np.append(SNR,30)\n",
    "\n",
    "#送信電力とSNRから雑音電力を求める\n",
    "#送信電力は、sigmaX2である\n",
    "#雑音電力は、sigmaN2である\n",
    "def calculate_noise_covariance(sigmaX2, SNR, t, R):\n",
    "    # 送信電力から雑音電力を計算する\n",
    "    sigman2 = np.divide(sigmaX2, (10**(SNR/10)))\n",
    "\n",
    "    # sigmaN2を表示する\n",
    "    # print(sigman2)\n",
    "\n",
    "    # ガウス分布に従う雑音n(t)を生成する\n",
    "    noise = np.sqrt(sigman2/2) * (np.random.randn(len(t),len(R[:,0,0,0])) + 1j*np.random.randn(len(t),len(R[:,0,0,0])))\n",
    "\n",
    "    # n(t)の次元数を確認する\n",
    "    # print(noise.shape)\n",
    "\n",
    "    # n(t)の共分散行列を求める\n",
    "    N = np.dot(np.conj(noise).T, noise)\n",
    "\n",
    "    # Nの次元数を確認する\n",
    "    # print(\"R_n\", N.shape)\n",
    "\n",
    "    # Nの実部と虚部を分割する\n",
    "    real, imag = np.real(N), np.imag(N)\n",
    "\n",
    "    # Nを結合して次元数を確認する\n",
    "    N = np.stack([real, imag], axis=2)\n",
    "    # print(\"R_n\", N.shape)\n",
    "\n",
    "    return N\n",
    "\n",
    "for j in range(len(SNR)):\n",
    "\n",
    "    # 繰り返し回数と結果を格納するリストの定義\n",
    "    num_iterations = R.shape[2]\n",
    "    N = []\n",
    "\n",
    "    # 繰り返し処理\n",
    "    for _ in range(num_iterations):\n",
    "        # 関数の呼び出しと結果の取得\n",
    "        result = calculate_noise_covariance(sigmax2, SNR, t, R)\n",
    "        N.append(result)\n",
    "\n",
    "    N=np.array(N)\n",
    "    # 結果の出力\n",
    "    # for i, result in enumerate(results):\n",
    "    #     print(f\"Result {i+1}:\\n{result}\\n\")\n",
    "\n",
    "\n",
    "    #Nの次元数を確認する\n",
    "    # print(\"R\", R.shape)\n",
    "    # print(\"N\", N.shape)\n",
    "\n",
    "    #Nの0番目と2番目の次元数を入れ替える\n",
    "    N = np.swapaxes(N, 0, 2)\n",
    "    # print(N.shape)\n",
    "\n",
    "\n",
    "    #RにNを足す\n",
    "    R = R + N\n",
    "    # print('R.shape',R.shape)\n",
    "\n",
    "X = R\n",
    "Y = label\n",
    "\n",
    "\n",
    "\n",
    "print(X.shape)\n",
    "#Xを3次元配列に変換する\n",
    "X = np.reshape(X, (X.shape[2], X.shape[0], X.shape[1], X.shape[3]))\n",
    "\n",
    "print(X.shape)\n",
    "\n",
    "from sklearn.model_selection import train_test_split\n",
    "\n",
    "#学習データセットと検証データセットとテストデータセットの分割割合を変数で指定する\n",
    "train_size = 0.8\n",
    "val_size = 0.1\n",
    "test_size = 0.1\n",
    "\n",
    "#学習データセットと検証データセットとテストデータセットを分割する(シャッフルはしない)\n",
    "XTrain, XTest, YTrain, YTest = train_test_split(X, Y, test_size=1 - train_size, shuffle=False)\n",
    "XVal, XTest, YVal, YTest = train_test_split(XTest, YTest, test_size=test_size / (test_size + val_size), shuffle=False)\n",
    "\n",
    "#学習データセットと検証データセットとテストデータセットの次元数を確認する\n",
    "print(XTrain.shape)\n",
    "print(XVal.shape)\n",
    "print(XTest.shape)\n",
    "print(YTrain.shape)\n",
    "print(YVal.shape)\n",
    "print(YTest.shape)\n",
    "\n",
    "#入力の次元はそれぞれ(サンプル数、タイムステップ数、特徴量)である\n",
    "# Xの2番目の次元と3番目の次元を入れ替える\n",
    "XTrain = np.swapaxes(XTrain, 1, 3)\n",
    "XVal = np.swapaxes(XVal, 1, 3)\n",
    "XTest = np.swapaxes(XTest, 1, 3)\n",
    "\n",
    "\n",
    "#学習データセットと検証データセットとテストデータセットの次元数を確認する\n",
    "print(\"----------------\")\n",
    "print(XTrain.shape)\n",
    "print(XVal.shape)\n",
    "print(XTest.shape)\n",
    "print(YTrain.shape)\n",
    "print(YVal.shape)\n",
    "print(YTest.shape)\n"
   ],
   "metadata": {
    "collapsed": false,
    "ExecuteTime": {
     "end_time": "2023-11-02T00:28:19.299559207Z",
     "start_time": "2023-11-02T00:28:17.850984389Z"
    }
   },
   "id": "3b13a0fc1eac8e59"
  },
  {
   "cell_type": "code",
   "execution_count": 11,
   "outputs": [],
   "source": [
    "from sklearn.model_selection import train_test_split\n",
    "\n",
    "#学習データセットと検証データセットとテストデータセットの分割割合を変数で指定する\n",
    "# train_size = 0.8\n",
    "# val_size = 0.1\n",
    "# test_size = 0.1\n",
    "# \n",
    "# #学習データセットと検証データセットとテストデータセットを分割する(シャッフルはしない)\n",
    "# XTrain, XTest, YTrain, YTest = train_test_split(X, Y, test_size=1 - train_size, shuffle=False)\n",
    "# XVal, XTest, YVal, YTest = train_test_split(XTest, YTest, test_size=test_size / (test_size + val_size), shuffle=False)\n",
    "# \n",
    "# #学習データセットと検証データセットとテストデータセットの次元数を確認する\n",
    "# print(XTrain.shape)\n",
    "# print(XVal.shape)\n",
    "# print(XTest.shape)\n",
    "# print(YTrain.shape)\n",
    "# print(YVal.shape)\n",
    "# print(YTest.shape)\n",
    "\n",
    "\n"
   ],
   "metadata": {
    "collapsed": false,
    "ExecuteTime": {
     "end_time": "2023-11-02T00:28:19.305176494Z",
     "start_time": "2023-11-02T00:28:19.300547433Z"
    }
   },
   "id": "6d8f5ee38d78f88"
  },
  {
   "cell_type": "code",
   "execution_count": 12,
   "outputs": [
    {
     "name": "stdout",
     "output_type": "stream",
     "text": [
      "tensor([[[178.5566, 203.2116, 226.2144, 205.4617, 219.3922, 206.8442, 190.0326,\n",
      "          195.5954, 205.0042, 198.6296],\n",
      "         [197.9975, 209.1307, 208.8246, 209.0579, 191.8882, 198.6481, 208.7677,\n",
      "          202.6179, 212.3744, 222.8536],\n",
      "         [211.6037, 185.0160, 205.9583, 186.7566, 201.4909, 226.4475, 207.0111,\n",
      "          186.8232, 183.9675, 188.7362],\n",
      "         [218.5253, 227.5741, 188.2650, 205.6237, 187.6031, 182.0199, 196.7366,\n",
      "          204.0526, 210.4445, 205.9383],\n",
      "         [223.6752, 172.5849, 208.1568, 174.5844, 217.9298, 207.2027, 227.5067,\n",
      "          191.1805, 214.8840, 196.5103],\n",
      "         [201.7951, 218.9229, 217.0637, 198.6113, 214.8759, 184.0698, 202.2646,\n",
      "          191.3552, 194.3965, 186.2613],\n",
      "         [230.2507, 187.1354, 208.0122, 171.3708, 187.9412, 235.9746, 219.5634,\n",
      "          216.6669, 209.1167, 218.0125],\n",
      "         [191.6526, 192.1590, 221.8696, 192.6059, 217.6520, 206.6221, 196.8731,\n",
      "          176.6768, 218.8793, 193.4862],\n",
      "         [211.1207, 196.5240, 206.8336, 175.7800, 230.9472, 181.0637, 208.9562,\n",
      "          195.4044, 195.9217, 191.0963],\n",
      "         [192.0966, 190.5587, 209.8384, 198.9120, 204.3752, 208.5375, 227.3232,\n",
      "          205.9342, 204.8201, 205.7735]],\n",
      "\n",
      "        [[  0.0000,   0.0000,   0.0000,   0.0000,   0.0000,   0.0000,   0.0000,\n",
      "            0.0000,   0.0000,   0.0000],\n",
      "         [  0.0000,   0.0000,   0.0000,   0.0000,   0.0000,   0.0000,   0.0000,\n",
      "            0.0000,   0.0000,   0.0000],\n",
      "         [  0.0000,   0.0000,   0.0000,   0.0000,   0.0000,   0.0000,   0.0000,\n",
      "            0.0000,   0.0000,   0.0000],\n",
      "         [  0.0000,   0.0000,   0.0000,   0.0000,   0.0000,   0.0000,   0.0000,\n",
      "            0.0000,   0.0000,   0.0000],\n",
      "         [  0.0000,   0.0000,   0.0000,   0.0000,   0.0000,   0.0000,   0.0000,\n",
      "            0.0000,   0.0000,   0.0000],\n",
      "         [  0.0000,   0.0000,   0.0000,   0.0000,   0.0000,   0.0000,   0.0000,\n",
      "            0.0000,   0.0000,   0.0000],\n",
      "         [  0.0000,   0.0000,   0.0000,   0.0000,   0.0000,   0.0000,   0.0000,\n",
      "            0.0000,   0.0000,   0.0000],\n",
      "         [  0.0000,   0.0000,   0.0000,   0.0000,   0.0000,   0.0000,   0.0000,\n",
      "            0.0000,   0.0000,   0.0000],\n",
      "         [  0.0000,   0.0000,   0.0000,   0.0000,   0.0000,   0.0000,   0.0000,\n",
      "            0.0000,   0.0000,   0.0000],\n",
      "         [  0.0000,   0.0000,   0.0000,   0.0000,   0.0000,   0.0000,   0.0000,\n",
      "            0.0000,   0.0000,   0.0000]]]) tensor([ 0.1876, 59.9997])\n"
     ]
    }
   ],
   "source": [
    "from torch.utils.data import DataLoader\n",
    "#pytorchでのViTの実装\n",
    "import torch\n",
    "from vit_pytorch import ViT\n",
    "\n",
    "XTrain=torch.FloatTensor(XTrain)\n",
    "XVal=torch.FloatTensor(XVal)\n",
    "XTest=torch.FloatTensor(XTest)\n",
    "YTrain=torch.FloatTensor(YTrain)\n",
    "YVal=torch.FloatTensor(YVal)\n",
    "YTest=torch.FloatTensor(YTest)\n",
    "\n",
    "Dataset_train = torch.utils.data.TensorDataset(XTrain, YTrain)\n",
    "Dataset_val = torch.utils.data.TensorDataset(XVal, YVal)\n",
    "Dataset_test = torch.utils.data.TensorDataset(XTest, YTest)\n",
    "\n",
    "X_sample, y_sample = Dataset_train[0]\n",
    "print(X_sample, y_sample)\n",
    "batch_size = 32\n",
    "\n",
    "train_loader = DataLoader(dataset = Dataset_train, batch_size=batch_size, shuffle=True )\n",
    "valid_loader = DataLoader(dataset = Dataset_train, batch_size=batch_size, shuffle=True)\n",
    "test_loader = DataLoader(dataset = Dataset_train, batch_size=batch_size, shuffle=True)"
   ],
   "metadata": {
    "collapsed": false,
    "ExecuteTime": {
     "end_time": "2023-11-02T00:28:19.337380021Z",
     "start_time": "2023-11-02T00:28:19.304560260Z"
    }
   },
   "id": "fa9914af1904a0e0"
  },
  {
   "cell_type": "code",
   "execution_count": 13,
   "outputs": [
    {
     "name": "stdout",
     "output_type": "stream",
     "text": [
      "ViT(\n",
      "  (to_patch_embedding): Sequential(\n",
      "    (0): Rearrange('b c (h p1) (w p2) -> b (h w) (p1 p2 c)', p1=2, p2=2)\n",
      "    (1): LayerNorm((8,), eps=1e-05, elementwise_affine=True)\n",
      "    (2): Linear(in_features=8, out_features=256, bias=True)\n",
      "    (3): LayerNorm((256,), eps=1e-05, elementwise_affine=True)\n",
      "  )\n",
      "  (dropout): Dropout(p=0.2, inplace=False)\n",
      "  (transformer): Transformer(\n",
      "    (norm): LayerNorm((256,), eps=1e-05, elementwise_affine=True)\n",
      "    (layers): ModuleList(\n",
      "      (0-2): 3 x ModuleList(\n",
      "        (0): Attention(\n",
      "          (norm): LayerNorm((256,), eps=1e-05, elementwise_affine=True)\n",
      "          (attend): Softmax(dim=-1)\n",
      "          (dropout): Dropout(p=0.2, inplace=False)\n",
      "          (to_qkv): Linear(in_features=256, out_features=768, bias=False)\n",
      "          (to_out): Sequential(\n",
      "            (0): Linear(in_features=256, out_features=256, bias=True)\n",
      "            (1): Dropout(p=0.2, inplace=False)\n",
      "          )\n",
      "        )\n",
      "        (1): FeedForward(\n",
      "          (net): Sequential(\n",
      "            (0): LayerNorm((256,), eps=1e-05, elementwise_affine=True)\n",
      "            (1): Linear(in_features=256, out_features=256, bias=True)\n",
      "            (2): GELU(approximate='none')\n",
      "            (3): Dropout(p=0.2, inplace=False)\n",
      "            (4): Linear(in_features=256, out_features=256, bias=True)\n",
      "            (5): Dropout(p=0.2, inplace=False)\n",
      "          )\n",
      "        )\n",
      "      )\n",
      "    )\n",
      "  )\n",
      "  (to_latent): Identity()\n",
      "  (mlp_head): Linear(in_features=256, out_features=2, bias=True)\n",
      ")\n"
     ]
    }
   ],
   "source": [
    "device = torch.device('cuda:0' if torch.cuda.is_available() else 'cpu')\n",
    "# \n",
    "# net = ViT(\n",
    "#     image_size=10,\n",
    "#     patch_size=2,\n",
    "#     num_classes=2,\n",
    "#     dim=256,\n",
    "#     depth=3,\n",
    "#     heads=4,\n",
    "#     mlp_dim=256,\n",
    "#     dropout=0.1,\n",
    "#     emb_dropout=0.1\n",
    "# ).to(device)\n",
    "\n",
    "#回帰ViTモデルインスタンスを作成\n",
    "net = ViT(\n",
    "    image_size=10,\n",
    "    patch_size=2,\n",
    "    num_classes=2,\n",
    "    dim=256,\n",
    "    depth=3,\n",
    "    heads=4,\n",
    "    mlp_dim=256,\n",
    "    dropout=0.2,\n",
    "    emb_dropout=0.2,\n",
    "    channels=2\n",
    ").to(device)\n",
    "\n",
    "print(net)\n",
    "# net.mlp_head.out_features="
   ],
   "metadata": {
    "collapsed": false,
    "ExecuteTime": {
     "end_time": "2023-11-02T00:28:19.345075903Z",
     "start_time": "2023-11-02T00:28:19.321112484Z"
    }
   },
   "id": "f01268043cb2532d"
  },
  {
   "cell_type": "code",
   "execution_count": 14,
   "outputs": [
    {
     "data": {
      "text/plain": "====================================================================================================\nLayer (type:depth-idx)                             Output Shape              Param #\n====================================================================================================\nViT                                                [16, 2]                   6,912\n├─Sequential: 1-1                                  [16, 25, 256]             --\n│    └─Rearrange: 2-1                              [16, 25, 8]               --\n│    └─LayerNorm: 2-2                              [16, 25, 8]               16\n│    └─Linear: 2-3                                 [16, 25, 256]             2,304\n│    └─LayerNorm: 2-4                              [16, 25, 256]             512\n├─Dropout: 1-2                                     [16, 26, 256]             --\n├─Transformer: 1-3                                 [16, 26, 256]             --\n│    └─ModuleList: 2-5                             --                        --\n│    │    └─ModuleList: 3-1                        --                        395,008\n│    │    └─ModuleList: 3-2                        --                        395,008\n│    │    └─ModuleList: 3-3                        --                        395,008\n│    └─LayerNorm: 2-6                              [16, 26, 256]             512\n├─Identity: 1-4                                    [16, 256]                 --\n├─Linear: 1-5                                      [16, 2]                   514\n====================================================================================================\nTotal params: 1,195,794\nTrainable params: 1,195,794\nNon-trainable params: 0\nTotal mult-adds (M): 19.02\n====================================================================================================\nInput size (MB): 0.01\nForward/backward pass size (MB): 22.96\nParams size (MB): 4.76\nEstimated Total Size (MB): 27.73\n===================================================================================================="
     },
     "execution_count": 14,
     "metadata": {},
     "output_type": "execute_result"
    }
   ],
   "source": [
    "import torchvision.models as models\n",
    "from torchinfo import summary\n",
    "\n",
    "batch_size = 16\n",
    "summary(model=net, input_size=(batch_size, 2, 10, 10))\n",
    "\n",
    "\n",
    "# print((data[0].to(device)).shape)"
   ],
   "metadata": {
    "collapsed": false,
    "ExecuteTime": {
     "end_time": "2023-11-02T00:28:19.356084530Z",
     "start_time": "2023-11-02T00:28:19.343934378Z"
    }
   },
   "id": "68c9f2f8a1608752"
  },
  {
   "cell_type": "code",
   "execution_count": 15,
   "outputs": [
    {
     "name": "stderr",
     "output_type": "stream",
     "text": [
      "100%|██████████| 250/250 [00:01<00:00, 167.62it/s]\n"
     ]
    },
    {
     "name": "stdout",
     "output_type": "stream",
     "text": [
      "Epoch : 1 - loss : 1804.9608 - mse: 1804.9608 - val_loss : 1806.5863 - val_mse: 1806.5863\n"
     ]
    },
    {
     "name": "stderr",
     "output_type": "stream",
     "text": [
      "100%|██████████| 250/250 [00:01<00:00, 181.67it/s]\n"
     ]
    },
    {
     "name": "stdout",
     "output_type": "stream",
     "text": [
      "Epoch : 2 - loss : 1801.6261 - mse: 1801.6261 - val_loss : 1800.7227 - val_mse: 1800.7227\n"
     ]
    },
    {
     "name": "stderr",
     "output_type": "stream",
     "text": [
      "100%|██████████| 250/250 [00:01<00:00, 177.66it/s]\n"
     ]
    },
    {
     "name": "stdout",
     "output_type": "stream",
     "text": [
      "Epoch : 3 - loss : 1801.8105 - mse: 1801.8105 - val_loss : 1798.8778 - val_mse: 1798.8778\n"
     ]
    },
    {
     "name": "stderr",
     "output_type": "stream",
     "text": [
      "100%|██████████| 250/250 [00:01<00:00, 180.18it/s]\n"
     ]
    },
    {
     "name": "stdout",
     "output_type": "stream",
     "text": [
      "Epoch : 4 - loss : 1801.2510 - mse: 1801.2510 - val_loss : 1800.4983 - val_mse: 1800.4983\n"
     ]
    },
    {
     "name": "stderr",
     "output_type": "stream",
     "text": [
      "100%|██████████| 250/250 [00:01<00:00, 182.98it/s]\n"
     ]
    },
    {
     "name": "stdout",
     "output_type": "stream",
     "text": [
      "Epoch : 5 - loss : 1800.9425 - mse: 1800.9425 - val_loss : 1800.7527 - val_mse: 1800.7527\n"
     ]
    },
    {
     "name": "stderr",
     "output_type": "stream",
     "text": [
      "100%|██████████| 250/250 [00:01<00:00, 179.38it/s]\n"
     ]
    },
    {
     "name": "stdout",
     "output_type": "stream",
     "text": [
      "Epoch : 6 - loss : 1799.0775 - mse: 1799.0775 - val_loss : 1807.3882 - val_mse: 1807.3882\n"
     ]
    },
    {
     "name": "stderr",
     "output_type": "stream",
     "text": [
      "100%|██████████| 250/250 [00:01<00:00, 178.80it/s]\n"
     ]
    },
    {
     "name": "stdout",
     "output_type": "stream",
     "text": [
      "Epoch : 7 - loss : 1799.4268 - mse: 1799.4268 - val_loss : 1797.2378 - val_mse: 1797.2378\n"
     ]
    },
    {
     "name": "stderr",
     "output_type": "stream",
     "text": [
      "100%|██████████| 250/250 [00:01<00:00, 179.65it/s]\n"
     ]
    },
    {
     "name": "stdout",
     "output_type": "stream",
     "text": [
      "Epoch : 8 - loss : 1798.3596 - mse: 1798.3596 - val_loss : 1794.8013 - val_mse: 1794.8013\n"
     ]
    },
    {
     "name": "stderr",
     "output_type": "stream",
     "text": [
      "100%|██████████| 250/250 [00:01<00:00, 180.45it/s]\n"
     ]
    },
    {
     "name": "stdout",
     "output_type": "stream",
     "text": [
      "Epoch : 9 - loss : 1798.4672 - mse: 1798.4672 - val_loss : 1799.2043 - val_mse: 1799.2043\n"
     ]
    },
    {
     "name": "stderr",
     "output_type": "stream",
     "text": [
      "100%|██████████| 250/250 [00:01<00:00, 177.18it/s]\n"
     ]
    },
    {
     "name": "stdout",
     "output_type": "stream",
     "text": [
      "Epoch : 10 - loss : 1800.0068 - mse: 1800.0068 - val_loss : 1797.9069 - val_mse: 1797.9069\n"
     ]
    },
    {
     "name": "stderr",
     "output_type": "stream",
     "text": [
      "100%|██████████| 250/250 [00:01<00:00, 179.25it/s]\n"
     ]
    },
    {
     "name": "stdout",
     "output_type": "stream",
     "text": [
      "Epoch : 11 - loss : 1799.7207 - mse: 1799.7207 - val_loss : 1798.2654 - val_mse: 1798.2654\n"
     ]
    },
    {
     "name": "stderr",
     "output_type": "stream",
     "text": [
      "100%|██████████| 250/250 [00:01<00:00, 205.65it/s]\n"
     ]
    },
    {
     "name": "stdout",
     "output_type": "stream",
     "text": [
      "Epoch : 12 - loss : 1799.5129 - mse: 1799.5129 - val_loss : 1797.1436 - val_mse: 1797.1436\n"
     ]
    },
    {
     "name": "stderr",
     "output_type": "stream",
     "text": [
      "100%|██████████| 250/250 [00:01<00:00, 206.76it/s]\n"
     ]
    },
    {
     "name": "stdout",
     "output_type": "stream",
     "text": [
      "Epoch : 13 - loss : 1796.8914 - mse: 1796.8914 - val_loss : 1793.1122 - val_mse: 1793.1122\n"
     ]
    },
    {
     "name": "stderr",
     "output_type": "stream",
     "text": [
      "100%|██████████| 250/250 [00:01<00:00, 205.26it/s]\n"
     ]
    },
    {
     "name": "stdout",
     "output_type": "stream",
     "text": [
      "Epoch : 14 - loss : 1796.6005 - mse: 1796.6005 - val_loss : 1796.0028 - val_mse: 1796.0028\n"
     ]
    },
    {
     "name": "stderr",
     "output_type": "stream",
     "text": [
      "100%|██████████| 250/250 [00:01<00:00, 203.53it/s]\n"
     ]
    },
    {
     "name": "stdout",
     "output_type": "stream",
     "text": [
      "Epoch : 15 - loss : 1796.5146 - mse: 1796.5146 - val_loss : 1801.0234 - val_mse: 1801.0234\n"
     ]
    },
    {
     "name": "stderr",
     "output_type": "stream",
     "text": [
      "100%|██████████| 250/250 [00:01<00:00, 203.35it/s]\n"
     ]
    },
    {
     "name": "stdout",
     "output_type": "stream",
     "text": [
      "Epoch : 16 - loss : 1796.6461 - mse: 1796.6461 - val_loss : 1797.8081 - val_mse: 1797.8081\n"
     ]
    },
    {
     "name": "stderr",
     "output_type": "stream",
     "text": [
      "100%|██████████| 250/250 [00:01<00:00, 204.83it/s]\n"
     ]
    },
    {
     "name": "stdout",
     "output_type": "stream",
     "text": [
      "Epoch : 17 - loss : 1796.1895 - mse: 1796.1895 - val_loss : 1800.6816 - val_mse: 1800.6816\n"
     ]
    },
    {
     "name": "stderr",
     "output_type": "stream",
     "text": [
      "100%|██████████| 250/250 [00:01<00:00, 204.98it/s]\n"
     ]
    },
    {
     "name": "stdout",
     "output_type": "stream",
     "text": [
      "Epoch : 18 - loss : 1797.9608 - mse: 1797.9608 - val_loss : 1796.8740 - val_mse: 1796.8740\n"
     ]
    },
    {
     "name": "stderr",
     "output_type": "stream",
     "text": [
      "100%|██████████| 250/250 [00:01<00:00, 203.58it/s]\n"
     ]
    },
    {
     "name": "stdout",
     "output_type": "stream",
     "text": [
      "Epoch : 19 - loss : 1798.9386 - mse: 1798.9386 - val_loss : 1800.4648 - val_mse: 1800.4648\n"
     ]
    },
    {
     "name": "stderr",
     "output_type": "stream",
     "text": [
      "100%|██████████| 250/250 [00:01<00:00, 204.90it/s]\n"
     ]
    },
    {
     "name": "stdout",
     "output_type": "stream",
     "text": [
      "Epoch : 20 - loss : 1798.3901 - mse: 1798.3901 - val_loss : 1797.0398 - val_mse: 1797.0398\n"
     ]
    }
   ],
   "source": [
    "import torch.nn as nn\n",
    "import torch.optim as optim\n",
    "from torch.optim.lr_scheduler import StepLR\n",
    "\n",
    "epochs = 20\n",
    "lr = 1e-2\n",
    "gamma = 0.9\n",
    "\n",
    "##ここを追記↓##\n",
    "train_mse_list = []\n",
    "val_mse_list = []\n",
    "train_loss_list = []\n",
    "val_loss_list = []\n",
    "\n",
    "# epoch_loss = []\n",
    "# epoch_accuracy = []\n",
    "##############\n",
    "\n",
    "#回帰用損失関数\n",
    "criterion = nn.MSELoss()\n",
    "optimizer =optim.Adam(net.parameters(), lr=lr)\n",
    "scheduler = StepLR(optimizer, step_size=1, gamma=gamma)\n",
    "\n",
    "\n",
    "\n",
    "\n",
    "for epoch in range(epochs):\n",
    "    epoch_loss = 0\n",
    "    epoch_mse = 0\n",
    "\n",
    "    for data, label in tqdm(train_loader):\n",
    "        data = data.to(device)\n",
    "        label = label.to(device)\n",
    "        \n",
    "        # print(type(label))\n",
    "        \n",
    "        output = net(data)\n",
    "        # print(output)\n",
    "        \n",
    "        # print(type(output))\n",
    "        \n",
    "        loss = criterion(output, label)\n",
    "\n",
    "        optimizer.zero_grad()\n",
    "        loss.backward()\n",
    "        optimizer.step()\n",
    "\n",
    "#推定値と正解値の平均二乗誤差を計算する\n",
    "        mse = torch.mean(torch.square(output - label))\n",
    "        epoch_mse += mse / len(train_loader)\n",
    "        epoch_loss += loss / len(train_loader)\n",
    "\n",
    "    with torch.no_grad():\n",
    "        epoch_val_mse = 0\n",
    "        epoch_val_loss = 0\n",
    "        for data, label in valid_loader:\n",
    "            data = data.to(device)\n",
    "            label = label.to(device)\n",
    "\n",
    "            val_output = net(data)\n",
    "            # print(val_output)\n",
    "            val_loss = criterion(val_output, label)\n",
    "\n",
    "            mse = torch.mean(torch.square(val_output - label))\n",
    "            epoch_val_mse += mse / len(valid_loader)\n",
    "            epoch_val_loss += val_loss / len(valid_loader)\n",
    "\n",
    "    print(\n",
    "        f\"Epoch : {epoch+1} - loss : {epoch_loss:.4f} - mse: {epoch_mse:.4f} - val_loss : {epoch_val_loss:.4f} - val_mse: {epoch_val_mse:.4f}\\n\"\n",
    "    )\n",
    "\n",
    "    ##ここを追記↓##\n",
    "    train_mse_list.append(epoch_mse)\n",
    "    val_mse_list.append(epoch_val_mse)\n",
    "    train_loss_list.append(epoch_loss)\n",
    "    val_loss_list.append(epoch_val_loss)\n",
    "    ##############\n"
   ],
   "metadata": {
    "collapsed": false,
    "ExecuteTime": {
     "end_time": "2023-11-02T00:29:03.521716058Z",
     "start_time": "2023-11-02T00:28:19.360821905Z"
    }
   },
   "id": "72e742e035923fd3"
  },
  {
   "cell_type": "code",
   "execution_count": 16,
   "outputs": [
    {
     "data": {
      "text/plain": "<Figure size 960x320 with 3 Axes>",
      "image/png": "[encoded data removed]"
     },
     "metadata": {},
     "output_type": "display_data"
    }
   ],
   "source": [
    "import seaborn as sns\n",
    "\n",
    "device2 = torch.device('cpu')\n",
    "\n",
    "train_mse = []\n",
    "train_loss = []\n",
    "val_mse = []\n",
    "val_loss = []\n",
    "\n",
    "for i in range(epochs):\n",
    "    train_mse2 = train_mse_list[i].to(device2)\n",
    "    train_mse3 = train_mse2.clone().detach().numpy()\n",
    "    train_mse.append(train_mse3)\n",
    "    \n",
    "    train_loss2 = train_loss_list[i].to(device2)\n",
    "    train_loss3 = train_loss2.clone().detach().numpy()\n",
    "    train_loss.append(train_loss3)\n",
    "    \n",
    "    val_mse2 = val_mse_list[i].to(device2)\n",
    "    val_mse3 = val_mse2.clone().detach().numpy()\n",
    "    val_mse.append(val_mse3)\n",
    "    \n",
    "    val_loss2 = val_loss_list[i].to(device2)\n",
    "    val_loss3 = val_loss2.clone().detach().numpy()\n",
    "    val_loss.append(val_loss3)\n",
    "\n",
    "#取得したデータをグラフ化する\n",
    "sns.set()\n",
    "num_epochs = epochs\n",
    "\n",
    "fig = plt.subplots(figsize=(12, 4), dpi=80)\n",
    "plt.tick_params(labelbottom=False, labelleft=False, labelright=False, labeltop=False)\n",
    "# plt.tight_layout()\n",
    "\n",
    "\n",
    "ax1 = plt.subplot(1,2,1,)\n",
    "\n",
    "plt.xlim(0, num_epochs)\n",
    "ax1.plot(range(num_epochs), train_mse, c='b', label='train mse')\n",
    "ax1.plot(range(num_epochs), val_mse, c='r', label='val mse')\n",
    "ax1.set_xlabel('epoch', fontsize='12')\n",
    "ax1.set_ylabel('mse', fontsize='12')\n",
    "ax1.set_title('training and val mse', fontsize='14')\n",
    "ax1.legend(fontsize='12')\n",
    "\n",
    "ax2 = plt.subplot(1,2,2)\n",
    "plt.xlim(0, num_epochs)\n",
    "ax2.plot(range(num_epochs), train_loss, c='b', label='train loss')\n",
    "ax2.plot(range(num_epochs), val_loss, c='r', label='val loss')\n",
    "ax2.set_xlabel('epoch', fontsize='12')\n",
    "ax2.set_ylabel('loss', fontsize='12')\n",
    "ax2.set_title('training and val loss', fontsize='14')\n",
    "ax2.legend(fontsize='12')\n",
    "plt.show()"
   ],
   "metadata": {
    "collapsed": false,
    "ExecuteTime": {
     "end_time": "2023-11-02T00:29:04.274521178Z",
     "start_time": "2023-11-02T00:29:03.525985369Z"
    }
   },
   "id": "453651321d5b773d"
  },
  {
   "cell_type": "code",
   "execution_count": 16,
   "outputs": [],
   "source": [],
   "metadata": {
    "collapsed": false,
    "ExecuteTime": {
     "end_time": "2023-11-02T00:29:04.276365100Z",
     "start_time": "2023-11-02T00:29:04.274806417Z"
    }
   },
   "id": "9ea560616dfbaf8c"
  },
  {
   "cell_type": "code",
   "execution_count": 16,
   "outputs": [],
   "source": [],
   "metadata": {
    "collapsed": false,
    "ExecuteTime": {
     "end_time": "2023-11-02T00:29:04.280389649Z",
     "start_time": "2023-11-02T00:29:04.277203332Z"
    }
   },
   "id": "dece670f48be1547"
  }
 ],
 "metadata": {
  "kernelspec": {
   "display_name": "Python 3",
   "language": "python",
   "name": "python3"
  },
  "language_info": {
   "codemirror_mode": {
    "name": "ipython",
    "version": 2
   },
   "file_extension": ".py",
   "mimetype": "text/x-python",
   "name": "python",
   "nbconvert_exporter": "python",
   "pygments_lexer": "ipython2",
   "version": "2.7.6"
  }
 },
 "nbformat": 4,
 "nbformat_minor": 5
}
