{
 "cells": [
  {
   "cell_type": "code",
   "execution_count": 8,
   "outputs": [
    {
     "name": "stdout",
     "output_type": "stream",
     "text": [
      "(10, 10, 10000)\n",
      "(10000, 101)\n",
      "(10000, 1)\n",
      "(10, 10, 10000)\n",
      "(10, 10, 10000)\n",
      "(10, 10, 10000, 2)\n",
      "1\n"
     ]
    },
    {
     "data": {
      "text/plain": "<Figure size 640x480 with 1 Axes>",
      "image/png": "[encoded data removed]"
     },
     "metadata": {},
     "output_type": "display_data"
    },
    {
     "name": "stdout",
     "output_type": "stream",
     "text": [
      "(10, 10, 10000, 2)\n",
      "(10000, 10, 10, 2)\n",
      "[0. 0. 0. ... 0. 0. 0.]\n",
      "(8000, 10, 10, 2)\n",
      "(1000, 10, 10, 2)\n",
      "(1000, 10, 10, 2)\n",
      "(8000, 181)\n",
      "(1000, 181)\n",
      "(1000, 181)\n"
     ]
    }
   ],
   "source": [
    "#GPUを用いて、tensorflowを使ったseq2seq回帰LSTMモデルを作成する\n",
    "import pandas as pd\n",
    "import tensorflow as tf\n",
    "import numpy as np\n",
    "import matplotlib.pyplot as plt\n",
    "import japanize_matplotlib\n",
    "import scipy.io\n",
    "\n",
    "#データの読み込み\n",
    "mat_file = 'mat/test_gen_bpsk_long.mat'\n",
    "data = scipy.io.loadmat(mat_file)\n",
    "\n",
    "#matファイルの中身の変数名を確認する\n",
    "\n",
    "data.keys()\n",
    "a = data['R_xx']\n",
    "# a = data['R_xx_exist_Noise']\n",
    "b = data['inputVec']\n",
    "c = data['label']\n",
    "\n",
    "# d=data['sigmaX2']\n",
    "# e=data['t']\n",
    "#matに保存した変数の呼び出し\n",
    "#a,b,cの次元数を確認する\n",
    "print(a.shape)\n",
    "print(b.shape)\n",
    "print(c.shape)\n",
    "\n",
    "#共分散行列\n",
    "R = a\n",
    "\n",
    "\n",
    "# #入力信号の電力\n",
    "# sigmax2=d\n",
    "# #スナップショット数\n",
    "# t=e\n",
    "\n",
    "#実数部と虚数部(虚数単位jは外す)に分ける関数\n",
    "def split_complex(x):\n",
    "    real = np.real(x)\n",
    "    imag = np.imag(x)\n",
    "    return real, imag\n",
    "\n",
    "\n",
    "#実数部と虚数部に分ける\n",
    "real, imag = split_complex(R)\n",
    "\n",
    "#実数部と虚数部の次元数を確認する\n",
    "print(real.shape)\n",
    "print(imag.shape)\n",
    "\n",
    "#実数部と虚数部を結合し、四次元配列に変換する\n",
    "R = np.stack([real, imag], axis=3)\n",
    "\n",
    "#Rの次元数を確認する\n",
    "print(R.shape)\n",
    "\n",
    "#Rはx(t)=As(t)+n(t)という信号モデルの共分散行列(Rはx(t)の複素共役転置の期待値)である（Aは方向行列、s(t)は入力信号、n(t)はガウス雑音）\n",
    "#Rには、本来Aとs(t)とn(t)の情報が含まれているが、今回はn(t)を含まない\n",
    "#Rにn(t)を乗せる処理を書く\n",
    "#SNRを定義する\n",
    "SNR = np.empty((1, 1))\n",
    "np.append(SNR, 30)\n",
    "\n",
    "#送信電力とSNRから雑音電力を求める\n",
    "#送信電力は、sigmaX2である\n",
    "#雑音電力は、sigmaN2である\n",
    "# def calculate_noise_covariance(sigmaX2, SNR, t, R):\n",
    "#     # 送信電力から雑音電力を計算する\n",
    "#     # sigman2 = np.divide(sigmaX2, (10**(SNR/10)))\n",
    "#     #\n",
    "#     # # sigmaN2を表示する\n",
    "#     # print(sigman2)\n",
    "#     #\n",
    "#     # # ガウス分布に従う雑音n(t)を生成する\n",
    "#     # noise = np.sqrt(sigman2/2) * (np.random.randn(len(t),len(R[:,0,0,0])) + 1j*np.random.randn(len(t),len(R[:,0,0,0])))\n",
    "#     #\n",
    "#     # # n(t)の次元数を確認する\n",
    "#     # print(noise.shape)\n",
    "#\n",
    "#     # # n(t)の共分散行列を求める\n",
    "#     # N = np.dot(np.conj(noise).T, noise)\n",
    "#     # N = N / len(t)\n",
    "#     #\n",
    "#     # # Nの次元数を確認する\n",
    "#     # print(\"R_n\", N.shape)\n",
    "#\n",
    "#     # Nの実部と虚部を分割する\n",
    "#     real, imag = np.real(N), np.imag(N)\n",
    "#\n",
    "#     # Nを結合して次元数を確認する\n",
    "#     N = np.stack([real, imag], axis=2)\n",
    "#     print(\"R_n\", N.shape)\n",
    "#\n",
    "#     return N\n",
    "\n",
    "\n",
    "from decimal import Decimal, ROUND_HALF_UP, ROUND_HALF_EVEN\n",
    "\n",
    "#tensorflowを使ったseq2seq回帰LSTMモデルを作成する\n",
    "\n",
    "#分解能\n",
    "min_angle = -90\n",
    "max_angle = 90\n",
    "resolution = 1\n",
    "\n",
    "print(resolution)\n",
    "#matファイルで読み込んだinputVecとlabelからデータセットを作成する\n",
    "#データセットは、inputVecとlabelの組み合わせで、入力と出力を作成する\n",
    "X = R\n",
    "Y = (np.round(c / resolution)) * resolution\n",
    "\n",
    "#Yをプロットする\n",
    "plt.plot(Y)\n",
    "plt.show()\n",
    "\n",
    "#データセットを標準化する\n",
    "\n",
    "#時系列画像データの標準化をする\n",
    "#標準化すると、平均が0、標準偏差が1になる\n",
    "\n",
    "from sklearn.preprocessing import StandardScaler\n",
    "\n",
    "for j in range(X.shape[2]):\n",
    "    for i in range(X.shape[3]):\n",
    "        # シートごとのデータを抽出\n",
    "        sheet_data = X[:, :, j, i]\n",
    "\n",
    "        # 標準化器を作成し、データを標準化\n",
    "        scaler = StandardScaler()\n",
    "        sheet_data_standardized = scaler.fit_transform(sheet_data)\n",
    "\n",
    "        # 標準化されたデータを元の配列に戻す\n",
    "        X[:, :, j, i] = sheet_data_standardized\n",
    "\n",
    "#データセットの特徴量の値の大部分が同じデータのみの場合にその行（もしくは列）を削除する\n",
    "\n",
    "from sklearn.feature_selection import VarianceThreshold\n",
    "\n",
    "for j in range(X.shape[2]):\n",
    "    for i in range(X.shape[3]):\n",
    "        sheet_data = X[:, :, j, i]  # シートごとのデータを抽出\n",
    "\n",
    "        # VarianceThresholdを適用して行（もしくは列）を削除\n",
    "        selector = VarianceThreshold()\n",
    "        sheet_data_selected = selector.fit_transform(sheet_data)\n",
    "\n",
    "        # 削除後のデータを元の配列に戻す\n",
    "        if sheet_data_selected.ndim == 1:\n",
    "            sheet_data_selected = sheet_data_selected.reshape(-1, 1)\n",
    "        X[:, :, j, i] = sheet_data_selected\n",
    "\n",
    "print(X.shape)\n",
    "#Xを3次元配列に変換する\n",
    "X = np.reshape(X, (X.shape[2], X.shape[0], X.shape[1], X.shape[3]))\n",
    "\n",
    "print(X.shape)\n",
    "\n",
    "from sklearn.model_selection import train_test_split\n",
    "# from keras.utils import np_utils\n",
    "import numpy as np\n",
    "from sklearn.preprocessing import LabelBinarizer\n",
    "\n",
    "#学習データセットと検証データセットとテストデータセットの分割割合を変数で指定する\n",
    "train_size = 0.8\n",
    "val_size = 0.1\n",
    "test_size = 0.1\n",
    "\n",
    "#Yを平坦化する\n",
    "Y = Y.flatten()\n",
    "\n",
    "#Yを表示する\n",
    "print(Y)\n",
    "\n",
    "from sklearn.preprocessing import LabelEncoder\n",
    "\n",
    "#Yのユニークな値を表示する\n",
    "u = np.arange(min_angle, max_angle + 1.0, resolution)\n",
    "\n",
    "# import numpy as np\n",
    "from sklearn.preprocessing import LabelBinarizer\n",
    "\n",
    "transformer = LabelBinarizer().fit(u)\n",
    "\n",
    "# ラベル → one-hot 表現\n",
    "Y = transformer.transform(Y)\n",
    "# print(Y)\n",
    "# [[1 0 0]\n",
    "#  [0 1 0]]\n",
    "\n",
    "# # one-hot 表現 → ラベル\n",
    "# src = transformer.inverse_transform(np.array([[1, 0, 0], [0, 1, 0]]))\n",
    "# print(src)\n",
    "# # ['A' 'B']\n",
    "\n",
    "#Yを表示する\n",
    "# print(target_one_hot)\n",
    "\n",
    "#学習データセットと検証データセットとテストデータセットを分割する(シャッフルはしない)\n",
    "XTrain, XTest, YTrain, YTest = train_test_split(X, Y, test_size=1 - train_size, shuffle=False)\n",
    "XVal, XTest, YVal, YTest = train_test_split(XTest, YTest, test_size=test_size / (test_size + val_size), shuffle=False)\n",
    "\n",
    "#学習データセットと検証データセットとテストデータセットの次元数を確認する\n",
    "print(XTrain.shape)\n",
    "print(XVal.shape)\n",
    "print(XTest.shape)\n",
    "print(YTrain.shape)\n",
    "print(YVal.shape)\n",
    "print(YTest.shape)\n",
    "\n",
    "#入力の次元はそれぞれ(サンプル数、タイムステップ数、特徴量)である\n",
    "#Xの2番目の次元と3番目の次元を入れ替える\n",
    "XTrain = np.swapaxes(XTrain, 1, 2)\n",
    "XVal = np.swapaxes(XVal, 1, 2)\n",
    "XTest = np.swapaxes(XTest, 1, 2)\n"
   ],
   "metadata": {
    "collapsed": false,
    "ExecuteTime": {
     "end_time": "2023-12-18T09:24:28.932476425Z",
     "start_time": "2023-12-18T09:24:18.418699342Z"
    }
   }
  },
  {
   "cell_type": "code",
   "execution_count": 9,
   "outputs": [],
   "source": [
    "import tensorflow as tf\n",
    "from tensorflow.keras import layers\n",
    "\n",
    "tf.config.list_physical_devices('GPU')\n",
    "\n",
    "output_units=len(u)\n",
    "\n",
    "# モデルの構築\n",
    "model = tf.keras.Sequential([\n",
    "    layers.Conv2D(16, (3, 3), activation='relu', input_shape=(10, 10, 2)),\n",
    "    layers.MaxPooling2D((2, 2)),\n",
    "    layers.Conv2D(32, (3, 3), activation='relu'),\n",
    "    layers.MaxPooling2D((2, 2)),\n",
    "    layers.Flatten(),\n",
    "    layers.Dense(64, activation='relu'),\n",
    "    layers.Dense(output_units, activation='sigmoid')\n",
    "])\n",
    "\n",
    "# モデルのコンパイル\n",
    "model.compile(optimizer='adam',\n",
    "              loss='binary_crossentropy',\n",
    "              metrics=['accuracy'])\n",
    "\n"
   ],
   "metadata": {
    "collapsed": false,
    "ExecuteTime": {
     "end_time": "2023-12-18T09:24:28.966729157Z",
     "start_time": "2023-12-18T09:24:28.934852948Z"
    }
   }
  },
  {
   "cell_type": "code",
   "execution_count": 10,
   "outputs": [
    {
     "name": "stdout",
     "output_type": "stream",
     "text": [
      "Model: \"sequential_1\"\n",
      "_________________________________________________________________\n",
      " Layer (type)                Output Shape              Param #   \n",
      "=================================================================\n",
      " conv2d_2 (Conv2D)           (None, 8, 8, 16)          304       \n",
      "                                                                 \n",
      " max_pooling2d_2 (MaxPooling  (None, 4, 4, 16)         0         \n",
      " 2D)                                                             \n",
      "                                                                 \n",
      " conv2d_3 (Conv2D)           (None, 2, 2, 32)          4640      \n",
      "                                                                 \n",
      " max_pooling2d_3 (MaxPooling  (None, 1, 1, 32)         0         \n",
      " 2D)                                                             \n",
      "                                                                 \n",
      " flatten_1 (Flatten)         (None, 32)                0         \n",
      "                                                                 \n",
      " dense_2 (Dense)             (None, 64)                2112      \n",
      "                                                                 \n",
      " dense_3 (Dense)             (None, 181)               11765     \n",
      "                                                                 \n",
      "=================================================================\n",
      "Total params: 18,821\n",
      "Trainable params: 18,821\n",
      "Non-trainable params: 0\n",
      "_________________________________________________________________\n"
     ]
    }
   ],
   "source": [
    "# モデルのサマリを表示\n",
    "model.summary()"
   ],
   "metadata": {
    "collapsed": false,
    "ExecuteTime": {
     "end_time": "2023-12-18T09:24:29.010182544Z",
     "start_time": "2023-12-18T09:24:28.967514929Z"
    }
   }
  },
  {
   "cell_type": "code",
   "execution_count": 11,
   "outputs": [
    {
     "name": "stdout",
     "output_type": "stream",
     "text": [
      "Epoch 1/10\n",
      "250/250 [==============================] - 1s 2ms/step - loss: 0.1016 - accuracy: 0.0270 - val_loss: 0.0268 - val_accuracy: 0.2470\n",
      "Epoch 2/10\n",
      "250/250 [==============================] - 0s 2ms/step - loss: 0.0325 - accuracy: 0.0339 - val_loss: 0.0267 - val_accuracy: 0.1410\n",
      "Epoch 3/10\n",
      "250/250 [==============================] - 1s 2ms/step - loss: 0.0318 - accuracy: 0.0408 - val_loss: 0.0260 - val_accuracy: 0.2460\n",
      "Epoch 4/10\n",
      "250/250 [==============================] - 1s 2ms/step - loss: 0.0314 - accuracy: 0.0384 - val_loss: 0.0266 - val_accuracy: 0.0450\n",
      "Epoch 5/10\n",
      "250/250 [==============================] - 1s 2ms/step - loss: 0.0311 - accuracy: 0.0406 - val_loss: 0.0259 - val_accuracy: 0.1530\n",
      "Epoch 6/10\n",
      "250/250 [==============================] - 1s 2ms/step - loss: 0.0309 - accuracy: 0.0432 - val_loss: 0.0264 - val_accuracy: 0.1990\n",
      "Epoch 7/10\n",
      "250/250 [==============================] - 1s 2ms/step - loss: 0.0307 - accuracy: 0.0441 - val_loss: 0.0271 - val_accuracy: 0.0580\n",
      "Epoch 8/10\n",
      "250/250 [==============================] - 1s 2ms/step - loss: 0.0305 - accuracy: 0.0439 - val_loss: 0.0270 - val_accuracy: 0.1680\n",
      "Epoch 9/10\n",
      "250/250 [==============================] - 1s 2ms/step - loss: 0.0304 - accuracy: 0.0414 - val_loss: 0.0262 - val_accuracy: 0.1920\n",
      "Epoch 10/10\n",
      "250/250 [==============================] - 1s 2ms/step - loss: 0.0303 - accuracy: 0.0430 - val_loss: 0.0267 - val_accuracy: 0.0980\n",
      "Model: \"sequential_1\"\n",
      "_________________________________________________________________\n",
      " Layer (type)                Output Shape              Param #   \n",
      "=================================================================\n",
      " conv2d_2 (Conv2D)           (None, 8, 8, 16)          304       \n",
      "                                                                 \n",
      " max_pooling2d_2 (MaxPooling  (None, 4, 4, 16)         0         \n",
      " 2D)                                                             \n",
      "                                                                 \n",
      " conv2d_3 (Conv2D)           (None, 2, 2, 32)          4640      \n",
      "                                                                 \n",
      " max_pooling2d_3 (MaxPooling  (None, 1, 1, 32)         0         \n",
      " 2D)                                                             \n",
      "                                                                 \n",
      " flatten_1 (Flatten)         (None, 32)                0         \n",
      "                                                                 \n",
      " dense_2 (Dense)             (None, 64)                2112      \n",
      "                                                                 \n",
      " dense_3 (Dense)             (None, 181)               11765     \n",
      "                                                                 \n",
      "=================================================================\n",
      "Total params: 18,821\n",
      "Trainable params: 18,821\n",
      "Non-trainable params: 0\n",
      "_________________________________________________________________\n"
     ]
    }
   ],
   "source": [
    "\n",
    "history = model.fit(XTrain, YTrain, epochs=10, validation_data=(XVal, YVal))\n",
    "# モデルのサマリを表示\n",
    "model.summary()\n"
   ],
   "metadata": {
    "collapsed": false,
    "ExecuteTime": {
     "end_time": "2023-12-18T09:24:34.454001091Z",
     "start_time": "2023-12-18T09:24:29.008913490Z"
    }
   }
  },
  {
   "cell_type": "code",
   "execution_count": 12,
   "outputs": [
    {
     "name": "stdout",
     "output_type": "stream",
     "text": [
      "32/32 - 0s - loss: 0.0320 - accuracy: 0.0030 - 43ms/epoch - 1ms/step\n",
      "0.003000000026077032\n"
     ]
    }
   ],
   "source": [
    "# モデルの評価\n",
    "test_loss, test_acc = model.evaluate(XTest, YTest, verbose=2)\n",
    "print(test_acc)\n"
   ],
   "metadata": {
    "collapsed": false,
    "ExecuteTime": {
     "end_time": "2023-12-18T09:24:34.496691780Z",
     "start_time": "2023-12-18T09:24:34.452845231Z"
    }
   }
  },
  {
   "cell_type": "code",
   "execution_count": 13,
   "outputs": [],
   "source": [
    "# モデルの保存\n",
    "model.save('my_model.h5')\n"
   ],
   "metadata": {
    "collapsed": false,
    "ExecuteTime": {
     "end_time": "2023-12-18T09:24:34.506290276Z",
     "start_time": "2023-12-18T09:24:34.496436699Z"
    }
   }
  },
  {
   "cell_type": "code",
   "execution_count": 14,
   "outputs": [],
   "source": [
    "#"
   ],
   "metadata": {
    "collapsed": false,
    "ExecuteTime": {
     "end_time": "2023-12-18T09:24:34.509330351Z",
     "start_time": "2023-12-18T09:24:34.507090215Z"
    }
   }
  }
 ],
 "metadata": {
  "kernelspec": {
   "display_name": "Python 3",
   "language": "python",
   "name": "python3"
  },
  "language_info": {
   "codemirror_mode": {
    "name": "ipython",
    "version": 2
   },
   "file_extension": ".py",
   "mimetype": "text/x-python",
   "name": "python",
   "nbconvert_exporter": "python",
   "pygments_lexer": "ipython2",
   "version": "2.7.6"
  }
 },
 "nbformat": 4,
 "nbformat_minor": 0
}
